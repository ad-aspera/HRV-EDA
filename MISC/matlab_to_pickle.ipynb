{
 "cells": [
  {
   "cell_type": "code",
   "execution_count": 27,
   "metadata": {},
   "outputs": [
    {
     "name": "stdout",
     "output_type": "stream",
     "text": [
      "MAT files in the folder:\n",
      "['19070921.mat', '19072205.mat', '19072214.mat', '19072938.mat', '19072940.mat', '19080106.mat', '19081506.mat', '19082406.mat', '19090308.mat', '19090320.mat', '19101607.mat', '19101619.mat', '19102103.mat', '19102524.mat', '19102622.mat', '19120302.mat', '19120704.mat', '19120723.mat', '19121303.mat', '19121735.mat', '20010826.mat', '20010827.mat', '20011712.mat', '20050628.mat', '20052606.mat', '20061729.mat', '20092226.mat', '20092535.mat', '20101424.mat', '20101822.mat', '20102029.mat', '20120116.mat', '20120922.mat', '20121033.mat', '20121716.mat', '20121718.mat', '20122932.mat', '20123017.mat']\n",
      "* {'DS': array([[1068, 1016,  968, ..., 1032, 1020, 1044]], dtype=uint16), 'REM': array([[1088, 1112, 1072, ..., 1096, 1064, 1136]], dtype=uint16), 'RS': array([[1204, 1188, 1100, ..., 1004, 1044, 1036]], dtype=uint16)}\n",
      "* {'DS': array([[1180, 1048, 1196, ..., 1332, 1220, 1264]], dtype=uint16), 'REM': array([[1128, 1048, 1116, ..., 1132,  964, 1004]], dtype=uint16), 'RS': array([[1068, 1104, 1056, ..., 1064, 1120, 1144]], dtype=uint16)}\n",
      "* {'DS': array([[696, 688, 684, ..., 792, 832, 812]], dtype=uint16), 'REM': array([[752, 740, 724, ..., 856, 844, 832]], dtype=uint16), 'RS': array([[720, 696, 700, ..., 800, 796, 784]], dtype=uint16)}\n",
      "* {'DS': array([[ 964,  948,  912, ..., 1000, 1048, 1052]], dtype=uint16), 'REM': array([[888, 900, 872, ..., 944, 900, 892]], dtype=uint16), 'RS': array([[1036, 1080,  980, ...,  936,  936,  968]], dtype=uint16)}\n",
      "* {'DS': array([[664, 692, 644, ..., 780, 816, 816]], dtype=uint16), 'REM': array([[860, 888, 896, ..., 728, 712, 696]], dtype=uint16), 'RS': array([[632, 632, 628, ..., 884, 892, 900]], dtype=uint16)}\n",
      "* {'DS': array([[704, 724, 732, ..., 780, 760, 808]], dtype=uint16), 'REM': array([[812, 800, 796, ..., 736, 732, 752]], dtype=uint16), 'RS': array([[776, 756, 792, ..., 736, 760, 756]], dtype=uint16)}\n",
      "* {'DS': array([[560, 560, 556, ..., 924, 952, 928]], dtype=uint16), 'REM': array([[884, 860, 840, ..., 856, 840, 832]], dtype=uint16), 'RS': array([[ 904,  924, 1068, ..., 1048,  988, 1028]], dtype=uint16)}\n",
      "* {'DS': array([[636, 640, 644, ..., 932, 936, 888]], dtype=uint16), 'REM': array([[848, 832, 944, ..., 816, 788, 808]], dtype=uint16), 'RS': array([[ 860,  896,  884, ..., 1060, 1092, 1028]], dtype=uint16)}\n",
      "* {'DS': array([[768, 776, 768, ..., 816, 804, 820]], dtype=uint16), 'REM': array([[940, 924, 900, ..., 804, 816, 812]], dtype=uint16), 'RS': array([[820, 844, 844, ..., 840, 816, 840]], dtype=uint16)}\n",
      "* {'DS': array([[ 968, 1000, 1012, ...,  956,  892,  908]], dtype=uint16), 'REM': array([[ 940,  884,  804, ..., 1000,  976,  940]], dtype=uint16), 'RS': array([[ 980, 1024, 1048, ...,  916,  948,  996]], dtype=uint16)}\n",
      "* {'DS': array([[ 888,  896,  892, ...,  844, 1088, 1128]], dtype=uint16), 'REM': array([[ 928,  928,  928, ..., 1124, 1104, 1100]], dtype=uint16), 'RS': array([[ 960,  960,  964, ..., 1096, 1088, 1080]], dtype=uint16)}\n",
      "* {'DS': array([[768, 768, 764, ..., 696, 696, 696]], dtype=uint16), 'REM': array([[724, 720, 712, ..., 708, 712, 712]], dtype=uint16), 'RS': array([[712, 708, 708, ..., 700, 696, 692]], dtype=uint16)}\n",
      "* {'DS': array([[684, 680, 688, ..., 856, 856, 868]], dtype=uint16), 'REM': array([[792, 760, 724, ..., 812, 816, 804]], dtype=uint16), 'RS': array([[744, 740, 736, ..., 736, 756, 748]], dtype=uint16)}\n",
      "* {'DS': array([[ 932,  968,  984, ..., 1152, 1140, 1096]], dtype=uint16), 'REM': array([[856, 920, 984, ..., 960, 952, 940]], dtype=uint16), 'RS': array([[ 976,  884,  864, ..., 1180, 1188, 1140]], dtype=uint16)}\n",
      "* {'DS': array([[720, 732, 752, ..., 940, 900, 828]], dtype=uint16), 'REM': array([[ 776,  780,  748, ..., 1072,  972, 1096]], dtype=uint16), 'RS': array([[860, 908, 888, ..., 868, 912, 992]], dtype=uint16)}\n",
      "* {'DS': array([[788, 756, 692, ..., 980, 956, 904]], dtype=uint16), 'REM': array([[776, 732, 736, ..., 876, 892, 928]], dtype=uint16), 'RS': array([[ 692,  696,  708, ..., 1052,  996, 1028]], dtype=uint16)}\n",
      "* {'DS': array([[948, 928, 952, ..., 952, 972, 964]], dtype=uint16), 'REM': array([[956, 980, 984, ..., 956, 988, 980]], dtype=uint16), 'RS': array([[960, 912, 944, ..., 996, 996, 972]], dtype=uint16)}\n",
      "* {'DS': array([[888, 880, 876, ..., 928, 924, 940]], dtype=uint16), 'REM': array([[904, 896, 904, ..., 896, 892, 900]], dtype=uint16), 'RS': array([[ 908,  904,  904, ..., 1040, 1060, 1028]], dtype=uint16)}\n",
      "* {'DS': array([[860, 840, 848, ..., 860, 832, 920]], dtype=uint16), 'REM': array([[908, 900, 884, ..., 804, 812, 796]], dtype=uint16), 'RS': array([[1012, 1124, 1104, ...,  664,  656,  636]], dtype=uint16)}\n",
      "* {'DS': array([[572, 572, 584, ..., 876, 896, 900]], dtype=uint16), 'REM': array([[804, 816, 820, ..., 680, 688, 704]], dtype=uint16), 'RS': array([[572, 572, 584, ..., 812, 800, 788]], dtype=uint16)}\n",
      "* {'DS': array([[612, 612, 616, ..., 832, 844, 852]], dtype=uint16), 'REM': array([[640, 632, 640, ..., 812, 816, 812]], dtype=uint16), 'RS': array([[748, 744, 744, ..., 840, 836, 828]], dtype=uint16)}\n",
      "* {'DS': array([[928, 928, 940, ..., 840, 828, 836]], dtype=uint16), 'REM': array([[ 996,  988, 1000, ..., 1000,  972,  976]], dtype=uint16), 'RS': array([[1016, 1012, 1020, ...,  908,  920,  904]], dtype=uint16)}\n",
      "* {'DS': array([[ 936,  956,  960, ..., 1004, 1020, 1048]], dtype=uint16), 'REM': array([[ 884,  884,  884, ...,  960, 1008, 1020]], dtype=uint16), 'RS': array([[ 908,  916,  916, ..., 1016, 1032, 1016]], dtype=uint16)}\n",
      "* {'DS': array([[656, 648, 652, ..., 912, 940, 956]], dtype=uint16), 'REM': array([[ 888,  904,  916, ..., 1136, 1112, 1116]], dtype=uint16), 'RS': array([[ 872,  872,  860, ..., 1048, 1012, 1056]], dtype=uint16)}\n",
      "* {'DS': array([[676, 684, 692, ..., 824, 848, 836]], dtype=uint16), 'REM': array([[688, 688, 692, ..., 660, 656, 656]], dtype=uint16), 'RS': array([[796, 772, 784, ..., 896, 916, 920]], dtype=uint16)}\n",
      "* {'DS': array([[740, 728, 736, ..., 824, 820, 816]], dtype=uint16), 'REM': array([[824, 804, 804, ..., 796, 792, 796]], dtype=uint16), 'RS': array([[772, 808, 772, ..., 852, 868, 876]], dtype=uint16)}\n",
      "* {'DS': array([[ 820,  816,  804, ..., 1100, 1076, 1120]], dtype=uint16), 'REM': array([[ 956,  980, 1032, ..., 1044, 1048, 1080]], dtype=uint16), 'RS': array([[ 924,  908,  916, ..., 1004,  988,  964]], dtype=uint16)}\n",
      "* {'DS': array([[756, 760, 752, ..., 752, 760, 768]], dtype=uint16), 'REM': array([[768, 760, 768, ..., 724, 732, 728]], dtype=uint16), 'RS': array([[788, 776, 796, ..., 752, 756, 756]], dtype=uint16)}\n",
      "* {'DS': array([[876, 864, 864, ..., 892, 884, 896]], dtype=uint16), 'REM': array([[832, 832, 824, ..., 836, 852, 844]], dtype=uint16), 'RS': array([[ 924,  916,  924, ..., 1004,  996,  984]], dtype=uint16)}\n",
      "* {'DS': array([[656, 640, 644, ..., 812, 844, 836]], dtype=uint16), 'REM': array([[1036, 1004, 1040, ...,  580,  564,  576]], dtype=uint16), 'RS': array([[ 912,  956,  972, ..., 1040, 1024, 1064]], dtype=uint16)}\n",
      "* {'DS': array([[1028, 1044, 1056, ..., 1108, 1128, 1132]], dtype=uint16), 'REM': array([[1048, 1072, 1112, ...,  960,  940, 1000]], dtype=uint16), 'RS': array([[1124, 1120, 1140, ..., 1108, 1156, 1160]], dtype=uint16)}\n",
      "* {'DS': array([[692, 696, 708, ..., 744, 748, 740]], dtype=uint16), 'REM': array([[668, 676, 676, ..., 752, 748, 748]], dtype=uint16), 'RS': array([[696, 700, 704, ..., 760, 768, 768]], dtype=uint16)}\n",
      "* {'DS': array([[788, 780, 768, ..., 868, 920, 836]], dtype=uint16), 'REM': array([[772, 768, 788, ..., 860, 864, 868]], dtype=uint16), 'RS': array([[860, 852, 856, ..., 904, 916, 904]], dtype=uint16)}\n",
      "* {'DS': array([[952, 968, 964, ..., 896, 900, 912]], dtype=uint16), 'REM': array([[796, 788, 784, ..., 896, 884, 888]], dtype=uint16), 'RS': array([[932, 948, 936, ..., 920, 900, 916]], dtype=uint16)}\n",
      "* {'DS': array([[816, 824, 816, ..., 572, 568, 568]], dtype=uint16), 'REM': array([[804, 780, 776, ..., 820, 760, 792]], dtype=uint16), 'RS': array([[856, 772, 764, ..., 848, 820, 864]], dtype=uint16)}\n",
      "* {'DS': array([[1132, 1128, 1136, ..., 1088, 1076, 1076]], dtype=uint16), 'REM': array([[1040, 1052, 1060, ..., 1140, 1168, 1164]], dtype=uint16), 'RS': array([[1128, 1132, 1112, ..., 1164, 1148, 1120]], dtype=uint16)}\n",
      "* {'DS': array([[852, 864, 872, ..., 684, 672, 668]], dtype=uint16), 'REM': array([[876, 876, 880, ..., 672, 656, 692]], dtype=uint16), 'RS': array([[996, 992, 964, ..., 984, 952, 940]], dtype=uint16)}\n",
      "* {'DS': array([[832, 836, 796, ..., 828, 868, 856]], dtype=uint16), 'REM': array([[796, 836, 832, ..., 820, 800, 824]], dtype=uint16), 'RS': array([[828, 800, 820, ..., 884, 868, 832]], dtype=uint16)}\n"
     ]
    },
    {
     "name": "stderr",
     "output_type": "stream",
     "text": [
      "<>:5: SyntaxWarning: invalid escape sequence '\\R'\n",
      "<>:5: SyntaxWarning: invalid escape sequence '\\R'\n",
      "C:\\Users\\326po\\AppData\\Local\\Temp\\ipykernel_23196\\1586298711.py:5: SyntaxWarning: invalid escape sequence '\\R'\n",
      "  folder_path = 'cheng_et_al_2024\\RR-interval'\n"
     ]
    }
   ],
   "source": [
    "import os\n",
    "from scipy.io import loadmat\n",
    "\n",
    "# Define the folder path\n",
    "folder_path = 'cheng_et_al_2024\\RR-interval'\n",
    "\n",
    "# List all files in the folder\n",
    "files = os.listdir(folder_path)\n",
    "\n",
    "# Filter out the .mat files\n",
    "mat_files = [file for file in files if file.endswith('.mat')]\n",
    "\n",
    "# Display the names of the .mat files\n",
    "print(\"MAT files in the folder:\")\n",
    "print(mat_files)\n",
    "\n",
    "\n",
    "data = {}\n",
    "# Optionally, you can load the .mat files and display their content\n",
    "for mat_file in mat_files:\n",
    "    file_path = os.path.join(folder_path, mat_file)\n",
    "    mat_content = loadmat(file_path)\n",
    "    #print(f\"Content of {mat_file}:\")\n",
    "    #print(mat_content)\n",
    "    # Convert the data into a dictionary\n",
    "    data_dict = {key: mat_content[key] for key in mat_content.keys() if not key.startswith('__')}\n",
    "    print(\"*\", data_dict)\n",
    "    data[mat_file.removesuffix(\".mat\")] = data_dict"
   ]
  },
  {
   "cell_type": "code",
   "execution_count": 29,
   "metadata": {},
   "outputs": [
    {
     "name": "stdout",
     "output_type": "stream",
     "text": [
      "Data dictionary with pandas Series:\n",
      "{'19070921': {'DS': array([[1068, 1016,  968, ..., 1032, 1020, 1044]], dtype=uint16), 'REM': array([[1088, 1112, 1072, ..., 1096, 1064, 1136]], dtype=uint16), 'RS': array([[1204, 1188, 1100, ..., 1004, 1044, 1036]], dtype=uint16)}, '19072205': {'DS': array([[1180, 1048, 1196, ..., 1332, 1220, 1264]], dtype=uint16), 'REM': array([[1128, 1048, 1116, ..., 1132,  964, 1004]], dtype=uint16), 'RS': array([[1068, 1104, 1056, ..., 1064, 1120, 1144]], dtype=uint16)}, '19072214': {'DS': array([[696, 688, 684, ..., 792, 832, 812]], dtype=uint16), 'REM': array([[752, 740, 724, ..., 856, 844, 832]], dtype=uint16), 'RS': array([[720, 696, 700, ..., 800, 796, 784]], dtype=uint16)}, '19072938': {'DS': array([[ 964,  948,  912, ..., 1000, 1048, 1052]], dtype=uint16), 'REM': array([[888, 900, 872, ..., 944, 900, 892]], dtype=uint16), 'RS': array([[1036, 1080,  980, ...,  936,  936,  968]], dtype=uint16)}, '19072940': {'DS': array([[664, 692, 644, ..., 780, 816, 816]], dtype=uint16), 'REM': array([[860, 888, 896, ..., 728, 712, 696]], dtype=uint16), 'RS': array([[632, 632, 628, ..., 884, 892, 900]], dtype=uint16)}, '19080106': {'DS': array([[704, 724, 732, ..., 780, 760, 808]], dtype=uint16), 'REM': array([[812, 800, 796, ..., 736, 732, 752]], dtype=uint16), 'RS': array([[776, 756, 792, ..., 736, 760, 756]], dtype=uint16)}, '19081506': {'DS': array([[560, 560, 556, ..., 924, 952, 928]], dtype=uint16), 'REM': array([[884, 860, 840, ..., 856, 840, 832]], dtype=uint16), 'RS': array([[ 904,  924, 1068, ..., 1048,  988, 1028]], dtype=uint16)}, '19082406': {'DS': array([[636, 640, 644, ..., 932, 936, 888]], dtype=uint16), 'REM': array([[848, 832, 944, ..., 816, 788, 808]], dtype=uint16), 'RS': array([[ 860,  896,  884, ..., 1060, 1092, 1028]], dtype=uint16)}, '19090308': {'DS': array([[768, 776, 768, ..., 816, 804, 820]], dtype=uint16), 'REM': array([[940, 924, 900, ..., 804, 816, 812]], dtype=uint16), 'RS': array([[820, 844, 844, ..., 840, 816, 840]], dtype=uint16)}, '19090320': {'DS': array([[ 968, 1000, 1012, ...,  956,  892,  908]], dtype=uint16), 'REM': array([[ 940,  884,  804, ..., 1000,  976,  940]], dtype=uint16), 'RS': array([[ 980, 1024, 1048, ...,  916,  948,  996]], dtype=uint16)}, '19101607': {'DS': array([[ 888,  896,  892, ...,  844, 1088, 1128]], dtype=uint16), 'REM': array([[ 928,  928,  928, ..., 1124, 1104, 1100]], dtype=uint16), 'RS': array([[ 960,  960,  964, ..., 1096, 1088, 1080]], dtype=uint16)}, '19101619': {'DS': array([[768, 768, 764, ..., 696, 696, 696]], dtype=uint16), 'REM': array([[724, 720, 712, ..., 708, 712, 712]], dtype=uint16), 'RS': array([[712, 708, 708, ..., 700, 696, 692]], dtype=uint16)}, '19102103': {'DS': array([[684, 680, 688, ..., 856, 856, 868]], dtype=uint16), 'REM': array([[792, 760, 724, ..., 812, 816, 804]], dtype=uint16), 'RS': array([[744, 740, 736, ..., 736, 756, 748]], dtype=uint16)}, '19102524': {'DS': array([[ 932,  968,  984, ..., 1152, 1140, 1096]], dtype=uint16), 'REM': array([[856, 920, 984, ..., 960, 952, 940]], dtype=uint16), 'RS': array([[ 976,  884,  864, ..., 1180, 1188, 1140]], dtype=uint16)}, '19102622': {'DS': array([[720, 732, 752, ..., 940, 900, 828]], dtype=uint16), 'REM': array([[ 776,  780,  748, ..., 1072,  972, 1096]], dtype=uint16), 'RS': array([[860, 908, 888, ..., 868, 912, 992]], dtype=uint16)}, '19120302': {'DS': array([[788, 756, 692, ..., 980, 956, 904]], dtype=uint16), 'REM': array([[776, 732, 736, ..., 876, 892, 928]], dtype=uint16), 'RS': array([[ 692,  696,  708, ..., 1052,  996, 1028]], dtype=uint16)}, '19120704': {'DS': array([[948, 928, 952, ..., 952, 972, 964]], dtype=uint16), 'REM': array([[956, 980, 984, ..., 956, 988, 980]], dtype=uint16), 'RS': array([[960, 912, 944, ..., 996, 996, 972]], dtype=uint16)}, '19120723': {'DS': array([[888, 880, 876, ..., 928, 924, 940]], dtype=uint16), 'REM': array([[904, 896, 904, ..., 896, 892, 900]], dtype=uint16), 'RS': array([[ 908,  904,  904, ..., 1040, 1060, 1028]], dtype=uint16)}, '19121303': {'DS': array([[860, 840, 848, ..., 860, 832, 920]], dtype=uint16), 'REM': array([[908, 900, 884, ..., 804, 812, 796]], dtype=uint16), 'RS': array([[1012, 1124, 1104, ...,  664,  656,  636]], dtype=uint16)}, '19121735': {'DS': array([[572, 572, 584, ..., 876, 896, 900]], dtype=uint16), 'REM': array([[804, 816, 820, ..., 680, 688, 704]], dtype=uint16), 'RS': array([[572, 572, 584, ..., 812, 800, 788]], dtype=uint16)}, '20010826': {'DS': array([[612, 612, 616, ..., 832, 844, 852]], dtype=uint16), 'REM': array([[640, 632, 640, ..., 812, 816, 812]], dtype=uint16), 'RS': array([[748, 744, 744, ..., 840, 836, 828]], dtype=uint16)}, '20010827': {'DS': array([[928, 928, 940, ..., 840, 828, 836]], dtype=uint16), 'REM': array([[ 996,  988, 1000, ..., 1000,  972,  976]], dtype=uint16), 'RS': array([[1016, 1012, 1020, ...,  908,  920,  904]], dtype=uint16)}, '20011712': {'DS': array([[ 936,  956,  960, ..., 1004, 1020, 1048]], dtype=uint16), 'REM': array([[ 884,  884,  884, ...,  960, 1008, 1020]], dtype=uint16), 'RS': array([[ 908,  916,  916, ..., 1016, 1032, 1016]], dtype=uint16)}, '20050628': {'DS': array([[656, 648, 652, ..., 912, 940, 956]], dtype=uint16), 'REM': array([[ 888,  904,  916, ..., 1136, 1112, 1116]], dtype=uint16), 'RS': array([[ 872,  872,  860, ..., 1048, 1012, 1056]], dtype=uint16)}, '20052606': {'DS': array([[676, 684, 692, ..., 824, 848, 836]], dtype=uint16), 'REM': array([[688, 688, 692, ..., 660, 656, 656]], dtype=uint16), 'RS': array([[796, 772, 784, ..., 896, 916, 920]], dtype=uint16)}, '20061729': {'DS': array([[740, 728, 736, ..., 824, 820, 816]], dtype=uint16), 'REM': array([[824, 804, 804, ..., 796, 792, 796]], dtype=uint16), 'RS': array([[772, 808, 772, ..., 852, 868, 876]], dtype=uint16)}, '20092226': {'DS': array([[ 820,  816,  804, ..., 1100, 1076, 1120]], dtype=uint16), 'REM': array([[ 956,  980, 1032, ..., 1044, 1048, 1080]], dtype=uint16), 'RS': array([[ 924,  908,  916, ..., 1004,  988,  964]], dtype=uint16)}, '20092535': {'DS': array([[756, 760, 752, ..., 752, 760, 768]], dtype=uint16), 'REM': array([[768, 760, 768, ..., 724, 732, 728]], dtype=uint16), 'RS': array([[788, 776, 796, ..., 752, 756, 756]], dtype=uint16)}, '20101424': {'DS': array([[876, 864, 864, ..., 892, 884, 896]], dtype=uint16), 'REM': array([[832, 832, 824, ..., 836, 852, 844]], dtype=uint16), 'RS': array([[ 924,  916,  924, ..., 1004,  996,  984]], dtype=uint16)}, '20101822': {'DS': array([[656, 640, 644, ..., 812, 844, 836]], dtype=uint16), 'REM': array([[1036, 1004, 1040, ...,  580,  564,  576]], dtype=uint16), 'RS': array([[ 912,  956,  972, ..., 1040, 1024, 1064]], dtype=uint16)}, '20102029': {'DS': array([[1028, 1044, 1056, ..., 1108, 1128, 1132]], dtype=uint16), 'REM': array([[1048, 1072, 1112, ...,  960,  940, 1000]], dtype=uint16), 'RS': array([[1124, 1120, 1140, ..., 1108, 1156, 1160]], dtype=uint16)}, '20120116': {'DS': array([[692, 696, 708, ..., 744, 748, 740]], dtype=uint16), 'REM': array([[668, 676, 676, ..., 752, 748, 748]], dtype=uint16), 'RS': array([[696, 700, 704, ..., 760, 768, 768]], dtype=uint16)}, '20120922': {'DS': array([[788, 780, 768, ..., 868, 920, 836]], dtype=uint16), 'REM': array([[772, 768, 788, ..., 860, 864, 868]], dtype=uint16), 'RS': array([[860, 852, 856, ..., 904, 916, 904]], dtype=uint16)}, '20121033': {'DS': array([[952, 968, 964, ..., 896, 900, 912]], dtype=uint16), 'REM': array([[796, 788, 784, ..., 896, 884, 888]], dtype=uint16), 'RS': array([[932, 948, 936, ..., 920, 900, 916]], dtype=uint16)}, '20121716': {'DS': array([[816, 824, 816, ..., 572, 568, 568]], dtype=uint16), 'REM': array([[804, 780, 776, ..., 820, 760, 792]], dtype=uint16), 'RS': array([[856, 772, 764, ..., 848, 820, 864]], dtype=uint16)}, '20121718': {'DS': array([[1132, 1128, 1136, ..., 1088, 1076, 1076]], dtype=uint16), 'REM': array([[1040, 1052, 1060, ..., 1140, 1168, 1164]], dtype=uint16), 'RS': array([[1128, 1132, 1112, ..., 1164, 1148, 1120]], dtype=uint16)}, '20122932': {'DS': array([[852, 864, 872, ..., 684, 672, 668]], dtype=uint16), 'REM': array([[876, 876, 880, ..., 672, 656, 692]], dtype=uint16), 'RS': array([[996, 992, 964, ..., 984, 952, 940]], dtype=uint16)}, '20123017': {'DS': array([[832, 836, 796, ..., 828, 868, 856]], dtype=uint16), 'REM': array([[796, 836, 832, ..., 820, 800, 824]], dtype=uint16), 'RS': array([[828, 800, 820, ..., 884, 868, 832]], dtype=uint16)}}\n",
      "Data dictionary saved to data.json\n"
     ]
    },
    {
     "name": "stderr",
     "output_type": "stream",
     "text": [
      "<>:8: SyntaxWarning: invalid escape sequence '\\d'\n",
      "<>:8: SyntaxWarning: invalid escape sequence '\\d'\n",
      "C:\\Users\\326po\\AppData\\Local\\Temp\\ipykernel_23196\\2175528477.py:8: SyntaxWarning: invalid escape sequence '\\d'\n",
      "  with open('actionable_data\\data.pkl', 'wb') as pickle_file:\n"
     ]
    }
   ],
   "source": [
    "import json\n",
    "import pickle\n",
    "\n",
    "print(\"Data dictionary with pandas Series:\")\n",
    "print(data)\n",
    "\n",
    "# Save the data dictionary to a pickle file\n",
    "with open('actionable_data\\data.pkl', 'wb') as pickle_file:\n",
    "    pickle.dump(data, pickle_file)\n",
    "\n",
    "print(\"Data dictionary saved to data.json\")"
   ]
  }
 ],
 "metadata": {
  "kernelspec": {
   "display_name": "Python 3",
   "language": "python",
   "name": "python3"
  },
  "language_info": {
   "codemirror_mode": {
    "name": "ipython",
    "version": 3
   },
   "file_extension": ".py",
   "mimetype": "text/x-python",
   "name": "python",
   "nbconvert_exporter": "python",
   "pygments_lexer": "ipython3",
   "version": "3.12.0"
  }
 },
 "nbformat": 4,
 "nbformat_minor": 2
}
