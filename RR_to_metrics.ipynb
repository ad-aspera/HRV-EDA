{
 "cells": [
  {
   "cell_type": "markdown",
   "metadata": {},
   "source": [
    "# Process RR_peaks to metrics\n",
    "\n",
    "**The following notebook** \n",
    "* Reads the RR peaks file\n",
    "* Derives metrics from 5 min intervals\n",
    "* Joins clinical indicator file with metrics on patient id \n",
    "* Saves the file"
   ]
  },
  {
   "cell_type": "code",
   "execution_count": null,
   "metadata": {},
   "outputs": [],
   "source": [
    "import pandas as pd\n",
    "import h5py\n",
    "import helper\n",
    "\n",
    "read_path = \"our_processing\\ML_Data.h5\"\n",
    "pickle_path = 'our_processing/Waj_05_02_2025.pkl'"
   ]
  },
  {
   "cell_type": "markdown",
   "metadata": {},
   "source": [
    "Read the RR_Peaks file [\"our_processing\\ML_Data.h5\"](\"our_processing\\ML_Data.h5\")"
   ]
  },
  {
   "cell_type": "code",
   "execution_count": null,
   "metadata": {},
   "outputs": [],
   "source": [
    "\n",
    "\n",
    "def read_data(file_path, group_name, signal_name= \"filtered_intervals\"):\n",
    "    with h5py.File(file_path, \"r\") as hdf:\n",
    "        group = hdf[group_name]\n",
    "        data = group[signal_name][()]\n",
    "    return data\n",
    "\n",
    "group_names = [\n",
    "\"19070921\", \"19072205\", \"19072214\",\n",
    "\"19072938\", \"19072939\", \"19072940\",\n",
    "\"19080106\", \"19080715\", \"19081506\",\n",
    "\"19082406\", \"19090308\", \"19090320\",\n",
    "\"19101607\", \"19101619\", \"19102102\",\n",
    "\"19102103\", \"19102524\", \"19102622\",\n",
    "\"19112609\", \"19120302\", \"19120323\",\n",
    "\"19120704\", \"19120723\", \"19121303\",\n",
    "\"19121735\", \"20010826\", \"20010827\",\n",
    "\"20011712\", \"20050628\", \"20052606\",\n",
    "\"20061729\", \"20092226\", \"20092535\",\n",
    "\"20101424\", \"20101822\", \"20102029\",\n",
    "\"20120116\", \"20120922\", \"20121033\",\n",
    "\"20121716\", \"20121718\", \"20122932\", \"20123017\"]\n",
    "\n",
    "patient_arrays = {group_name: read_data(read_path, group_name) for group_name in group_names}\n",
    "\n",
    "patient_arrays"
   ]
  },
  {
   "cell_type": "markdown",
   "metadata": {},
   "source": [
    "Calculate the metrics for each patient."
   ]
  },
  {
   "cell_type": "code",
   "execution_count": null,
   "metadata": {},
   "outputs": [],
   "source": [
    "metrics_df = pd.DataFrame()\n",
    "\n",
    "for id, signal in patient_arrays.items():\n",
    "    individual_metrics = helper.patients_metrics(signal)\n",
    "    individual_metrics['id'] = id\n",
    "    print(individual_metrics)\n",
    "    metrics_df = pd.concat([metrics_df, individual_metrics], ignore_index=True)"
   ]
  },
  {
   "cell_type": "markdown",
   "metadata": {},
   "source": [
    "Read the clinical indicators"
   ]
  },
  {
   "cell_type": "code",
   "execution_count": null,
   "metadata": {},
   "outputs": [],
   "source": [
    "clin_indic = helper.df_from_excel('actionable_data/Clinical indicators.xlsx')\n",
    "clin_indic.rename(columns={'number': 'id'}, inplace=True)\n",
    "clin_indic['id'] = clin_indic['id'].astype(str)\n",
    "display(clin_indic.columns)"
   ]
  },
  {
   "cell_type": "markdown",
   "metadata": {},
   "source": [
    "Inner merge the clinical indicators and processing results"
   ]
  },
  {
   "cell_type": "code",
   "execution_count": null,
   "metadata": {},
   "outputs": [],
   "source": [
    "metrics_df[\"id\"].astype(str)\n",
    "merged_data = metrics_df.merge(clin_indic, on='id', how='inner')\n",
    "\n",
    "merged_data.head()"
   ]
  },
  {
   "cell_type": "code",
   "execution_count": null,
   "metadata": {},
   "outputs": [],
   "source": [
    "merged_data.to_pickle(pickle_path)\n",
    "merged_data.to_csv(pickle_path.replace(\".pkl\", '.csv'), index=False)"
   ]
  }
 ],
 "metadata": {
  "language_info": {
   "name": "python"
  }
 },
 "nbformat": 4,
 "nbformat_minor": 2
}
