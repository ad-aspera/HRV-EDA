{
 "cells": [
  {
   "cell_type": "markdown",
   "metadata": {},
   "source": [
    "# Process RR_peaks to metrics\n",
    "\n",
    "**The following notebook** \n",
    "* Reads the RR peaks file\n",
    "* Derives metrics from 5 min intervals\n",
    "* Joins clinical indicator file with metrics on patient id \n",
    "* Saves the file"
   ]
  },
  {
   "cell_type": "code",
   "execution_count": 1,
   "metadata": {},
   "outputs": [],
   "source": [
    "import pandas as pd\n",
    "import h5py\n",
    "import helper\n",
    "\n",
    "read_path = \"our_processing/Nabian_2018_derrived_data.h5\"\n",
    "pickle_path = 'our_processing/Nabian_2025_10_02.pkl'"
   ]
  },
  {
   "cell_type": "markdown",
   "metadata": {},
   "source": [
    "Read the RR_Peaks file [\"our_processing\\ML_Data.h5\"](\"our_processing\\ML_Data.h5\")"
   ]
  },
  {
   "cell_type": "code",
   "execution_count": null,
   "metadata": {},
   "outputs": [
    {
     "data": {
      "text/plain": [
       "{'19070921': array([764., 772., 780., ..., 708., 696., 704.]),\n",
       " '19072205': array([824., 772., 776., ..., 820., 800., 804.]),\n",
       " '19072214': array([1268.,  632.,  644., ..., 1332., 1576., 1812.]),\n",
       " '19072938': array([684., 700., 724., ..., 688., 676., 448.]),\n",
       " '19072939': array([732., 720., 668., ..., 656., 664., 556.]),\n",
       " '19072940': array([ 668.,  656.,  656., ..., 1016.,  472.,  912.]),\n",
       " '19080106': array([892., 888., 856., ..., 816., 816., 560.]),\n",
       " '19080715': array([1100.,  948.,  964., ..., 1228., 1044., 1440.]),\n",
       " '19081506': array([ 884.,  832.,  824., ..., 1016.,  520., 1608.]),\n",
       " '19082406': array([ 692.,  680.,  668., ..., 1780.,  792., 1276.]),\n",
       " '19090308': array([624., 624., 620., ..., 764., 768., 748.]),\n",
       " '19090320': array([708., 712., 684., ..., 636., 644., 620.]),\n",
       " '19101607': array([1508.,  956.,  972., ...,  604.,  848., 1388.]),\n",
       " '19101619': array([1356.,  952.,  944., ...,  740.,  752.,  748.]),\n",
       " '19102102': array([784., 804., 784., ..., 648., 648., 644.]),\n",
       " '19102103': array([ 744.,  748.,  744., ..., 1708., 1676., 1628.]),\n",
       " '19102524': array([788., 784., 752., ..., 876., 896., 568.]),\n",
       " '19102622': array([ 840.,  828.,  888., ...,  756.,  664., 1404.]),\n",
       " '19112609': array([ 512., 1144., 1136., ..., 1048., 1016., 1032.]),\n",
       " '19120302': array([ 668.,  680.,  684., ...,  692.,  968., 1204.]),\n",
       " '19120323': array([ 596.,  608.,  592., ..., 1196., 1208., 1696.]),\n",
       " '19120704': array([1156.,  476.,  800., ...,  712.,  744.,  620.]),\n",
       " '19120723': array([856., 856., 848., ..., 824., 820., 688.]),\n",
       " '19121303': array([704., 716., 724., ..., 796., 856., 852.]),\n",
       " '19121735': array([ 864.,  852.,  436., ...,  660., 1544., 1024.]),\n",
       " '20010826': array([1060., 1132.,  424., ...,  876.,  668.,  672.]),\n",
       " '20010827': array([ 728.,  780.,  784., ...,  560., 1124., 1436.]),\n",
       " '20011712': array([940., 932., 936., ..., 848., 824., 744.]),\n",
       " '20050628': array([ 828.,  848.,  832., ..., 1156.,  800., 1300.]),\n",
       " '20052606': array([708., 712., 716., ..., 712., 688., 856.]),\n",
       " '20061729': array([ 656.,  648.,  648., ...,  668.,  656., 1024.]),\n",
       " '20092226': array([936., 956., 952., ..., 908., 896., 696.]),\n",
       " '20092535': array([ 428., 1244.,  632., ...,  740.,  740., 1032.]),\n",
       " '20101424': array([ 520.,  828.,  812., ...,  872., 1344.,  980.]),\n",
       " '20101822': array([1084.,  700.,  676., ...,  740.,  832., 1296.]),\n",
       " '20102029': array([912., 908., 908., ..., 860., 880., 900.]),\n",
       " '20120116': array([ 692.,  684.,  676., ..., 1096.,  572., 1060.]),\n",
       " '20120922': array([708., 696., 688., ..., 616., 528., 768.]),\n",
       " '20121033': array([ 840.,  848.,  836., ...,  684., 1416.,  608.]),\n",
       " '20121716': array([ 640.,  616.,  616., ...,  652.,  648., 1588.]),\n",
       " '20121718': array([1608.,  980.,  980., ...,  604., 1756., 1724.]),\n",
       " '20122932': array([ 736.,  732.,  724., ...,  752.,  812., 1156.]),\n",
       " '20123017': array([812., 812., 820., ..., 708., 724., 732.])}"
      ]
     },
     "execution_count": 2,
     "metadata": {},
     "output_type": "execute_result"
    }
   ],
   "source": [
    "\n",
    "\n",
    "def read_data(file_path, group_name, signal_name= \"r_intervals\"):\n",
    "    with h5py.File(file_path, \"r\") as hdf:\n",
    "        group = hdf[group_name]\n",
    "        data = group[signal_name][()]\n",
    "    return data\n",
    "\n",
    "def get_page_names(file_path):\n",
    "    with h5py.File(file_path, \"r\") as hdf:\n",
    "        page_names = list(hdf.keys())\n",
    "    return page_names\n",
    "\n",
    "page_names = get_page_names(read_path)\n",
    "print(page_names)\n",
    "\n",
    "patient_arrays = {group_name: read_data(read_path, group_name) for group_name in page_names}\n",
    "\n",
    "patient_arrays"
   ]
  },
  {
   "cell_type": "code",
   "execution_count": null,
   "metadata": {},
   "outputs": [
    {
     "name": "stdout",
     "output_type": "stream",
     "text": [
      "['19070921', '19072205', '19072214', '19072938', '19072939', '19072940', '19080106', '19080715', '19081506', '19082406', '19090308', '19090320', '19101607', '19101619', '19102102', '19102103', '19102524', '19102622', '19112609', '19120302', '19120323', '19120704', '19120723', '19121303', '19121735', '20010826', '20010827', '20011712', '20050628', '20052606', '20061729', '20092226', '20092535', '20101424', '20101822', '20102029', '20120116', '20120922', '20121033', '20121716', '20121718', '20122932', '20123017']\n"
     ]
    }
   ],
   "source": []
  },
  {
   "cell_type": "markdown",
   "metadata": {},
   "source": [
    "Calculate the metrics for each patient."
   ]
  },
  {
   "cell_type": "code",
   "execution_count": 3,
   "metadata": {},
   "outputs": [
    {
     "name": "stdout",
     "output_type": "stream",
     "text": [
      "19070921 processed\n",
      "19072205 processed\n",
      "19072214 processed\n",
      "19072938 processed\n"
     ]
    },
    {
     "ename": "IndexError",
     "evalue": "index 0 is out of bounds for axis 0 with size 0",
     "output_type": "error",
     "traceback": [
      "\u001b[1;31m---------------------------------------------------------------------------\u001b[0m",
      "\u001b[1;31mIndexError\u001b[0m                                Traceback (most recent call last)",
      "Cell \u001b[1;32mIn[3], line 4\u001b[0m\n\u001b[0;32m      1\u001b[0m metrics_df \u001b[38;5;241m=\u001b[39m pd\u001b[38;5;241m.\u001b[39mDataFrame()\n\u001b[0;32m      3\u001b[0m \u001b[38;5;28;01mfor\u001b[39;00m \u001b[38;5;28mid\u001b[39m, signal \u001b[38;5;129;01min\u001b[39;00m patient_arrays\u001b[38;5;241m.\u001b[39mitems():\n\u001b[1;32m----> 4\u001b[0m     individual_metrics \u001b[38;5;241m=\u001b[39m \u001b[43mhelper\u001b[49m\u001b[38;5;241;43m.\u001b[39;49m\u001b[43mpatients_metrics\u001b[49m\u001b[43m(\u001b[49m\u001b[43msignal\u001b[49m\u001b[43m)\u001b[49m\n\u001b[0;32m      5\u001b[0m     individual_metrics[\u001b[38;5;124m'\u001b[39m\u001b[38;5;124mid\u001b[39m\u001b[38;5;124m'\u001b[39m] \u001b[38;5;241m=\u001b[39m \u001b[38;5;28mid\u001b[39m\n\u001b[0;32m      6\u001b[0m     \u001b[38;5;28mprint\u001b[39m(\u001b[38;5;28mid\u001b[39m, \u001b[38;5;124m\"\u001b[39m\u001b[38;5;124mprocessed\u001b[39m\u001b[38;5;124m\"\u001b[39m)\n",
      "File \u001b[1;32mc:\\GITHUB\\HRV\\HRV-EDA\\helper.py:69\u001b[0m, in \u001b[0;36mpatients_metrics\u001b[1;34m(signal, sub_signal_duration_s)\u001b[0m\n\u001b[0;32m     67\u001b[0m \u001b[38;5;28;01mdef\u001b[39;00m\u001b[38;5;250m \u001b[39m\u001b[38;5;21mpatients_metrics\u001b[39m(signal:pd\u001b[38;5;241m.\u001b[39mSeries, sub_signal_duration_s\u001b[38;5;241m=\u001b[39m\u001b[38;5;241m300\u001b[39m)\u001b[38;5;241m-\u001b[39m\u001b[38;5;241m>\u001b[39mpd\u001b[38;5;241m.\u001b[39mSeries:\n\u001b[0;32m     68\u001b[0m     metrics \u001b[38;5;241m=\u001b[39m pd\u001b[38;5;241m.\u001b[39mDataFrame()\n\u001b[1;32m---> 69\u001b[0m     \u001b[38;5;28;01mfor\u001b[39;00m i, subsignal \u001b[38;5;129;01min\u001b[39;00m \u001b[38;5;28menumerate\u001b[39m(\u001b[43mtime_portion_signal\u001b[49m\u001b[43m(\u001b[49m\u001b[43msignal\u001b[49m\u001b[43m,\u001b[49m\u001b[43m \u001b[49m\u001b[43msub_signal_duration_s\u001b[49m\u001b[43m)\u001b[49m):\n\u001b[0;32m     71\u001b[0m         metrics_dict \u001b[38;5;241m=\u001b[39m HRV_Metrics\u001b[38;5;241m.\u001b[39mget_td_and_fd_metrics(subsignal)\n\u001b[0;32m     73\u001b[0m         metrics_dict \u001b[38;5;241m=\u001b[39m {\u001b[38;5;124m'\u001b[39m\u001b[38;5;124mt_start\u001b[39m\u001b[38;5;124m'\u001b[39m: i\u001b[38;5;241m*\u001b[39m\u001b[38;5;241m300\u001b[39m, \u001b[38;5;124m'\u001b[39m\u001b[38;5;124mt_end\u001b[39m\u001b[38;5;124m'\u001b[39m: (i\u001b[38;5;241m+\u001b[39m\u001b[38;5;241m1\u001b[39m)\u001b[38;5;241m*\u001b[39m\u001b[38;5;241m300\u001b[39m, \u001b[38;5;241m*\u001b[39m\u001b[38;5;241m*\u001b[39mmetrics_dict}\n",
      "File \u001b[1;32mc:\\GITHUB\\HRV\\HRV-EDA\\helper.py:22\u001b[0m, in \u001b[0;36msignal_as_series_enforcer.<locals>.wrapper\u001b[1;34m(signal, *args, **kwargs)\u001b[0m\n\u001b[0;32m     19\u001b[0m \u001b[38;5;28;01mif\u001b[39;00m signal\u001b[38;5;241m.\u001b[39mmean() \u001b[38;5;241m<\u001b[39m \u001b[38;5;241m10\u001b[39m:\n\u001b[0;32m     20\u001b[0m     signal \u001b[38;5;241m=\u001b[39m signal \u001b[38;5;241m*\u001b[39m \u001b[38;5;241m1000\u001b[39m\n\u001b[1;32m---> 22\u001b[0m \u001b[38;5;28;01mreturn\u001b[39;00m \u001b[43mfunc\u001b[49m\u001b[43m(\u001b[49m\u001b[43msignal\u001b[49m\u001b[43m,\u001b[49m\u001b[43m \u001b[49m\u001b[38;5;241;43m*\u001b[39;49m\u001b[43margs\u001b[49m\u001b[43m,\u001b[49m\u001b[43m \u001b[49m\u001b[38;5;241;43m*\u001b[39;49m\u001b[38;5;241;43m*\u001b[39;49m\u001b[43mkwargs\u001b[49m\u001b[43m)\u001b[49m\n",
      "File \u001b[1;32mc:\\GITHUB\\HRV\\HRV-EDA\\helper.py:36\u001b[0m, in \u001b[0;36mtime_portion_signal\u001b[1;34m(signal, fragment_s)\u001b[0m\n\u001b[0;32m     33\u001b[0m segment \u001b[38;5;241m=\u001b[39m signal[(signal\u001b[38;5;241m.\u001b[39mindex \u001b[38;5;241m>\u001b[39m\u001b[38;5;241m=\u001b[39m lower) \u001b[38;5;241m&\u001b[39m (signal\u001b[38;5;241m.\u001b[39mindex \u001b[38;5;241m<\u001b[39m lower \u001b[38;5;241m+\u001b[39m fragment_s)]\n\u001b[0;32m     35\u001b[0m \u001b[38;5;66;03m# Reset index to start at 0\u001b[39;00m\n\u001b[1;32m---> 36\u001b[0m segment\u001b[38;5;241m.\u001b[39mindex \u001b[38;5;241m=\u001b[39m segment\u001b[38;5;241m.\u001b[39mindex \u001b[38;5;241m-\u001b[39m \u001b[43msegment\u001b[49m\u001b[38;5;241;43m.\u001b[39;49m\u001b[43mindex\u001b[49m\u001b[43m[\u001b[49m\u001b[38;5;241;43m0\u001b[39;49m\u001b[43m]\u001b[49m\n\u001b[0;32m     37\u001b[0m \u001b[38;5;66;03m#print(segment)\u001b[39;00m\n\u001b[0;32m     38\u001b[0m \u001b[38;5;28;01mif\u001b[39;00m segment\u001b[38;5;241m.\u001b[39mindex[\u001b[38;5;241m-\u001b[39m\u001b[38;5;241m1\u001b[39m] \u001b[38;5;241m<\u001b[39m fragment_s \u001b[38;5;241m/\u001b[39m \u001b[38;5;241m2\u001b[39m:\n\u001b[0;32m     39\u001b[0m     \u001b[38;5;66;03m#print(segment.index[-1])\u001b[39;00m\n",
      "File \u001b[1;32mc:\\Users\\326po\\AppData\\Local\\Programs\\Python\\Python311\\Lib\\site-packages\\pandas\\core\\indexes\\base.py:5389\u001b[0m, in \u001b[0;36mIndex.__getitem__\u001b[1;34m(self, key)\u001b[0m\n\u001b[0;32m   5386\u001b[0m \u001b[38;5;28;01mif\u001b[39;00m is_integer(key) \u001b[38;5;129;01mor\u001b[39;00m is_float(key):\n\u001b[0;32m   5387\u001b[0m     \u001b[38;5;66;03m# GH#44051 exclude bool, which would return a 2d ndarray\u001b[39;00m\n\u001b[0;32m   5388\u001b[0m     key \u001b[38;5;241m=\u001b[39m com\u001b[38;5;241m.\u001b[39mcast_scalar_indexer(key)\n\u001b[1;32m-> 5389\u001b[0m     \u001b[38;5;28;01mreturn\u001b[39;00m \u001b[43mgetitem\u001b[49m\u001b[43m(\u001b[49m\u001b[43mkey\u001b[49m\u001b[43m)\u001b[49m\n\u001b[0;32m   5391\u001b[0m \u001b[38;5;28;01mif\u001b[39;00m \u001b[38;5;28misinstance\u001b[39m(key, \u001b[38;5;28mslice\u001b[39m):\n\u001b[0;32m   5392\u001b[0m     \u001b[38;5;66;03m# This case is separated from the conditional above to avoid\u001b[39;00m\n\u001b[0;32m   5393\u001b[0m     \u001b[38;5;66;03m# pessimization com.is_bool_indexer and ndim checks.\u001b[39;00m\n\u001b[0;32m   5394\u001b[0m     \u001b[38;5;28;01mreturn\u001b[39;00m \u001b[38;5;28mself\u001b[39m\u001b[38;5;241m.\u001b[39m_getitem_slice(key)\n",
      "\u001b[1;31mIndexError\u001b[0m: index 0 is out of bounds for axis 0 with size 0"
     ]
    }
   ],
   "source": [
    "metrics_df = pd.DataFrame()\n",
    "\n",
    "for id, signal in patient_arrays.items():\n",
    "    individual_metrics = helper.patients_metrics(signal)\n",
    "    individual_metrics['id'] = id\n",
    "    print(id, \"processed\")\n",
    "    metrics_df = pd.concat([metrics_df, individual_metrics], ignore_index=True)"
   ]
  },
  {
   "cell_type": "markdown",
   "metadata": {},
   "source": [
    "Read the clinical indicators"
   ]
  },
  {
   "cell_type": "code",
   "execution_count": null,
   "metadata": {},
   "outputs": [],
   "source": [
    "clin_indic = helper.df_from_excel('actionable_data/Clinical indicators.xlsx')\n",
    "clin_indic.rename(columns={'number': 'id'}, inplace=True)\n",
    "clin_indic['id'] = clin_indic['id'].astype(str)\n",
    "display(clin_indic.columns)"
   ]
  },
  {
   "cell_type": "markdown",
   "metadata": {},
   "source": [
    "Inner merge the clinical indicators and processing results"
   ]
  },
  {
   "cell_type": "code",
   "execution_count": null,
   "metadata": {},
   "outputs": [],
   "source": [
    "metrics_df[\"id\"].astype(str)\n",
    "merged_data = metrics_df.merge(clin_indic, on='id', how='inner')\n",
    "\n",
    "merged_data.head()"
   ]
  },
  {
   "cell_type": "code",
   "execution_count": null,
   "metadata": {},
   "outputs": [],
   "source": [
    "merged_data.to_pickle(pickle_path)\n",
    "merged_data.to_csv(pickle_path.replace(\".pkl\", '.csv'), index=False)"
   ]
  }
 ],
 "metadata": {
  "kernelspec": {
   "display_name": "Python 3",
   "language": "python",
   "name": "python3"
  },
  "language_info": {
   "codemirror_mode": {
    "name": "ipython",
    "version": 3
   },
   "file_extension": ".py",
   "mimetype": "text/x-python",
   "name": "python",
   "nbconvert_exporter": "python",
   "pygments_lexer": "ipython3",
   "version": "3.11.0"
  }
 },
 "nbformat": 4,
 "nbformat_minor": 2
}
