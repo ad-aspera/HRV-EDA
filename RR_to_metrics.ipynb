{
 "cells": [
  {
   "cell_type": "markdown",
   "metadata": {},
   "source": [
    "# Process RR_peaks to metrics\n",
    "\n",
    "**The following notebook** \n",
    "* Reads the RR peaks file\n",
    "* Derives metrics from 5 min intervals\n",
    "* Joins clinical indicator file with metrics on patient id \n",
    "* Saves the file\n",
    "\n",
    "The original data comes from "
   ]
  },
  {
   "cell_type": "code",
   "execution_count": 8,
   "metadata": {},
   "outputs": [],
   "source": [
    "import pandas as pd\n",
    "import h5py\n",
    "import project_utils.rr_to_metrics as helper\n",
    "\n",
    "read_path = \"processed_data/Nabian_2018_derrived_data.h5\"\n",
    "pickle_path = 'processed_data/10min_Nabian.pkl'"
   ]
  },
  {
   "cell_type": "markdown",
   "metadata": {},
   "source": [
    "Read the RR_Peaks file [\"our_processing\\ML_Data.h5\"](\"our_processing\\ML_Data.h5\")"
   ]
  },
  {
   "cell_type": "code",
   "execution_count": 9,
   "metadata": {},
   "outputs": [
    {
     "name": "stdout",
     "output_type": "stream",
     "text": [
      "{'19070921': array([764., 772., 780., ..., 708., 696., 704.]), '19072205': array([824., 772., 776., ..., 820., 800., 804.]), '19072214': array([1268.,  632.,  644., ..., 1332., 1576., 1812.]), '19072938': array([684., 700., 724., ..., 688., 676., 448.]), '19072939': array([732., 720., 668., ..., 656., 664., 556.]), '19072940': array([ 668.,  656.,  656., ..., 1016.,  472.,  912.]), '19080106': array([892., 888., 856., ..., 816., 816., 560.]), '19080715': array([1100.,  948.,  964., ..., 1228., 1044., 1440.]), '19081506': array([ 884.,  832.,  824., ..., 1016.,  520., 1608.]), '19082406': array([ 692.,  680.,  668., ..., 1780.,  792., 1276.]), '19090308': array([624., 624., 620., ..., 764., 768., 748.]), '19090320': array([708., 712., 684., ..., 636., 644., 620.]), '19101607': array([1508.,  956.,  972., ...,  604.,  848., 1388.]), '19101619': array([1356.,  952.,  944., ...,  740.,  752.,  748.]), '19102102': array([784., 804., 784., ..., 648., 648., 644.]), '19102103': array([ 744.,  748.,  744., ..., 1708., 1676., 1628.]), '19102524': array([788., 784., 752., ..., 876., 896., 568.]), '19102622': array([ 840.,  828.,  888., ...,  756.,  664., 1404.]), '19112609': array([ 512., 1144., 1136., ..., 1048., 1016., 1032.]), '19120302': array([ 668.,  680.,  684., ...,  692.,  968., 1204.]), '19120323': array([ 596.,  608.,  592., ..., 1196., 1208., 1696.]), '19120704': array([1156.,  476.,  800., ...,  712.,  744.,  620.]), '19120723': array([856., 856., 848., ..., 824., 820., 688.]), '19121303': array([704., 716., 724., ..., 796., 856., 852.]), '19121735': array([ 864.,  852.,  436., ...,  660., 1544., 1024.]), '20010826': array([1060., 1132.,  424., ...,  876.,  668.,  672.]), '20010827': array([ 728.,  780.,  784., ...,  560., 1124., 1436.]), '20011712': array([940., 932., 936., ..., 848., 824., 744.]), '20050628': array([ 828.,  848.,  832., ..., 1156.,  800., 1300.]), '20052606': array([708., 712., 716., ..., 712., 688., 856.]), '20061729': array([ 656.,  648.,  648., ...,  668.,  656., 1024.]), '20092226': array([936., 956., 952., ..., 908., 896., 696.]), '20092535': array([ 428., 1244.,  632., ...,  740.,  740., 1032.]), '20101424': array([ 520.,  828.,  812., ...,  872., 1344.,  980.]), '20101822': array([1084.,  700.,  676., ...,  740.,  832., 1296.]), '20102029': array([912., 908., 908., ..., 860., 880., 900.]), '20120116': array([ 692.,  684.,  676., ..., 1096.,  572., 1060.]), '20120922': array([708., 696., 688., ..., 616., 528., 768.]), '20121033': array([ 840.,  848.,  836., ...,  684., 1416.,  608.]), '20121716': array([ 640.,  616.,  616., ...,  652.,  648., 1588.]), '20121718': array([1608.,  980.,  980., ...,  604., 1756., 1724.]), '20122932': array([ 736.,  732.,  724., ...,  752.,  812., 1156.]), '20123017': array([812., 812., 820., ..., 708., 724., 732.])}\n"
     ]
    }
   ],
   "source": [
    "def read_data(file_path, group_name, signal_name= \"r_intervals\"):\n",
    "    with h5py.File(file_path, \"r\") as hdf:\n",
    "        group = hdf[group_name]\n",
    "        data = group[signal_name][()]\n",
    "    return data\n",
    "\n",
    "def get_page_names(file_path):\n",
    "    with h5py.File(file_path, \"r\") as hdf:\n",
    "        page_names = list(hdf.keys())\n",
    "    return page_names\n",
    "\n",
    "page_names = get_page_names(read_path)\n",
    "\n",
    "patient_arrays = {group_name: read_data(read_path, group_name) for group_name in page_names}\n",
    "\n",
    "print(patient_arrays)"
   ]
  },
  {
   "cell_type": "markdown",
   "metadata": {},
   "source": [
    "Calculate the metrics for each patient."
   ]
  },
  {
   "cell_type": "code",
   "execution_count": 10,
   "metadata": {},
   "outputs": [
    {
     "name": "stdout",
     "output_type": "stream",
     "text": [
      "19070921 processed\n"
     ]
    },
    {
     "name": "stderr",
     "output_type": "stream",
     "text": [
      "c:\\GITHUB\\HRV\\HRV-EDA\\metrics\\HRV_Metrics.py:127: RuntimeWarning: divide by zero encountered in scalar divide\n",
      "  return self.LF_power() / self.HF_power()\n"
     ]
    },
    {
     "name": "stdout",
     "output_type": "stream",
     "text": [
      "19072205 processed\n",
      "19072214 processed\n",
      "19072938 processed\n",
      "19072939 processed\n",
      "19072940 processed\n",
      "19080106 processed\n",
      "19080715 processed\n",
      "19081506 processed\n",
      "19082406 processed\n",
      "19090308 processed\n",
      "19090320 processed\n",
      "19101607 processed\n",
      "19101619 processed\n",
      "19102102 processed\n",
      "19102103 processed\n",
      "19102524 processed\n"
     ]
    },
    {
     "name": "stderr",
     "output_type": "stream",
     "text": [
      "c:\\GITHUB\\HRV\\HRV-EDA\\metrics\\HRV_Metrics.py:127: RuntimeWarning: divide by zero encountered in scalar divide\n",
      "  return self.LF_power() / self.HF_power()\n"
     ]
    },
    {
     "name": "stdout",
     "output_type": "stream",
     "text": [
      "19102622 processed\n",
      "19112609 processed\n",
      "19120302 processed\n",
      "19120323 processed\n",
      "19120704 processed\n",
      "19120723 processed\n",
      "19121303 processed\n",
      "19121735 processed\n",
      "20010826 processed\n",
      "20010827 processed\n",
      "20011712 processed\n",
      "20050628 processed\n",
      "20052606 processed\n",
      "20061729 processed\n",
      "20092226 processed\n",
      "20092535 processed\n",
      "20101424 processed\n",
      "20101822 processed\n",
      "20102029 processed\n",
      "20120116 processed\n",
      "20120922 processed\n",
      "20121033 processed\n",
      "20121716 processed\n",
      "20121718 processed\n",
      "20122932 processed\n",
      "20123017 processed\n"
     ]
    }
   ],
   "source": [
    "metrics_df = pd.DataFrame()\n",
    "\n",
    "for id, signal in patient_arrays.items():\n",
    "    individual_metrics = helper.patients_metrics(signal, sub_signal_duration_s=600)\n",
    "    individual_metrics['id'] = id\n",
    "    print(id, \"processed\")\n",
    "    metrics_df = pd.concat([metrics_df, individual_metrics], ignore_index=True)\n",
    "    "
   ]
  },
  {
   "cell_type": "markdown",
   "metadata": {},
   "source": [
    "Read the clinical indicators"
   ]
  },
  {
   "cell_type": "code",
   "execution_count": 11,
   "metadata": {},
   "outputs": [
    {
     "data": {
      "text/plain": [
       "Index(['id', 'gender', 'age', 'height', 'weight', 'admission FBG (mmol/L)',\n",
       "       'Discharge FBG (mmol/L)', 'HbA1c (%)', 'SBP (mmHg)', 'DBP (mmHg)',\n",
       "       'WBC (×109/L)', 'N% (%)', 'Hb (g/L)', 'PLT (×109/L)', 'CRP (mg/L)',\n",
       "       'ALT (U/L)', ' AST (U/L)', 'AST/ALT', 'GGT (U/L)', 'BUN (mmol/L)',\n",
       "       ' UA (mmol/L)', 'TG (mmol/L)', 'HDL-C (mmol/L)', 'LDL-C (mmol/L)',\n",
       "       'UMA (mg)', 'UCr (g)', 'UACR (mg/g)', 'Diabetic Complications',\n",
       "       'Diabetic nephropathy', 'Diabetic retinopathy and cataract',\n",
       "       'Diabetic peripheral neuropathy',\n",
       "       'Coronary artery disease and cardiac insufficiency',\n",
       "       'Lower extremity atherosclerosis or stenosis', 'Carotid plaque'],\n",
       "      dtype='object')"
      ]
     },
     "metadata": {},
     "output_type": "display_data"
    }
   ],
   "source": [
    "clin_indic = helper.df_from_excel('actionable_data/Clinical indicators.xlsx')\n",
    "clin_indic.rename(columns={'number': 'id'}, inplace=True)\n",
    "clin_indic['id'] = clin_indic['id'].astype(str)\n",
    "display(clin_indic.columns)"
   ]
  },
  {
   "cell_type": "markdown",
   "metadata": {},
   "source": [
    "Inner merge the clinical indicators and processing results"
   ]
  },
  {
   "cell_type": "code",
   "execution_count": 12,
   "metadata": {},
   "outputs": [
    {
     "data": {
      "text/html": [
       "<div>\n",
       "<style scoped>\n",
       "    .dataframe tbody tr th:only-of-type {\n",
       "        vertical-align: middle;\n",
       "    }\n",
       "\n",
       "    .dataframe tbody tr th {\n",
       "        vertical-align: top;\n",
       "    }\n",
       "\n",
       "    .dataframe thead th {\n",
       "        text-align: right;\n",
       "    }\n",
       "</style>\n",
       "<table border=\"1\" class=\"dataframe\">\n",
       "  <thead>\n",
       "    <tr style=\"text-align: right;\">\n",
       "      <th></th>\n",
       "      <th>t_start</th>\n",
       "      <th>t_end</th>\n",
       "      <th>SDRR</th>\n",
       "      <th>RMSSD</th>\n",
       "      <th>pNN50 (%)</th>\n",
       "      <th>Mean HR (bpm)</th>\n",
       "      <th>ULF Power</th>\n",
       "      <th>ULF Peak Frequency</th>\n",
       "      <th>VLF Power</th>\n",
       "      <th>VLF Peak Frequency</th>\n",
       "      <th>...</th>\n",
       "      <th>UMA (mg)</th>\n",
       "      <th>UCr (g)</th>\n",
       "      <th>UACR (mg/g)</th>\n",
       "      <th>Diabetic Complications</th>\n",
       "      <th>Diabetic nephropathy</th>\n",
       "      <th>Diabetic retinopathy and cataract</th>\n",
       "      <th>Diabetic peripheral neuropathy</th>\n",
       "      <th>Coronary artery disease and cardiac insufficiency</th>\n",
       "      <th>Lower extremity atherosclerosis or stenosis</th>\n",
       "      <th>Carotid plaque</th>\n",
       "    </tr>\n",
       "  </thead>\n",
       "  <tbody>\n",
       "    <tr>\n",
       "      <th>0</th>\n",
       "      <td>0.764</td>\n",
       "      <td>600.396</td>\n",
       "      <td>59.953222</td>\n",
       "      <td>50.339557</td>\n",
       "      <td>4.161567</td>\n",
       "      <td>81.746048</td>\n",
       "      <td>0.004173</td>\n",
       "      <td>0.000000</td>\n",
       "      <td>3.314667</td>\n",
       "      <td>0.030018</td>\n",
       "      <td>...</td>\n",
       "      <td>411.0</td>\n",
       "      <td>NaN</td>\n",
       "      <td>NaN</td>\n",
       "      <td>0.0</td>\n",
       "      <td>0.0</td>\n",
       "      <td>0.0</td>\n",
       "      <td>0.0</td>\n",
       "      <td>0.0</td>\n",
       "      <td>0.0</td>\n",
       "      <td>0.0</td>\n",
       "    </tr>\n",
       "    <tr>\n",
       "      <th>1</th>\n",
       "      <td>601.064</td>\n",
       "      <td>1200.808</td>\n",
       "      <td>92.834423</td>\n",
       "      <td>81.165262</td>\n",
       "      <td>12.719892</td>\n",
       "      <td>73.949222</td>\n",
       "      <td>0.036403</td>\n",
       "      <td>0.001667</td>\n",
       "      <td>10.496690</td>\n",
       "      <td>0.030013</td>\n",
       "      <td>...</td>\n",
       "      <td>411.0</td>\n",
       "      <td>NaN</td>\n",
       "      <td>NaN</td>\n",
       "      <td>0.0</td>\n",
       "      <td>0.0</td>\n",
       "      <td>0.0</td>\n",
       "      <td>0.0</td>\n",
       "      <td>0.0</td>\n",
       "      <td>0.0</td>\n",
       "      <td>0.0</td>\n",
       "    </tr>\n",
       "    <tr>\n",
       "      <th>2</th>\n",
       "      <td>1201.652</td>\n",
       "      <td>1801.208</td>\n",
       "      <td>76.874801</td>\n",
       "      <td>72.754984</td>\n",
       "      <td>13.532764</td>\n",
       "      <td>70.253165</td>\n",
       "      <td>0.002963</td>\n",
       "      <td>0.001668</td>\n",
       "      <td>4.764365</td>\n",
       "      <td>0.026686</td>\n",
       "      <td>...</td>\n",
       "      <td>411.0</td>\n",
       "      <td>NaN</td>\n",
       "      <td>NaN</td>\n",
       "      <td>0.0</td>\n",
       "      <td>0.0</td>\n",
       "      <td>0.0</td>\n",
       "      <td>0.0</td>\n",
       "      <td>0.0</td>\n",
       "      <td>0.0</td>\n",
       "      <td>0.0</td>\n",
       "    </tr>\n",
       "    <tr>\n",
       "      <th>3</th>\n",
       "      <td>1801.996</td>\n",
       "      <td>2401.520</td>\n",
       "      <td>65.979059</td>\n",
       "      <td>54.859842</td>\n",
       "      <td>10.431154</td>\n",
       "      <td>71.962579</td>\n",
       "      <td>0.015285</td>\n",
       "      <td>0.000000</td>\n",
       "      <td>5.192408</td>\n",
       "      <td>0.038364</td>\n",
       "      <td>...</td>\n",
       "      <td>411.0</td>\n",
       "      <td>NaN</td>\n",
       "      <td>NaN</td>\n",
       "      <td>0.0</td>\n",
       "      <td>0.0</td>\n",
       "      <td>0.0</td>\n",
       "      <td>0.0</td>\n",
       "      <td>0.0</td>\n",
       "      <td>0.0</td>\n",
       "      <td>0.0</td>\n",
       "    </tr>\n",
       "    <tr>\n",
       "      <th>4</th>\n",
       "      <td>2402.412</td>\n",
       "      <td>3002.176</td>\n",
       "      <td>56.022949</td>\n",
       "      <td>32.686929</td>\n",
       "      <td>3.585147</td>\n",
       "      <td>78.114595</td>\n",
       "      <td>0.014553</td>\n",
       "      <td>0.000000</td>\n",
       "      <td>11.302079</td>\n",
       "      <td>0.035014</td>\n",
       "      <td>...</td>\n",
       "      <td>411.0</td>\n",
       "      <td>NaN</td>\n",
       "      <td>NaN</td>\n",
       "      <td>0.0</td>\n",
       "      <td>0.0</td>\n",
       "      <td>0.0</td>\n",
       "      <td>0.0</td>\n",
       "      <td>0.0</td>\n",
       "      <td>0.0</td>\n",
       "      <td>0.0</td>\n",
       "    </tr>\n",
       "  </tbody>\n",
       "</table>\n",
       "<p>5 rows × 58 columns</p>\n",
       "</div>"
      ],
      "text/plain": [
       "    t_start     t_end       SDRR      RMSSD  pNN50 (%)  Mean HR (bpm)  \\\n",
       "0     0.764   600.396  59.953222  50.339557   4.161567      81.746048   \n",
       "1   601.064  1200.808  92.834423  81.165262  12.719892      73.949222   \n",
       "2  1201.652  1801.208  76.874801  72.754984  13.532764      70.253165   \n",
       "3  1801.996  2401.520  65.979059  54.859842  10.431154      71.962579   \n",
       "4  2402.412  3002.176  56.022949  32.686929   3.585147      78.114595   \n",
       "\n",
       "   ULF Power  ULF Peak Frequency  VLF Power  VLF Peak Frequency  ...  \\\n",
       "0   0.004173            0.000000   3.314667            0.030018  ...   \n",
       "1   0.036403            0.001667  10.496690            0.030013  ...   \n",
       "2   0.002963            0.001668   4.764365            0.026686  ...   \n",
       "3   0.015285            0.000000   5.192408            0.038364  ...   \n",
       "4   0.014553            0.000000  11.302079            0.035014  ...   \n",
       "\n",
       "   UMA (mg)  UCr (g)  UACR (mg/g)  Diabetic Complications  \\\n",
       "0     411.0      NaN          NaN                     0.0   \n",
       "1     411.0      NaN          NaN                     0.0   \n",
       "2     411.0      NaN          NaN                     0.0   \n",
       "3     411.0      NaN          NaN                     0.0   \n",
       "4     411.0      NaN          NaN                     0.0   \n",
       "\n",
       "   Diabetic nephropathy  Diabetic retinopathy and cataract  \\\n",
       "0                   0.0                                0.0   \n",
       "1                   0.0                                0.0   \n",
       "2                   0.0                                0.0   \n",
       "3                   0.0                                0.0   \n",
       "4                   0.0                                0.0   \n",
       "\n",
       "   Diabetic peripheral neuropathy  \\\n",
       "0                             0.0   \n",
       "1                             0.0   \n",
       "2                             0.0   \n",
       "3                             0.0   \n",
       "4                             0.0   \n",
       "\n",
       "   Coronary artery disease and cardiac insufficiency  \\\n",
       "0                                                0.0   \n",
       "1                                                0.0   \n",
       "2                                                0.0   \n",
       "3                                                0.0   \n",
       "4                                                0.0   \n",
       "\n",
       "   Lower extremity atherosclerosis or stenosis  Carotid plaque  \n",
       "0                                          0.0             0.0  \n",
       "1                                          0.0             0.0  \n",
       "2                                          0.0             0.0  \n",
       "3                                          0.0             0.0  \n",
       "4                                          0.0             0.0  \n",
       "\n",
       "[5 rows x 58 columns]"
      ]
     },
     "execution_count": 12,
     "metadata": {},
     "output_type": "execute_result"
    }
   ],
   "source": [
    "metrics_df[\"id\"].astype(str)\n",
    "merged_data = metrics_df.merge(clin_indic, on='id', how='inner')\n",
    "\n",
    "merged_data.head()"
   ]
  },
  {
   "cell_type": "code",
   "execution_count": 13,
   "metadata": {},
   "outputs": [],
   "source": [
    "merged_data.to_pickle(pickle_path)\n",
    "merged_data.to_csv(pickle_path.replace(\".pkl\", '.csv'), index=False)"
   ]
  }
 ],
 "metadata": {
  "kernelspec": {
   "display_name": "Python 3",
   "language": "python",
   "name": "python3"
  },
  "language_info": {
   "codemirror_mode": {
    "name": "ipython",
    "version": 3
   },
   "file_extension": ".py",
   "mimetype": "text/x-python",
   "name": "python",
   "nbconvert_exporter": "python",
   "pygments_lexer": "ipython3",
   "version": "3.11.0"
  }
 },
 "nbformat": 4,
 "nbformat_minor": 2
}
