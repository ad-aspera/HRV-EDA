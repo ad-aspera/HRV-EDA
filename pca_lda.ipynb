{
 "cells": [
  {
   "cell_type": "code",
   "execution_count": 58,
   "metadata": {},
   "outputs": [],
   "source": [
    "import importlib\n",
    "import project_utils.deciles as deciles\n",
    "import pandas as pd\n",
    "import seaborn as sns\n",
    "import matplotlib.pyplot as plt\n",
    "from general_utils import utils\n",
    "from general_utils.OverallDetailComparisonPlot import OverallDetailComparisonPlot\n",
    "import os\n",
    "from matplotlib import colors as mcolors\n",
    "import math\n",
    "import plotly.graph_objects as go\n",
    "from sklearn.cluster import KMeans\n",
    "from sklearn.decomposition import PCA\n",
    "\n",
    "utils.default_plot_format()\n",
    "utils.pd_display_settings(3)"
   ]
  },
  {
   "cell_type": "code",
   "execution_count": 59,
   "metadata": {},
   "outputs": [],
   "source": [
    "data_path = r\"processed_data\\raw_metrics\\processed_10min_Nabian.pkl\""
   ]
  },
  {
   "cell_type": "code",
   "execution_count": 60,
   "metadata": {},
   "outputs": [],
   "source": [
    "pickled = pd.read_pickle(data_path)\n",
    "data = pickled[\"data\"]\n",
    "indicator_columns = pickled[\"indicator_columns\"]\n",
    "time_metrics = pickled[\"time_metrics\"]\n",
    "frequency_metrics = pickled[\"frequency_metrics\"]\n",
    "non_linear_metrics = pickled[\"non_linear_metrics\"]\n",
    "data.tail()\n",
    "\n",
    "indicator_columns.remove('D2')\n",
    "non_linear_metrics.remove('D2')"
   ]
  },
  {
   "cell_type": "code",
   "execution_count": 61,
   "metadata": {},
   "outputs": [
    {
     "name": "stdout",
     "output_type": "stream",
     "text": [
      "Index(['id', 'DPN', 'ApEn', 'DFA α1', 'DFA α2', 'HF Peak Frequency',\n",
      "       'HF Power', 'LF Peak Frequency', 'LF Power', 'LF÷HF Ratio',\n",
      "       'Mean HR (bpm)', 'RMSSD', 'S', 'SD1', 'SD1÷SD2', 'SD2', 'SDRR',\n",
      "       'SampEn', 'VLF Peak Frequency', 'VLF Power', 'pNN50 (%)'],\n",
      "      dtype='object', name='metric')\n"
     ]
    }
   ],
   "source": [
    "median_melted = deciles.produce_median_melt(data, indicator_columns)\n",
    "\n",
    "metrics = ['HF Power', 'SDRR', 'SD2', 'Mean HR (bpm)', 'LF Power', 'DFA α2', 'S',\n",
    "       'RMSSD', 'SD1']\n",
    "\n",
    "metrics = time_metrics\n",
    "#median_melted = median_melted[median_melted[\"metric\"].isin(metrics)]\n",
    "\n",
    "\n",
    "median_pivot = median_melted.pivot(index=[\"id\", \"DPN\"], columns=\"metric\", values=\"value\").reset_index()\n",
    "print(median_pivot.columns)"
   ]
  },
  {
   "cell_type": "code",
   "execution_count": 62,
   "metadata": {},
   "outputs": [
    {
     "name": "stdout",
     "output_type": "stream",
     "text": [
      "[0, 1, 0, 1, 1, 2, 1, 1, 2, 1, 1, 1, 1, 1, 0, 0, 2, 1, 0, 2, 0, 2, 1, 0, 1, 1]\n",
      "[0, 0, 0, 0, 0, 0, 0, 0, 0, 0, 0, 0, 0, 0, 0, 0, 0, 0, 0, 0, 0, 0, 1, 1, 1, 1]\n"
     ]
    }
   ],
   "source": [
    "\n",
    "clusters = 3\n",
    " \n",
    "kmeans = KMeans(n_clusters = clusters)\n",
    "kmeans.fit(median_pivot)\n",
    " \n",
    "print(list(kmeans.labels_))\n",
    "dpn = median_pivot[\"DPN\"]\n",
    "\n",
    "dpn = list(1 if val else 0 for val in dpn)\n",
    "print(dpn)\n",
    "\n",
    "\n"
   ]
  },
  {
   "cell_type": "code",
   "execution_count": 63,
   "metadata": {},
   "outputs": [
    {
     "name": "stdout",
     "output_type": "stream",
     "text": [
      "           0      1      2\n",
      "0     703.28  21.72   4.06\n",
      "1   -9300.75  21.22  -0.25\n",
      "2    -748.30  16.44  -0.22\n",
      "3  -11361.31  15.60 -10.02\n",
      "4   -6864.78  19.55  -1.75\n",
      "5      23034   7.65  10.41\n",
      "6  -15419.58 -14.56  -7.40\n",
      "7   -5285.82  12.71  11.99\n",
      "8      24475  -4.98  -2.01\n",
      "9   -4401.08  16.37 -10.53\n",
      "10 -14359.11 -12.60  -1.47\n",
      "11 -13385.26  -9.61   9.42\n",
      "12 -15090.27  -9.68 -14.07\n",
      "13  -9716.46  11.99 -10.74\n",
      "14     10447  15.47 -35.22\n",
      "15      5448   9.37  28.76\n",
      "16     27939 -12.29   5.05\n",
      "17  -8384.41   1.21   1.80\n",
      "18   -543.70  10.03   7.11\n",
      "19     35272 -21.22 -15.53\n",
      "20      3578   4.00  11.78\n",
      "21     29518 -14.95   0.19\n",
      "22 -16571.13 -44.01   2.60\n",
      "23   -935.96   1.09  17.96\n",
      "24 -15990.00 -33.58   1.11\n",
      "25 -12055.89  -6.94  -3.01\n"
     ]
    }
   ],
   "source": [
    "\n",
    "pca = PCA(3)\n",
    "pca.fit(median_pivot)\n",
    " \n",
    "pca_data = pd.DataFrame(pca.transform(median_pivot))\n",
    " \n",
    "print(pca_data)"
   ]
  },
  {
   "cell_type": "code",
   "execution_count": 64,
   "metadata": {},
   "outputs": [
    {
     "data": {
      "application/vnd.plotly.v1+json": {
       "config": {
        "plotlyServerURL": "https://plot.ly"
       },
       "data": [
        {
         "marker": {
          "color": [
           "blue",
           "blue",
           "blue",
           "blue",
           "blue",
           "blue",
           "blue",
           "blue",
           "blue",
           "blue",
           "blue",
           "blue",
           "blue",
           "blue",
           "blue",
           "blue",
           "blue",
           "blue",
           "blue",
           "blue",
           "blue",
           "blue",
           "red",
           "red",
           "red",
           "red"
          ],
          "opacity": 0.8,
          "size": 5
         },
         "mode": "markers+text",
         "text": [
          "0",
          "1",
          "0",
          "1",
          "1",
          "2",
          "1",
          "1",
          "2",
          "1",
          "1",
          "1",
          "1",
          "1",
          "0",
          "0",
          "2",
          "1",
          "0",
          "2",
          "0",
          "2",
          "1",
          "0",
          "1",
          "1"
         ],
         "textposition": "top center",
         "type": "scatter3d",
         "x": {
          "bdata": "AF3Iyz36hUDMv7pGYCrCwADA4OJkYofA7EbEqacwxsDM12DqxtC6wCL3qr+VftZA9a5v+MkdzsAK4GHS0qW0wGg1xfjE5tdAEvmnQRQxscA47/5hjgvMwHhbIe2gJMrAXNEYmCJ5zcB+AwQoO/rCwJaZLltFZ8RAmJQYgcRHtUBcdS6Yp0jbQFaaBh01YMDAICD4OZr9gMDb4p/tBDnhQKDefW5G9KtAOIvNe3nT3EDuwQ83yC7QwHCvV2mvP43AwRAYmv86z8BKYWxe8ovHwA==",
          "dtype": "f8"
         },
         "y": {
          "bdata": "PMKWwhi5NUAUYG5NIjc1QNRYFBasbzBACMQ1iW0yL0DIgXwLso0zQGjdjjEknB5AKOYcLgYhLcD4AOgEU2spQCiK92lv7hPAbMaaM+xeMECADUDHZDUpwNRgi2X9NiPAmKNBpGZaI8A0PuJ7UPsnQDA1cfs18S5AEAB3Ooq/IkCYFp88JJQowCBVPzd6UfM/OOGcyMEQJEALufQMyjg1wLCKRQe1/g9AHAm684TmLcCImAg6+QBGwCDQ8OvzX/E/6P4hB+XJQMA4k6Xdm8EbwA==",
          "dtype": "f8"
         },
         "z": {
          "bdata": "BIcTkGc+EEDgHxRG1zDQv4CDa1c+ucy/6pPvumsLJMAs/i0dbQH8vzChNGKd0iRAOOOe5euYHcAkuolT2vknQCIIdF0dFQDAbisjWuAOJcDgDfqYi4/3v0COVVeO2SJAz53eJhokLMC5eLKqn3olwEhPHVtcnEHAggmI7l/CPEDq30PsNTAUQNBxlau0xvw/bERa8KZxHEA8NpFgfw4vwB5mEsxCjSdAQOUW0ZMFyD+E4uBUc9MEQK7yLNkQ9TFAgJMeY2zF8T9il0h0FB4IwA==",
          "dtype": "f8"
         }
        }
       ],
       "layout": {
        "height": 500,
        "margin": {
         "b": 10,
         "l": 10,
         "r": 10,
         "t": 10
        },
        "scene": {
         "aspectmode": "cube",
         "aspectratio": {
          "x": 1,
          "y": 1,
          "z": 1
         },
         "xaxis": {
          "title": {
           "text": "Component 1"
          }
         },
         "yaxis": {
          "title": {
           "text": "Component 2"
          }
         },
         "zaxis": {
          "title": {
           "text": "Component 3"
          }
         }
        },
        "template": {
         "data": {
          "bar": [
           {
            "error_x": {
             "color": "#2a3f5f"
            },
            "error_y": {
             "color": "#2a3f5f"
            },
            "marker": {
             "line": {
              "color": "#E5ECF6",
              "width": 0.5
             },
             "pattern": {
              "fillmode": "overlay",
              "size": 10,
              "solidity": 0.2
             }
            },
            "type": "bar"
           }
          ],
          "barpolar": [
           {
            "marker": {
             "line": {
              "color": "#E5ECF6",
              "width": 0.5
             },
             "pattern": {
              "fillmode": "overlay",
              "size": 10,
              "solidity": 0.2
             }
            },
            "type": "barpolar"
           }
          ],
          "carpet": [
           {
            "aaxis": {
             "endlinecolor": "#2a3f5f",
             "gridcolor": "white",
             "linecolor": "white",
             "minorgridcolor": "white",
             "startlinecolor": "#2a3f5f"
            },
            "baxis": {
             "endlinecolor": "#2a3f5f",
             "gridcolor": "white",
             "linecolor": "white",
             "minorgridcolor": "white",
             "startlinecolor": "#2a3f5f"
            },
            "type": "carpet"
           }
          ],
          "choropleth": [
           {
            "colorbar": {
             "outlinewidth": 0,
             "ticks": ""
            },
            "type": "choropleth"
           }
          ],
          "contour": [
           {
            "colorbar": {
             "outlinewidth": 0,
             "ticks": ""
            },
            "colorscale": [
             [
              0,
              "#0d0887"
             ],
             [
              0.1111111111111111,
              "#46039f"
             ],
             [
              0.2222222222222222,
              "#7201a8"
             ],
             [
              0.3333333333333333,
              "#9c179e"
             ],
             [
              0.4444444444444444,
              "#bd3786"
             ],
             [
              0.5555555555555556,
              "#d8576b"
             ],
             [
              0.6666666666666666,
              "#ed7953"
             ],
             [
              0.7777777777777778,
              "#fb9f3a"
             ],
             [
              0.8888888888888888,
              "#fdca26"
             ],
             [
              1,
              "#f0f921"
             ]
            ],
            "type": "contour"
           }
          ],
          "contourcarpet": [
           {
            "colorbar": {
             "outlinewidth": 0,
             "ticks": ""
            },
            "type": "contourcarpet"
           }
          ],
          "heatmap": [
           {
            "colorbar": {
             "outlinewidth": 0,
             "ticks": ""
            },
            "colorscale": [
             [
              0,
              "#0d0887"
             ],
             [
              0.1111111111111111,
              "#46039f"
             ],
             [
              0.2222222222222222,
              "#7201a8"
             ],
             [
              0.3333333333333333,
              "#9c179e"
             ],
             [
              0.4444444444444444,
              "#bd3786"
             ],
             [
              0.5555555555555556,
              "#d8576b"
             ],
             [
              0.6666666666666666,
              "#ed7953"
             ],
             [
              0.7777777777777778,
              "#fb9f3a"
             ],
             [
              0.8888888888888888,
              "#fdca26"
             ],
             [
              1,
              "#f0f921"
             ]
            ],
            "type": "heatmap"
           }
          ],
          "histogram": [
           {
            "marker": {
             "pattern": {
              "fillmode": "overlay",
              "size": 10,
              "solidity": 0.2
             }
            },
            "type": "histogram"
           }
          ],
          "histogram2d": [
           {
            "colorbar": {
             "outlinewidth": 0,
             "ticks": ""
            },
            "colorscale": [
             [
              0,
              "#0d0887"
             ],
             [
              0.1111111111111111,
              "#46039f"
             ],
             [
              0.2222222222222222,
              "#7201a8"
             ],
             [
              0.3333333333333333,
              "#9c179e"
             ],
             [
              0.4444444444444444,
              "#bd3786"
             ],
             [
              0.5555555555555556,
              "#d8576b"
             ],
             [
              0.6666666666666666,
              "#ed7953"
             ],
             [
              0.7777777777777778,
              "#fb9f3a"
             ],
             [
              0.8888888888888888,
              "#fdca26"
             ],
             [
              1,
              "#f0f921"
             ]
            ],
            "type": "histogram2d"
           }
          ],
          "histogram2dcontour": [
           {
            "colorbar": {
             "outlinewidth": 0,
             "ticks": ""
            },
            "colorscale": [
             [
              0,
              "#0d0887"
             ],
             [
              0.1111111111111111,
              "#46039f"
             ],
             [
              0.2222222222222222,
              "#7201a8"
             ],
             [
              0.3333333333333333,
              "#9c179e"
             ],
             [
              0.4444444444444444,
              "#bd3786"
             ],
             [
              0.5555555555555556,
              "#d8576b"
             ],
             [
              0.6666666666666666,
              "#ed7953"
             ],
             [
              0.7777777777777778,
              "#fb9f3a"
             ],
             [
              0.8888888888888888,
              "#fdca26"
             ],
             [
              1,
              "#f0f921"
             ]
            ],
            "type": "histogram2dcontour"
           }
          ],
          "mesh3d": [
           {
            "colorbar": {
             "outlinewidth": 0,
             "ticks": ""
            },
            "type": "mesh3d"
           }
          ],
          "parcoords": [
           {
            "line": {
             "colorbar": {
              "outlinewidth": 0,
              "ticks": ""
             }
            },
            "type": "parcoords"
           }
          ],
          "pie": [
           {
            "automargin": true,
            "type": "pie"
           }
          ],
          "scatter": [
           {
            "fillpattern": {
             "fillmode": "overlay",
             "size": 10,
             "solidity": 0.2
            },
            "type": "scatter"
           }
          ],
          "scatter3d": [
           {
            "line": {
             "colorbar": {
              "outlinewidth": 0,
              "ticks": ""
             }
            },
            "marker": {
             "colorbar": {
              "outlinewidth": 0,
              "ticks": ""
             }
            },
            "type": "scatter3d"
           }
          ],
          "scattercarpet": [
           {
            "marker": {
             "colorbar": {
              "outlinewidth": 0,
              "ticks": ""
             }
            },
            "type": "scattercarpet"
           }
          ],
          "scattergeo": [
           {
            "marker": {
             "colorbar": {
              "outlinewidth": 0,
              "ticks": ""
             }
            },
            "type": "scattergeo"
           }
          ],
          "scattergl": [
           {
            "marker": {
             "colorbar": {
              "outlinewidth": 0,
              "ticks": ""
             }
            },
            "type": "scattergl"
           }
          ],
          "scattermap": [
           {
            "marker": {
             "colorbar": {
              "outlinewidth": 0,
              "ticks": ""
             }
            },
            "type": "scattermap"
           }
          ],
          "scattermapbox": [
           {
            "marker": {
             "colorbar": {
              "outlinewidth": 0,
              "ticks": ""
             }
            },
            "type": "scattermapbox"
           }
          ],
          "scatterpolar": [
           {
            "marker": {
             "colorbar": {
              "outlinewidth": 0,
              "ticks": ""
             }
            },
            "type": "scatterpolar"
           }
          ],
          "scatterpolargl": [
           {
            "marker": {
             "colorbar": {
              "outlinewidth": 0,
              "ticks": ""
             }
            },
            "type": "scatterpolargl"
           }
          ],
          "scatterternary": [
           {
            "marker": {
             "colorbar": {
              "outlinewidth": 0,
              "ticks": ""
             }
            },
            "type": "scatterternary"
           }
          ],
          "surface": [
           {
            "colorbar": {
             "outlinewidth": 0,
             "ticks": ""
            },
            "colorscale": [
             [
              0,
              "#0d0887"
             ],
             [
              0.1111111111111111,
              "#46039f"
             ],
             [
              0.2222222222222222,
              "#7201a8"
             ],
             [
              0.3333333333333333,
              "#9c179e"
             ],
             [
              0.4444444444444444,
              "#bd3786"
             ],
             [
              0.5555555555555556,
              "#d8576b"
             ],
             [
              0.6666666666666666,
              "#ed7953"
             ],
             [
              0.7777777777777778,
              "#fb9f3a"
             ],
             [
              0.8888888888888888,
              "#fdca26"
             ],
             [
              1,
              "#f0f921"
             ]
            ],
            "type": "surface"
           }
          ],
          "table": [
           {
            "cells": {
             "fill": {
              "color": "#EBF0F8"
             },
             "line": {
              "color": "white"
             }
            },
            "header": {
             "fill": {
              "color": "#C8D4E3"
             },
             "line": {
              "color": "white"
             }
            },
            "type": "table"
           }
          ]
         },
         "layout": {
          "annotationdefaults": {
           "arrowcolor": "#2a3f5f",
           "arrowhead": 0,
           "arrowwidth": 1
          },
          "autotypenumbers": "strict",
          "coloraxis": {
           "colorbar": {
            "outlinewidth": 0,
            "ticks": ""
           }
          },
          "colorscale": {
           "diverging": [
            [
             0,
             "#8e0152"
            ],
            [
             0.1,
             "#c51b7d"
            ],
            [
             0.2,
             "#de77ae"
            ],
            [
             0.3,
             "#f1b6da"
            ],
            [
             0.4,
             "#fde0ef"
            ],
            [
             0.5,
             "#f7f7f7"
            ],
            [
             0.6,
             "#e6f5d0"
            ],
            [
             0.7,
             "#b8e186"
            ],
            [
             0.8,
             "#7fbc41"
            ],
            [
             0.9,
             "#4d9221"
            ],
            [
             1,
             "#276419"
            ]
           ],
           "sequential": [
            [
             0,
             "#0d0887"
            ],
            [
             0.1111111111111111,
             "#46039f"
            ],
            [
             0.2222222222222222,
             "#7201a8"
            ],
            [
             0.3333333333333333,
             "#9c179e"
            ],
            [
             0.4444444444444444,
             "#bd3786"
            ],
            [
             0.5555555555555556,
             "#d8576b"
            ],
            [
             0.6666666666666666,
             "#ed7953"
            ],
            [
             0.7777777777777778,
             "#fb9f3a"
            ],
            [
             0.8888888888888888,
             "#fdca26"
            ],
            [
             1,
             "#f0f921"
            ]
           ],
           "sequentialminus": [
            [
             0,
             "#0d0887"
            ],
            [
             0.1111111111111111,
             "#46039f"
            ],
            [
             0.2222222222222222,
             "#7201a8"
            ],
            [
             0.3333333333333333,
             "#9c179e"
            ],
            [
             0.4444444444444444,
             "#bd3786"
            ],
            [
             0.5555555555555556,
             "#d8576b"
            ],
            [
             0.6666666666666666,
             "#ed7953"
            ],
            [
             0.7777777777777778,
             "#fb9f3a"
            ],
            [
             0.8888888888888888,
             "#fdca26"
            ],
            [
             1,
             "#f0f921"
            ]
           ]
          },
          "colorway": [
           "#636efa",
           "#EF553B",
           "#00cc96",
           "#ab63fa",
           "#FFA15A",
           "#19d3f3",
           "#FF6692",
           "#B6E880",
           "#FF97FF",
           "#FECB52"
          ],
          "font": {
           "color": "#2a3f5f"
          },
          "geo": {
           "bgcolor": "white",
           "lakecolor": "white",
           "landcolor": "#E5ECF6",
           "showlakes": true,
           "showland": true,
           "subunitcolor": "white"
          },
          "hoverlabel": {
           "align": "left"
          },
          "hovermode": "closest",
          "mapbox": {
           "style": "light"
          },
          "paper_bgcolor": "white",
          "plot_bgcolor": "#E5ECF6",
          "polar": {
           "angularaxis": {
            "gridcolor": "white",
            "linecolor": "white",
            "ticks": ""
           },
           "bgcolor": "#E5ECF6",
           "radialaxis": {
            "gridcolor": "white",
            "linecolor": "white",
            "ticks": ""
           }
          },
          "scene": {
           "xaxis": {
            "backgroundcolor": "#E5ECF6",
            "gridcolor": "white",
            "gridwidth": 2,
            "linecolor": "white",
            "showbackground": true,
            "ticks": "",
            "zerolinecolor": "white"
           },
           "yaxis": {
            "backgroundcolor": "#E5ECF6",
            "gridcolor": "white",
            "gridwidth": 2,
            "linecolor": "white",
            "showbackground": true,
            "ticks": "",
            "zerolinecolor": "white"
           },
           "zaxis": {
            "backgroundcolor": "#E5ECF6",
            "gridcolor": "white",
            "gridwidth": 2,
            "linecolor": "white",
            "showbackground": true,
            "ticks": "",
            "zerolinecolor": "white"
           }
          },
          "shapedefaults": {
           "line": {
            "color": "#2a3f5f"
           }
          },
          "ternary": {
           "aaxis": {
            "gridcolor": "white",
            "linecolor": "white",
            "ticks": ""
           },
           "baxis": {
            "gridcolor": "white",
            "linecolor": "white",
            "ticks": ""
           },
           "bgcolor": "#E5ECF6",
           "caxis": {
            "gridcolor": "white",
            "linecolor": "white",
            "ticks": ""
           }
          },
          "title": {
           "x": 0.05
          },
          "xaxis": {
           "automargin": true,
           "gridcolor": "white",
           "linecolor": "white",
           "ticks": "",
           "title": {
            "standoff": 15
           },
           "zerolinecolor": "white",
           "zerolinewidth": 2
          },
          "yaxis": {
           "automargin": true,
           "gridcolor": "white",
           "linecolor": "white",
           "ticks": "",
           "title": {
            "standoff": 15
           },
           "zerolinecolor": "white",
           "zerolinewidth": 2
          }
         }
        },
        "width": 600
       }
      }
     },
     "metadata": {},
     "output_type": "display_data"
    }
   ],
   "source": [
    "fig = go.Figure()\n",
    "\n",
    "str_labels = [label for label in kmeans.labels_]\n",
    "cluster_colors = {0: 'blue', 1: 'red'}\n",
    "cluster_colors = dict(zip(range(clusters), cluster_colors.values()))\n",
    "\n",
    "fig.add_trace(go.Scatter3d(\n",
    "    x=pca_data[0],\n",
    "    y=pca_data[1],\n",
    "    z=pca_data[2],\n",
    "    mode='markers+text',\n",
    "    marker=dict(\n",
    "        size=5,\n",
    "        color=list(map(lambda label: cluster_colors[label], dpn)),\n",
    "        opacity=0.8\n",
    "    ),\n",
    "    text=str_labels,\n",
    "    textposition='top center'\n",
    "))\n",
    "\n",
    "fig.update_layout(\n",
    "    scene=dict(\n",
    "        xaxis_title='Component 1',\n",
    "        yaxis_title='Component 2',\n",
    "        zaxis_title='Component 3',\n",
    "        aspectratio=dict(x=1, y=1, z=1),\n",
    "        aspectmode='cube'\n",
    "    ),\n",
    "    width=600, height=500,\n",
    "    margin=dict(l=10, r=10, b=10, t=10)\n",
    ")\n",
    "\n",
    "fig.show()\n"
   ]
  },
  {
   "cell_type": "code",
   "execution_count": 65,
   "metadata": {},
   "outputs": [],
   "source": [
    "median_pivot = median_pivot.drop(columns=[\"id\", \"DPN\"])"
   ]
  },
  {
   "cell_type": "markdown",
   "metadata": {},
   "source": [
    "# LDA"
   ]
  },
  {
   "cell_type": "code",
   "execution_count": null,
   "metadata": {},
   "outputs": [],
   "source": []
  },
  {
   "cell_type": "code",
   "execution_count": 114,
   "metadata": {},
   "outputs": [
    {
     "data": {
      "image/png": "[encoded data removed]",
      "text/plain": [
       "<Figure size 1000x300 with 1 Axes>"
      ]
     },
     "metadata": {},
     "output_type": "display_data"
    },
    {
     "name": "stdout",
     "output_type": "stream",
     "text": [
      "Explained variance ratio:  [1.]\n",
      "Intercept:  [112.48833678]\n",
      "Priors [0.84615385 0.15384615]\n"
     ]
    },
    {
     "data": {
      "text/html": [
       "<div>\n",
       "<style scoped>\n",
       "    .dataframe tbody tr th:only-of-type {\n",
       "        vertical-align: middle;\n",
       "    }\n",
       "\n",
       "    .dataframe tbody tr th {\n",
       "        vertical-align: top;\n",
       "    }\n",
       "\n",
       "    .dataframe thead th {\n",
       "        text-align: right;\n",
       "    }\n",
       "</style>\n",
       "<table border=\"1\" class=\"dataframe\">\n",
       "  <thead>\n",
       "    <tr style=\"text-align: right;\">\n",
       "      <th></th>\n",
       "      <th>Columns</th>\n",
       "      <th>LDA Coef</th>\n",
       "      <th>Means</th>\n",
       "    </tr>\n",
       "  </thead>\n",
       "  <tbody>\n",
       "    <tr>\n",
       "      <th>0</th>\n",
       "      <td>SDRR</td>\n",
       "      <td>86.67</td>\n",
       "      <td>0.63</td>\n",
       "    </tr>\n",
       "    <tr>\n",
       "      <th>1</th>\n",
       "      <td>RMSSD</td>\n",
       "      <td>-34.18</td>\n",
       "      <td>0.29</td>\n",
       "    </tr>\n",
       "    <tr>\n",
       "      <th>2</th>\n",
       "      <td>pNN50 (%)</td>\n",
       "      <td>-9.01</td>\n",
       "      <td>0.34</td>\n",
       "    </tr>\n",
       "    <tr>\n",
       "      <th>3</th>\n",
       "      <td>Mean HR (bpm)</td>\n",
       "      <td>6.24</td>\n",
       "      <td>0.62</td>\n",
       "    </tr>\n",
       "    <tr>\n",
       "      <th>4</th>\n",
       "      <td>VLF Power</td>\n",
       "      <td>6.68</td>\n",
       "      <td>0.53</td>\n",
       "    </tr>\n",
       "    <tr>\n",
       "      <th>5</th>\n",
       "      <td>VLF Peak Frequency</td>\n",
       "      <td>-43.45</td>\n",
       "      <td>0.71</td>\n",
       "    </tr>\n",
       "    <tr>\n",
       "      <th>6</th>\n",
       "      <td>LF Power</td>\n",
       "      <td>-12.79</td>\n",
       "      <td>0.20</td>\n",
       "    </tr>\n",
       "    <tr>\n",
       "      <th>7</th>\n",
       "      <td>LF Peak Frequency</td>\n",
       "      <td>147.18</td>\n",
       "      <td>0.22</td>\n",
       "    </tr>\n",
       "    <tr>\n",
       "      <th>8</th>\n",
       "      <td>HF Power</td>\n",
       "      <td>-6.17</td>\n",
       "      <td>0.57</td>\n",
       "    </tr>\n",
       "    <tr>\n",
       "      <th>9</th>\n",
       "      <td>HF Peak Frequency</td>\n",
       "      <td>43.28</td>\n",
       "      <td>0.49</td>\n",
       "    </tr>\n",
       "    <tr>\n",
       "      <th>10</th>\n",
       "      <td>LF÷HF Ratio</td>\n",
       "      <td>-58.92</td>\n",
       "      <td>0.36</td>\n",
       "    </tr>\n",
       "    <tr>\n",
       "      <th>11</th>\n",
       "      <td>S</td>\n",
       "      <td>43.35</td>\n",
       "      <td>0.49</td>\n",
       "    </tr>\n",
       "    <tr>\n",
       "      <th>12</th>\n",
       "      <td>SD1</td>\n",
       "      <td>-117.69</td>\n",
       "      <td>0.59</td>\n",
       "    </tr>\n",
       "    <tr>\n",
       "      <th>13</th>\n",
       "      <td>SD2</td>\n",
       "      <td>-229.49</td>\n",
       "      <td>0.51</td>\n",
       "    </tr>\n",
       "    <tr>\n",
       "      <th>14</th>\n",
       "      <td>SD1÷SD2</td>\n",
       "      <td>209.27</td>\n",
       "      <td>0.50</td>\n",
       "    </tr>\n",
       "    <tr>\n",
       "      <th>15</th>\n",
       "      <td>ApEn</td>\n",
       "      <td>-119.71</td>\n",
       "      <td>0.58</td>\n",
       "    </tr>\n",
       "    <tr>\n",
       "      <th>16</th>\n",
       "      <td>SampEn</td>\n",
       "      <td>-30.50</td>\n",
       "      <td>0.75</td>\n",
       "    </tr>\n",
       "    <tr>\n",
       "      <th>17</th>\n",
       "      <td>DFA α1</td>\n",
       "      <td>-159.54</td>\n",
       "      <td>0.15</td>\n",
       "    </tr>\n",
       "    <tr>\n",
       "      <th>18</th>\n",
       "      <td>DFA α2</td>\n",
       "      <td>44.57</td>\n",
       "      <td>0.23</td>\n",
       "    </tr>\n",
       "  </tbody>\n",
       "</table>\n",
       "</div>"
      ],
      "text/plain": [
       "               Columns  LDA Coef  Means\n",
       "0                 SDRR     86.67   0.63\n",
       "1                RMSSD    -34.18   0.29\n",
       "2            pNN50 (%)     -9.01   0.34\n",
       "3        Mean HR (bpm)      6.24   0.62\n",
       "4            VLF Power      6.68   0.53\n",
       "5   VLF Peak Frequency    -43.45   0.71\n",
       "6             LF Power    -12.79   0.20\n",
       "7    LF Peak Frequency    147.18   0.22\n",
       "8             HF Power     -6.17   0.57\n",
       "9    HF Peak Frequency     43.28   0.49\n",
       "10         LF÷HF Ratio    -58.92   0.36\n",
       "11                   S     43.35   0.49\n",
       "12                 SD1   -117.69   0.59\n",
       "13                 SD2   -229.49   0.51\n",
       "14             SD1÷SD2    209.27   0.50\n",
       "15                ApEn   -119.71   0.58\n",
       "16              SampEn    -30.50   0.75\n",
       "17              DFA α1   -159.54   0.15\n",
       "18              DFA α2     44.57   0.23"
      ]
     },
     "metadata": {},
     "output_type": "display_data"
    }
   ],
   "source": [
    "from sklearn.discriminant_analysis import LinearDiscriminantAnalysis\n",
    "import seaborn as sns\n",
    "import matplotlib.pyplot as plt\n",
    "\n",
    "def perform_lda(data, target, columns = None, n_components=1):\n",
    "    if columns is not None:\n",
    "        data = data[columns]\n",
    "    \n",
    "    data = (data - data.min()) / (data.max() - data.min())\n",
    "    lda = LinearDiscriminantAnalysis(n_components=n_components)\n",
    "    lda_data = lda.fit_transform(data, target)\n",
    "    lda_df = pd.DataFrame(lda_data)\n",
    "    lda_df['Cluster'] = target\n",
    "\n",
    "   # print(dir(lda_data))\n",
    "    return lda_df, lda\n",
    "\n",
    "\n",
    "def plot_lda_results(lda_df, dpn, title = 'LDA Results'):\n",
    "    plt.figure(figsize=(10, 3))\n",
    "    sns.scatterplot(x=lda_df[0], y=[0] * len(lda_df), hue=lda_df['Cluster'], palette=cluster_colors, s=100, alpha=0.7)\n",
    "    plt.yticks([])\n",
    "    plt.xlabel('LDA Component 1')\n",
    "    plt.title(title)\n",
    "    plt.show()\n",
    "\n",
    "def show_lda_stats(lda, columns):\n",
    "    print(\"Explained variance ratio: \", lda.explained_variance_ratio_)\n",
    "    print(\"Intercept: \", lda.intercept_)\n",
    "    print(\"Priors\", lda.priors_)\n",
    "\n",
    "    df = pd.DataFrame({\n",
    "        'Columns': columns,\n",
    "        'LDA Coef': lda.coef_[0],\n",
    "        'Means': lda.means_[0],\n",
    "    })\n",
    "    display(df)\n",
    "\n",
    "\n",
    "\n",
    "\n",
    "lda_df, lda = perform_lda(median_pivot, dpn)\n",
    "plot_lda_results(lda_df, dpn, \"Overall HRV LDA results\")\n",
    "show_lda_stats(lda, indicator_columns)"
   ]
  },
  {
   "cell_type": "markdown",
   "metadata": {},
   "source": [
    "LDA allows to isolate all of the DPN patients by over-fitting."
   ]
  },
  {
   "cell_type": "code",
   "execution_count": 115,
   "metadata": {},
   "outputs": [
    {
     "data": {
      "image/png": "[encoded data removed]",
      "text/plain": [
       "<Figure size 1000x300 with 1 Axes>"
      ]
     },
     "metadata": {},
     "output_type": "display_data"
    },
    {
     "name": "stdout",
     "output_type": "stream",
     "text": [
      "Explained variance ratio:  [1.]\n",
      "Intercept:  [-1.22859992]\n",
      "Priors [0.84615385 0.15384615]\n"
     ]
    },
    {
     "data": {
      "text/html": [
       "<div>\n",
       "<style scoped>\n",
       "    .dataframe tbody tr th:only-of-type {\n",
       "        vertical-align: middle;\n",
       "    }\n",
       "\n",
       "    .dataframe tbody tr th {\n",
       "        vertical-align: top;\n",
       "    }\n",
       "\n",
       "    .dataframe thead th {\n",
       "        text-align: right;\n",
       "    }\n",
       "</style>\n",
       "<table border=\"1\" class=\"dataframe\">\n",
       "  <thead>\n",
       "    <tr style=\"text-align: right;\">\n",
       "      <th></th>\n",
       "      <th>Columns</th>\n",
       "      <th>LDA Coef</th>\n",
       "      <th>Means</th>\n",
       "    </tr>\n",
       "  </thead>\n",
       "  <tbody>\n",
       "    <tr>\n",
       "      <th>0</th>\n",
       "      <td>SDRR</td>\n",
       "      <td>-12.14</td>\n",
       "      <td>0.50</td>\n",
       "    </tr>\n",
       "    <tr>\n",
       "      <th>1</th>\n",
       "      <td>RMSSD</td>\n",
       "      <td>5.78</td>\n",
       "      <td>0.49</td>\n",
       "    </tr>\n",
       "    <tr>\n",
       "      <th>2</th>\n",
       "      <td>pNN50 (%)</td>\n",
       "      <td>2.85</td>\n",
       "      <td>0.23</td>\n",
       "    </tr>\n",
       "    <tr>\n",
       "      <th>3</th>\n",
       "      <td>Mean HR (bpm)</td>\n",
       "      <td>1.91</td>\n",
       "      <td>0.57</td>\n",
       "    </tr>\n",
       "  </tbody>\n",
       "</table>\n",
       "</div>"
      ],
      "text/plain": [
       "         Columns  LDA Coef  Means\n",
       "0           SDRR    -12.14   0.50\n",
       "1          RMSSD      5.78   0.49\n",
       "2      pNN50 (%)      2.85   0.23\n",
       "3  Mean HR (bpm)      1.91   0.57"
      ]
     },
     "metadata": {},
     "output_type": "display_data"
    }
   ],
   "source": [
    "lda_df, lda = perform_lda(median_pivot, dpn, columns=time_metrics)\n",
    "plot_lda_results(lda_df, dpn, \"Time Metrics HRV LDA results\")\n",
    "show_lda_stats(lda, time_metrics)"
   ]
  },
  {
   "cell_type": "code",
   "execution_count": 116,
   "metadata": {},
   "outputs": [
    {
     "data": {
      "image/png": "[encoded data removed]",
      "text/plain": [
       "<Figure size 1000x300 with 1 Axes>"
      ]
     },
     "metadata": {},
     "output_type": "display_data"
    },
    {
     "name": "stdout",
     "output_type": "stream",
     "text": [
      "Explained variance ratio:  [1.]\n",
      "Intercept:  [7.26871709]\n",
      "Priors [0.84615385 0.15384615]\n"
     ]
    },
    {
     "data": {
      "text/html": [
       "<div>\n",
       "<style scoped>\n",
       "    .dataframe tbody tr th:only-of-type {\n",
       "        vertical-align: middle;\n",
       "    }\n",
       "\n",
       "    .dataframe tbody tr th {\n",
       "        vertical-align: top;\n",
       "    }\n",
       "\n",
       "    .dataframe thead th {\n",
       "        text-align: right;\n",
       "    }\n",
       "</style>\n",
       "<table border=\"1\" class=\"dataframe\">\n",
       "  <thead>\n",
       "    <tr style=\"text-align: right;\">\n",
       "      <th></th>\n",
       "      <th>Columns</th>\n",
       "      <th>LDA Coef</th>\n",
       "      <th>Means</th>\n",
       "    </tr>\n",
       "  </thead>\n",
       "  <tbody>\n",
       "    <tr>\n",
       "      <th>0</th>\n",
       "      <td>VLF Power</td>\n",
       "      <td>-45.41</td>\n",
       "      <td>0.15</td>\n",
       "    </tr>\n",
       "    <tr>\n",
       "      <th>1</th>\n",
       "      <td>VLF Peak Frequency</td>\n",
       "      <td>-9.99</td>\n",
       "      <td>0.75</td>\n",
       "    </tr>\n",
       "    <tr>\n",
       "      <th>2</th>\n",
       "      <td>LF Power</td>\n",
       "      <td>6.15</td>\n",
       "      <td>0.20</td>\n",
       "    </tr>\n",
       "    <tr>\n",
       "      <th>3</th>\n",
       "      <td>LF Peak Frequency</td>\n",
       "      <td>-12.13</td>\n",
       "      <td>0.71</td>\n",
       "    </tr>\n",
       "    <tr>\n",
       "      <th>4</th>\n",
       "      <td>HF Power</td>\n",
       "      <td>-1.23</td>\n",
       "      <td>0.53</td>\n",
       "    </tr>\n",
       "    <tr>\n",
       "      <th>5</th>\n",
       "      <td>HF Peak Frequency</td>\n",
       "      <td>4.35</td>\n",
       "      <td>0.62</td>\n",
       "    </tr>\n",
       "    <tr>\n",
       "      <th>6</th>\n",
       "      <td>LF÷HF Ratio</td>\n",
       "      <td>38.02</td>\n",
       "      <td>0.22</td>\n",
       "    </tr>\n",
       "  </tbody>\n",
       "</table>\n",
       "</div>"
      ],
      "text/plain": [
       "              Columns  LDA Coef  Means\n",
       "0           VLF Power    -45.41   0.15\n",
       "1  VLF Peak Frequency     -9.99   0.75\n",
       "2            LF Power      6.15   0.20\n",
       "3   LF Peak Frequency    -12.13   0.71\n",
       "4            HF Power     -1.23   0.53\n",
       "5   HF Peak Frequency      4.35   0.62\n",
       "6         LF÷HF Ratio     38.02   0.22"
      ]
     },
     "metadata": {},
     "output_type": "display_data"
    }
   ],
   "source": [
    "lda_df, lda = perform_lda(median_pivot, dpn, frequency_metrics)\n",
    "plot_lda_results(lda_df, dpn, \"Frequency metrics HRV LDA results\")\n",
    "show_lda_stats(lda, frequency_metrics)"
   ]
  },
  {
   "cell_type": "code",
   "execution_count": 117,
   "metadata": {},
   "outputs": [
    {
     "data": {
      "image/png": "[encoded data removed]",
      "text/plain": [
       "<Figure size 1000x300 with 1 Axes>"
      ]
     },
     "metadata": {},
     "output_type": "display_data"
    },
    {
     "name": "stdout",
     "output_type": "stream",
     "text": [
      "Explained variance ratio:  [1.]\n",
      "Intercept:  [9.06729449]\n",
      "Priors [0.84615385 0.15384615]\n"
     ]
    },
    {
     "data": {
      "text/html": [
       "<div>\n",
       "<style scoped>\n",
       "    .dataframe tbody tr th:only-of-type {\n",
       "        vertical-align: middle;\n",
       "    }\n",
       "\n",
       "    .dataframe tbody tr th {\n",
       "        vertical-align: top;\n",
       "    }\n",
       "\n",
       "    .dataframe thead th {\n",
       "        text-align: right;\n",
       "    }\n",
       "</style>\n",
       "<table border=\"1\" class=\"dataframe\">\n",
       "  <thead>\n",
       "    <tr style=\"text-align: right;\">\n",
       "      <th></th>\n",
       "      <th>Columns</th>\n",
       "      <th>LDA Coef</th>\n",
       "      <th>Means</th>\n",
       "    </tr>\n",
       "  </thead>\n",
       "  <tbody>\n",
       "    <tr>\n",
       "      <th>0</th>\n",
       "      <td>S</td>\n",
       "      <td>11.32</td>\n",
       "      <td>0.36</td>\n",
       "    </tr>\n",
       "    <tr>\n",
       "      <th>1</th>\n",
       "      <td>SD1</td>\n",
       "      <td>-3.82</td>\n",
       "      <td>0.49</td>\n",
       "    </tr>\n",
       "    <tr>\n",
       "      <th>2</th>\n",
       "      <td>SD2</td>\n",
       "      <td>-12.52</td>\n",
       "      <td>0.51</td>\n",
       "    </tr>\n",
       "    <tr>\n",
       "      <th>3</th>\n",
       "      <td>SD1÷SD2</td>\n",
       "      <td>-8.48</td>\n",
       "      <td>0.59</td>\n",
       "    </tr>\n",
       "    <tr>\n",
       "      <th>4</th>\n",
       "      <td>ApEn</td>\n",
       "      <td>19.41</td>\n",
       "      <td>0.63</td>\n",
       "    </tr>\n",
       "    <tr>\n",
       "      <th>5</th>\n",
       "      <td>SampEn</td>\n",
       "      <td>-23.57</td>\n",
       "      <td>0.58</td>\n",
       "    </tr>\n",
       "    <tr>\n",
       "      <th>6</th>\n",
       "      <td>DFA α1</td>\n",
       "      <td>-12.19</td>\n",
       "      <td>0.29</td>\n",
       "    </tr>\n",
       "    <tr>\n",
       "      <th>7</th>\n",
       "      <td>DFA α2</td>\n",
       "      <td>4.27</td>\n",
       "      <td>0.34</td>\n",
       "    </tr>\n",
       "  </tbody>\n",
       "</table>\n",
       "</div>"
      ],
      "text/plain": [
       "   Columns  LDA Coef  Means\n",
       "0        S     11.32   0.36\n",
       "1      SD1     -3.82   0.49\n",
       "2      SD2    -12.52   0.51\n",
       "3  SD1÷SD2     -8.48   0.59\n",
       "4     ApEn     19.41   0.63\n",
       "5   SampEn    -23.57   0.58\n",
       "6   DFA α1    -12.19   0.29\n",
       "7   DFA α2      4.27   0.34"
      ]
     },
     "metadata": {},
     "output_type": "display_data"
    }
   ],
   "source": [
    "lda_df, lda = perform_lda(median_pivot, dpn, non_linear_metrics)\n",
    "plot_lda_results(lda_df, dpn, \"Frequency metrics HRV LDA results\")\n",
    "show_lda_stats(lda, non_linear_metrics)"
   ]
  },
  {
   "cell_type": "markdown",
   "metadata": {},
   "source": [
    "### LDA Man whitney >0.10"
   ]
  },
  {
   "cell_type": "code",
   "execution_count": null,
   "metadata": {},
   "outputs": [],
   "source": [
    "col = \n",
    "\n",
    "lda_df, lda = perform_lda(median_pivot, dpn, col)\n",
    "plot_lda_results(lda_df, dpn, \"Frequency metrics HRV LDA results\")\n",
    "show_lda_stats(lda, col)"
   ]
  },
  {
   "cell_type": "markdown",
   "metadata": {},
   "source": [
    "# LDA for whole data"
   ]
  },
  {
   "cell_type": "code",
   "execution_count": null,
   "metadata": {},
   "outputs": [
    {
     "name": "stdout",
     "output_type": "stream",
     "text": [
      "<class 'pandas.core.frame.DataFrame'>\n",
      "Index: 3210 entries, 0 to 3254\n",
      "Data columns (total 21 columns):\n",
      " #   Column              Non-Null Count  Dtype  \n",
      "---  ------              --------------  -----  \n",
      " 0   id                  3210 non-null   int64  \n",
      " 1   DPN                 3210 non-null   bool   \n",
      " 2   SDRR                3210 non-null   float64\n",
      " 3   RMSSD               3210 non-null   float64\n",
      " 4   pNN50 (%)           3210 non-null   float64\n",
      " 5   Mean HR (bpm)       3210 non-null   float64\n",
      " 6   VLF Power           3210 non-null   float64\n",
      " 7   VLF Peak Frequency  3210 non-null   float64\n",
      " 8   LF Power            3210 non-null   float64\n",
      " 9   LF Peak Frequency   3210 non-null   float64\n",
      " 10  HF Power            3210 non-null   float64\n",
      " 11  HF Peak Frequency   3210 non-null   float64\n",
      " 12  LF÷HF Ratio         3210 non-null   float64\n",
      " 13  S                   3210 non-null   float64\n",
      " 14  SD1                 3210 non-null   float64\n",
      " 15  SD2                 3210 non-null   float64\n",
      " 16  SD1÷SD2             3210 non-null   float64\n",
      " 17  ApEn                3210 non-null   float64\n",
      " 18  SampEn              3210 non-null   float64\n",
      " 19  DFA α1              3210 non-null   float64\n",
      " 20  DFA α2              3210 non-null   float64\n",
      "dtypes: bool(1), float64(19), int64(1)\n",
      "memory usage: 529.8 KB\n"
     ]
    }
   ],
   "source": []
  },
  {
   "cell_type": "code",
   "execution_count": 76,
   "metadata": {},
   "outputs": [
    {
     "data": {
      "image/png": "[encoded data removed]",
      "text/plain": [
       "<Figure size 640x480 with 1 Axes>"
      ]
     },
     "metadata": {},
     "output_type": "display_data"
    }
   ],
   "source": [
    "\n",
    "broad_lda = perform_lda(data[indicator_columns], data.DPN, 1)\n",
    "sns.kdeplot(data=broad_lda, x=0, hue='Cluster', fill=True, common_norm=True, palette=cluster_colors)\n",
    "plt.title('LDA Density Plot')\n",
    "plt.xlabel('LDA Component 1')\n",
    "plt.show()"
   ]
  }
 ],
 "metadata": {
  "kernelspec": {
   "display_name": "Python 3",
   "language": "python",
   "name": "python3"
  },
  "language_info": {
   "codemirror_mode": {
    "name": "ipython",
    "version": 3
   },
   "file_extension": ".py",
   "mimetype": "text/x-python",
   "name": "python",
   "nbconvert_exporter": "python",
   "pygments_lexer": "ipython3",
   "version": "3.11.0"
  }
 },
 "nbformat": 4,
 "nbformat_minor": 2
}
