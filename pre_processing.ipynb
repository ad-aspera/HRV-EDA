{
 "cells": [
  {
   "cell_type": "markdown",
   "metadata": {},
   "source": [
    "# Info\n",
    "\n",
    "Function:\n",
    "* Rename metrics df columns for easier use\n",
    "* Remove outliers\n",
    "* Identify metric rows in an easy to use format\n",
    "* Save result to be loaded in other notebooks"
   ]
  },
  {
   "cell_type": "code",
   "execution_count": 16,
   "metadata": {},
   "outputs": [
    {
     "name": "stdout",
     "output_type": "stream",
     "text": [
      "results/processed_20min_04_15.pkl\n"
     ]
    }
   ],
   "source": [
    "import os\n",
    "import pandas as pd\n",
    "import matplotlib.pyplot as plt\n",
    "import seaborn as sns\n",
    "import numpy as np\n",
    "from scripts.general_utils import utils\n",
    "utils.default_plot_format()\n",
    "\n",
    "time = '20min'\n",
    "\n",
    "data_path = 'results/raw_20min_04_15.pkl'\n",
    "result_path = 'results/processed_20min_04_15.pkl'\n",
    "\n",
    "print(result_path)\n",
    "    "
   ]
  },
  {
   "cell_type": "markdown",
   "metadata": {},
   "source": [
    "# Preparing and renaming column"
   ]
  },
  {
   "cell_type": "code",
   "execution_count": 17,
   "metadata": {},
   "outputs": [
    {
     "data": {
      "text/html": [
       "<div>\n",
       "<style scoped>\n",
       "    .dataframe tbody tr th:only-of-type {\n",
       "        vertical-align: middle;\n",
       "    }\n",
       "\n",
       "    .dataframe tbody tr th {\n",
       "        vertical-align: top;\n",
       "    }\n",
       "\n",
       "    .dataframe thead th {\n",
       "        text-align: right;\n",
       "    }\n",
       "</style>\n",
       "<table border=\"1\" class=\"dataframe\">\n",
       "  <thead>\n",
       "    <tr style=\"text-align: right;\">\n",
       "      <th></th>\n",
       "      <th>t_start</th>\n",
       "      <th>t_end</th>\n",
       "      <th>SDRR</th>\n",
       "      <th>RMSSD</th>\n",
       "      <th>pNN50 (%)</th>\n",
       "      <th>Mean HR (bpm)</th>\n",
       "      <th>ULF Power</th>\n",
       "      <th>ULF Peak Frequency</th>\n",
       "      <th>ULF Peak Power</th>\n",
       "      <th>VLF Power</th>\n",
       "      <th>...</th>\n",
       "      <th>UMA (mg)</th>\n",
       "      <th>UCr (g)</th>\n",
       "      <th>UACR (mg/g)</th>\n",
       "      <th>Diabetic Complications</th>\n",
       "      <th>Diabetic nephropathy</th>\n",
       "      <th>Diabetic retinopathy and cataract</th>\n",
       "      <th>Diabetic peripheral neuropathy</th>\n",
       "      <th>Coronary artery disease and cardiac insufficiency</th>\n",
       "      <th>Lower extremity atherosclerosis or stenosis</th>\n",
       "      <th>Carotid plaque</th>\n",
       "    </tr>\n",
       "  </thead>\n",
       "  <tbody>\n",
       "    <tr>\n",
       "      <th>2715</th>\n",
       "      <td>73287.976</td>\n",
       "      <td>74487.396</td>\n",
       "      <td>209.572912</td>\n",
       "      <td>258.524054</td>\n",
       "      <td>28.606965</td>\n",
       "      <td>80.441151</td>\n",
       "      <td>5.263052e-10</td>\n",
       "      <td>0.001667</td>\n",
       "      <td>4.568020e-07</td>\n",
       "      <td>6.351036e-07</td>\n",
       "      <td>...</td>\n",
       "      <td>4.38</td>\n",
       "      <td>10.23</td>\n",
       "      <td>0.428152</td>\n",
       "      <td>1.0</td>\n",
       "      <td>0.0</td>\n",
       "      <td>0.0</td>\n",
       "      <td>1.0</td>\n",
       "      <td>0.0</td>\n",
       "      <td>0.0</td>\n",
       "      <td>1.0</td>\n",
       "    </tr>\n",
       "    <tr>\n",
       "      <th>2716</th>\n",
       "      <td>74488.272</td>\n",
       "      <td>75687.916</td>\n",
       "      <td>100.239065</td>\n",
       "      <td>133.814867</td>\n",
       "      <td>5.551839</td>\n",
       "      <td>74.767601</td>\n",
       "      <td>5.214950e-08</td>\n",
       "      <td>0.000000</td>\n",
       "      <td>6.169067e-05</td>\n",
       "      <td>4.532411e-07</td>\n",
       "      <td>...</td>\n",
       "      <td>4.38</td>\n",
       "      <td>10.23</td>\n",
       "      <td>0.428152</td>\n",
       "      <td>1.0</td>\n",
       "      <td>0.0</td>\n",
       "      <td>0.0</td>\n",
       "      <td>1.0</td>\n",
       "      <td>0.0</td>\n",
       "      <td>0.0</td>\n",
       "      <td>1.0</td>\n",
       "    </tr>\n",
       "    <tr>\n",
       "      <th>2717</th>\n",
       "      <td>75688.536</td>\n",
       "      <td>76887.948</td>\n",
       "      <td>160.825191</td>\n",
       "      <td>211.303473</td>\n",
       "      <td>28.486842</td>\n",
       "      <td>76.047972</td>\n",
       "      <td>1.146777e-09</td>\n",
       "      <td>0.002501</td>\n",
       "      <td>1.212450e-06</td>\n",
       "      <td>3.902137e-07</td>\n",
       "      <td>...</td>\n",
       "      <td>4.38</td>\n",
       "      <td>10.23</td>\n",
       "      <td>0.428152</td>\n",
       "      <td>1.0</td>\n",
       "      <td>0.0</td>\n",
       "      <td>0.0</td>\n",
       "      <td>1.0</td>\n",
       "      <td>0.0</td>\n",
       "      <td>0.0</td>\n",
       "      <td>1.0</td>\n",
       "    </tr>\n",
       "  </tbody>\n",
       "</table>\n",
       "<p>3 rows × 62 columns</p>\n",
       "</div>"
      ],
      "text/plain": [
       "        t_start      t_end        SDRR       RMSSD  pNN50 (%)  Mean HR (bpm)  \\\n",
       "2715  73287.976  74487.396  209.572912  258.524054  28.606965      80.441151   \n",
       "2716  74488.272  75687.916  100.239065  133.814867   5.551839      74.767601   \n",
       "2717  75688.536  76887.948  160.825191  211.303473  28.486842      76.047972   \n",
       "\n",
       "         ULF Power  ULF Peak Frequency  ULF Peak Power     VLF Power  ...  \\\n",
       "2715  5.263052e-10            0.001667    4.568020e-07  6.351036e-07  ...   \n",
       "2716  5.214950e-08            0.000000    6.169067e-05  4.532411e-07  ...   \n",
       "2717  1.146777e-09            0.002501    1.212450e-06  3.902137e-07  ...   \n",
       "\n",
       "      UMA (mg)  UCr (g)  UACR (mg/g)  Diabetic Complications  \\\n",
       "2715      4.38    10.23     0.428152                     1.0   \n",
       "2716      4.38    10.23     0.428152                     1.0   \n",
       "2717      4.38    10.23     0.428152                     1.0   \n",
       "\n",
       "      Diabetic nephropathy  Diabetic retinopathy and cataract  \\\n",
       "2715                   0.0                                0.0   \n",
       "2716                   0.0                                0.0   \n",
       "2717                   0.0                                0.0   \n",
       "\n",
       "      Diabetic peripheral neuropathy  \\\n",
       "2715                             1.0   \n",
       "2716                             1.0   \n",
       "2717                             1.0   \n",
       "\n",
       "      Coronary artery disease and cardiac insufficiency  \\\n",
       "2715                                                0.0   \n",
       "2716                                                0.0   \n",
       "2717                                                0.0   \n",
       "\n",
       "      Lower extremity atherosclerosis or stenosis  Carotid plaque  \n",
       "2715                                          0.0             1.0  \n",
       "2716                                          0.0             1.0  \n",
       "2717                                          0.0             1.0  \n",
       "\n",
       "[3 rows x 62 columns]"
      ]
     },
     "execution_count": 17,
     "metadata": {},
     "output_type": "execute_result"
    }
   ],
   "source": [
    "data = pd.read_pickle(data_path)\n",
    "data.tail(3)"
   ]
  },
  {
   "cell_type": "markdown",
   "metadata": {},
   "source": [
    "Keep only individuals with no complications or diabetic neuropathy only.\n",
    "Rename the columns in a ways that is easier to follow."
   ]
  },
  {
   "cell_type": "code",
   "execution_count": 18,
   "metadata": {},
   "outputs": [],
   "source": [
    "data.rename(columns={\n",
    "    'Diabetic Complications': 'Complications',\n",
    "    'Diabetic nephropathy': 'Nephropathy',\n",
    "    'Diabetic retinopathy and cataract': 'Retinopathy and cataract',\n",
    "    'Diabetic peripheral neuropathy': 'DPN',\n",
    "    'Coronary artery disease and cardiac insufficiency': 'Heart Disease',\n",
    "    'Lower extremity atherosclerosis or stenosis': 'atherosclerosis or stenosis',\n",
    "    'Carotid plaque': 'Carotid Plaque'\n",
    "}, inplace=True)"
   ]
  },
  {
   "cell_type": "code",
   "execution_count": 19,
   "metadata": {},
   "outputs": [
    {
     "name": "stdout",
     "output_type": "stream",
     "text": [
      "{'19070921': 0, '20010827': 1, '20011712': 2, '19121735': 3, '20052606': 4, '20061729': 5, '20050628': 6, '19120704': 7, '19120302': 8, '19121303': 9, '19120723': 10, '20121033': 11, '20121716': 12, '20120922': 13, '20121718': 14, '20122932': 15, '20092535': 16, '20092226': 17, '20101424': 18, '20102029': 19, '20120116': 20, '19080106': 21, '19081506': 22, '19072940': 23, '19090308': 24, '19090320': 25, '19082406': 26, '19072214': 27, '19072205': 28, '19072939': 29, '19072938': 30, '19102103': 31, '19102524': 32, '19102102': 33, '19112609': 34, '19102622': 35, '19101607': 36, '20123017': 37, '19101619': 38, '20010826': 39, '20101822': 40, '19080715': 41, '19120323': 42}\n"
     ]
    }
   ],
   "source": [
    "data.sort_values(by=[\"DPN\"], inplace=True)\n",
    "new_id = {ID:i for i, ID in enumerate(data.id.unique())}\n",
    "data.id = data.id.map(new_id)\n",
    "print(new_id)"
   ]
  },
  {
   "cell_type": "code",
   "execution_count": 20,
   "metadata": {},
   "outputs": [],
   "source": [
    "to_include = ['Nephropathy', 'Heart Disease', 'Nephropathy', 'Carotid Plaque', 'DPN']\n",
    "to_include = ['DPN']\n",
    "data = data[data[to_include].any(axis=1) | (data['Complications']==0)]\n",
    "\n",
    "data['Condition'] = data['DPN'].apply(lambda x: 'DPN' if x else 'Diabetes')\n",
    "data.tail()\n",
    "\n",
    "data = data.dropna(subset=['DPN'])"
   ]
  },
  {
   "cell_type": "code",
   "execution_count": 21,
   "metadata": {
    "vscode": {
     "languageId": "javascript"
    }
   },
   "outputs": [
    {
     "data": {
      "text/html": [
       "<div>\n",
       "<style scoped>\n",
       "    .dataframe tbody tr th:only-of-type {\n",
       "        vertical-align: middle;\n",
       "    }\n",
       "\n",
       "    .dataframe tbody tr th {\n",
       "        vertical-align: top;\n",
       "    }\n",
       "\n",
       "    .dataframe thead th {\n",
       "        text-align: right;\n",
       "    }\n",
       "</style>\n",
       "<table border=\"1\" class=\"dataframe\">\n",
       "  <thead>\n",
       "    <tr style=\"text-align: right;\">\n",
       "      <th></th>\n",
       "      <th>DPN</th>\n",
       "      <th>Nephropathy</th>\n",
       "      <th>Retinopathy and cataract</th>\n",
       "      <th>Heart Disease</th>\n",
       "      <th>atherosclerosis or stenosis</th>\n",
       "      <th>Carotid Plaque</th>\n",
       "    </tr>\n",
       "    <tr>\n",
       "      <th>id</th>\n",
       "      <th></th>\n",
       "      <th></th>\n",
       "      <th></th>\n",
       "      <th></th>\n",
       "      <th></th>\n",
       "      <th></th>\n",
       "    </tr>\n",
       "  </thead>\n",
       "  <tbody>\n",
       "    <tr>\n",
       "      <th>37</th>\n",
       "      <td>1.0</td>\n",
       "      <td>0.0</td>\n",
       "      <td>0.0</td>\n",
       "      <td>0.0</td>\n",
       "      <td>0.0</td>\n",
       "      <td>1.0</td>\n",
       "    </tr>\n",
       "    <tr>\n",
       "      <th>38</th>\n",
       "      <td>1.0</td>\n",
       "      <td>0.0</td>\n",
       "      <td>0.0</td>\n",
       "      <td>1.0</td>\n",
       "      <td>0.0</td>\n",
       "      <td>0.0</td>\n",
       "    </tr>\n",
       "    <tr>\n",
       "      <th>39</th>\n",
       "      <td>1.0</td>\n",
       "      <td>1.0</td>\n",
       "      <td>0.0</td>\n",
       "      <td>0.0</td>\n",
       "      <td>0.0</td>\n",
       "      <td>0.0</td>\n",
       "    </tr>\n",
       "    <tr>\n",
       "      <th>40</th>\n",
       "      <td>1.0</td>\n",
       "      <td>1.0</td>\n",
       "      <td>0.0</td>\n",
       "      <td>0.0</td>\n",
       "      <td>0.0</td>\n",
       "      <td>1.0</td>\n",
       "    </tr>\n",
       "  </tbody>\n",
       "</table>\n",
       "</div>"
      ],
      "text/plain": [
       "    DPN  Nephropathy  Retinopathy and cataract  Heart Disease  \\\n",
       "id                                                              \n",
       "37  1.0          0.0                       0.0            0.0   \n",
       "38  1.0          0.0                       0.0            1.0   \n",
       "39  1.0          1.0                       0.0            0.0   \n",
       "40  1.0          1.0                       0.0            0.0   \n",
       "\n",
       "    atherosclerosis or stenosis  Carotid Plaque  \n",
       "id                                               \n",
       "37                          0.0             1.0  \n",
       "38                          0.0             0.0  \n",
       "39                          0.0             0.0  \n",
       "40                          0.0             1.0  "
      ]
     },
     "metadata": {},
     "output_type": "display_data"
    },
    {
     "name": "stdout",
     "output_type": "stream",
     "text": [
      "DPN                            4.0\n",
      "Complications                  4.0\n",
      "Nephropathy                    2.0\n",
      "Retinopathy and cataract       0.0\n",
      "Heart Disease                  1.0\n",
      "atherosclerosis or stenosis    0.0\n",
      "Carotid Plaque                 2.0\n",
      "dtype: float64\n"
     ]
    }
   ],
   "source": [
    "conditions = data[['id', 'Complications', 'Nephropathy',\n",
    "    'Retinopathy and cataract', 'DPN', 'Heart Disease',\n",
    "    'atherosclerosis or stenosis', 'Carotid Plaque']]\n",
    "\n",
    "\n",
    "conditions = conditions.copy().drop_duplicates().sort_values('DPN')\n",
    "conditions = conditions.reset_index(drop=True)\n",
    "\n",
    "result = conditions[['id','DPN', 'Complications', 'Nephropathy', \n",
    "    'Retinopathy and cataract', \n",
    "    'Heart Disease', 'atherosclerosis or stenosis', \n",
    "    'Carotid Plaque']].groupby('id').max()\n",
    "\n",
    "display(result[result['Complications'] == 1].drop(columns=['Complications']))\n",
    "print(result.sum())"
   ]
  },
  {
   "cell_type": "code",
   "execution_count": 22,
   "metadata": {},
   "outputs": [
    {
     "name": "stdout",
     "output_type": "stream",
     "text": [
      "<class 'pandas.core.frame.DataFrame'>\n",
      "Index: 1632 entries, 0 to 2717\n",
      "Data columns (total 63 columns):\n",
      " #   Column                       Non-Null Count  Dtype  \n",
      "---  ------                       --------------  -----  \n",
      " 0   t_start                      1632 non-null   float64\n",
      " 1   t_end                        1632 non-null   float64\n",
      " 2   SDRR                         1632 non-null   float64\n",
      " 3   RMSSD                        1632 non-null   float64\n",
      " 4   pNN50 (%)                    1632 non-null   float64\n",
      " 5   Mean HR (bpm)                1632 non-null   float64\n",
      " 6   ULF Power                    1632 non-null   float64\n",
      " 7   ULF Peak Frequency           1632 non-null   float64\n",
      " 8   ULF Peak Power               1632 non-null   float64\n",
      " 9   VLF Power                    1632 non-null   float64\n",
      " 10  VLF Peak Frequency           1632 non-null   float64\n",
      " 11  VLF Peak Power               1632 non-null   float64\n",
      " 12  LF Power                     1632 non-null   float64\n",
      " 13  LF Peak Frequency            1632 non-null   float64\n",
      " 14  LF Peak Power                1632 non-null   float64\n",
      " 15  HF Power                     1632 non-null   float64\n",
      " 16  HF Peak Frequency            1632 non-null   float64\n",
      " 17  HF Peak Power                1632 non-null   float64\n",
      " 18  LF/HF Ratio                  1632 non-null   float64\n",
      " 19  SD1                          1632 non-null   float64\n",
      " 20  SD2                          1632 non-null   float64\n",
      " 21  SD1/SD2                      1632 non-null   float64\n",
      " 22  S                            1632 non-null   float64\n",
      " 23  ApEn                         1632 non-null   float64\n",
      " 24  SampEn                       1632 non-null   float64\n",
      " 25  DFA α1                       1632 non-null   float64\n",
      " 26  DFA α2                       1632 non-null   float64\n",
      " 27  D2                           1540 non-null   float64\n",
      " 28  id                           1632 non-null   int64  \n",
      " 29  gender                       1632 non-null   object \n",
      " 30  age                          1632 non-null   int64  \n",
      " 31  height                       1632 non-null   int64  \n",
      " 32  weight                       1632 non-null   float64\n",
      " 33  admission FBG (mmol/L)       1437 non-null   float64\n",
      " 34  Discharge FBG (mmol/L)       1071 non-null   float64\n",
      " 35  HbA1c (%)                    1095 non-null   float64\n",
      " 36  SBP (mmHg)                   1632 non-null   float64\n",
      " 37  DBP (mmHg)                   1632 non-null   float64\n",
      " 38  WBC (×109/L)                 1632 non-null   float64\n",
      " 39  N% (%)                       1632 non-null   float64\n",
      " 40  Hb (g/L)                     1632 non-null   float64\n",
      " 41  PLT (×109/L)                 1632 non-null   float64\n",
      " 42  CRP (mg/L)                   1314 non-null   float64\n",
      " 43  ALT (U/L)                    1562 non-null   float64\n",
      " 44   AST (U/L)                   1562 non-null   float64\n",
      " 45  AST/ALT                      1562 non-null   float64\n",
      " 46  GGT (U/L)                    1562 non-null   float64\n",
      " 47  BUN (mmol/L)                 1423 non-null   float64\n",
      " 48   UA (mmol/L)                 1496 non-null   float64\n",
      " 49  TG (mmol/L)                  1291 non-null   float64\n",
      " 50  HDL-C (mmol/L)               1291 non-null   float64\n",
      " 51  LDL-C (mmol/L)               1291 non-null   float64\n",
      " 52  UMA (mg)                     1372 non-null   float64\n",
      " 53  UCr (g)                      1224 non-null   float64\n",
      " 54  UACR (mg/g)                  1224 non-null   float64\n",
      " 55  Complications                1632 non-null   float64\n",
      " 56  Nephropathy                  1632 non-null   float64\n",
      " 57  Retinopathy and cataract     1632 non-null   float64\n",
      " 58  DPN                          1632 non-null   float64\n",
      " 59  Heart Disease                1632 non-null   float64\n",
      " 60  atherosclerosis or stenosis  1632 non-null   float64\n",
      " 61  Carotid Plaque               1632 non-null   float64\n",
      " 62  Condition                    1632 non-null   object \n",
      "dtypes: float64(58), int64(3), object(2)\n",
      "memory usage: 816.0+ KB\n"
     ]
    }
   ],
   "source": [
    "data.info()"
   ]
  },
  {
   "cell_type": "code",
   "execution_count": 23,
   "metadata": {},
   "outputs": [
    {
     "name": "stdout",
     "output_type": "stream",
     "text": [
      "Index(['t_start', 't_end', 'SDRR', 'RMSSD', 'pNN50 (%)', 'Mean HR (bpm)',\n",
      "       'ULF Power', 'ULF Peak Frequency', 'ULF Peak Power', 'VLF Power',\n",
      "       'VLF Peak Frequency', 'VLF Peak Power', 'LF Power', 'LF Peak Frequency',\n",
      "       'LF Peak Power', 'HF Power', 'HF Peak Frequency', 'HF Peak Power',\n",
      "       'LF÷HF Ratio', 'SD1', 'SD2', 'SD1÷SD2', 'S', 'ApEn', 'SampEn', 'DFA α1',\n",
      "       'DFA α2', 'D2', 'id', 'gender', 'age', 'height', 'weight',\n",
      "       'admission FBG (mmol÷L)', 'Discharge FBG (mmol÷L)', 'HbA1c (%)',\n",
      "       'SBP (mmHg)', 'DBP (mmHg)', 'WBC (×109÷L)', 'N% (%)', 'Hb (g÷L)',\n",
      "       'PLT (×109÷L)', 'CRP (mg÷L)', 'ALT (U÷L)', ' AST (U÷L)', 'AST÷ALT',\n",
      "       'GGT (U÷L)', 'BUN (mmol÷L)', ' UA (mmol÷L)', 'TG (mmol÷L)',\n",
      "       'HDL-C (mmol÷L)', 'LDL-C (mmol÷L)', 'UMA (mg)', 'UCr (g)',\n",
      "       'UACR (mg÷g)', 'Complications', 'Nephropathy',\n",
      "       'Retinopathy and cataract', 'DPN', 'Heart Disease',\n",
      "       'atherosclerosis or stenosis', 'Carotid Plaque', 'Condition'],\n",
      "      dtype='object')\n"
     ]
    }
   ],
   "source": [
    "data.columns = data.columns.str.replace('/', '÷')\n",
    "print(data.columns)"
   ]
  },
  {
   "cell_type": "code",
   "execution_count": 24,
   "metadata": {},
   "outputs": [
    {
     "data": {
      "text/plain": [
       "['SDRR',\n",
       " 'RMSSD',\n",
       " 'pNN50 (%)',\n",
       " 'Mean HR (bpm)',\n",
       " 'VLF Power',\n",
       " 'VLF Peak Frequency',\n",
       " 'LF Power',\n",
       " 'LF Peak Frequency',\n",
       " 'HF Power',\n",
       " 'HF Peak Frequency',\n",
       " 'LF÷HF Ratio',\n",
       " 'S',\n",
       " 'SD1',\n",
       " 'SD2',\n",
       " 'SD1÷SD2',\n",
       " 'ApEn',\n",
       " 'SampEn',\n",
       " 'DFA α1',\n",
       " 'DFA α2',\n",
       " 'D2']"
      ]
     },
     "execution_count": 24,
     "metadata": {},
     "output_type": "execute_result"
    }
   ],
   "source": [
    "time_metrics = ['SDRR', 'RMSSD', 'pNN50 (%)', 'Mean HR (bpm)']\n",
    "frequency_metrics = ['VLF Power',\n",
    "       'VLF Peak Frequency', 'LF Power', 'LF Peak Frequency', 'HF Power',\n",
    "       'HF Peak Frequency', 'LF÷HF Ratio']\n",
    "non_linear_metrics = ['S', 'SD1', 'SD2', 'SD1÷SD2',\n",
    "       'ApEn', 'SampEn', 'DFA α1', 'DFA α2', 'D2']\n",
    "\n",
    "indicator_columns = [*time_metrics, *frequency_metrics, *non_linear_metrics]\n",
    "indicator_columns"
   ]
  },
  {
   "cell_type": "markdown",
   "metadata": {},
   "source": [
    "# ECG and outliers"
   ]
  },
  {
   "cell_type": "code",
   "execution_count": 25,
   "metadata": {},
   "outputs": [
    {
     "name": "stdout",
     "output_type": "stream",
     "text": [
      "1632\n"
     ]
    },
    {
     "data": {
      "image/png": "[encoded data removed]",
      "text/plain": [
       "<Figure size 600x600 with 1 Axes>"
      ]
     },
     "metadata": {},
     "output_type": "display_data"
    }
   ],
   "source": [
    "print(data.shape[0])\n",
    "plt.figure(figsize=(6, 6))\n",
    "sns.countplot(data, y='id', hue = 'DPN')\n",
    "plt.title(\"Pre-cleaning Number of Data Points (20 Metrics Each) per Patient\")\n",
    "plt.grid(axis='x', alpha = 0.5)"
   ]
  },
  {
   "cell_type": "markdown",
   "metadata": {},
   "source": [
    "# Outlier analysis"
   ]
  },
  {
   "cell_type": "code",
   "execution_count": 26,
   "metadata": {},
   "outputs": [],
   "source": [
    "import numpy as np\n",
    "import pandas as pd\n",
    "\n",
    "def find_patient_metric_outliers(data, metric, patient_id, threshold=1.5):\n",
    "    \"\"\"Finds IQR outliers for patient metric\"\"\"\n",
    "    patient = data[data[\"id\"] == patient_id]\n",
    "    q1 = patient[metric].quantile(0.25)\n",
    "    q3 = patient[metric].quantile(0.75)\n",
    "    iqr = q3 - q1\n",
    "    lower_bound = q1 - threshold * iqr\n",
    "    upper_bound = q3 + threshold * iqr\n",
    "    outliers = patient[(patient[metric] < lower_bound) | (patient[metric] > upper_bound)]\n",
    "    return outliers, lower_bound, upper_bound\n"
   ]
  },
  {
   "cell_type": "code",
   "execution_count": 27,
   "metadata": {},
   "outputs": [
    {
     "data": {
      "text/html": [
       "<div>\n",
       "<style scoped>\n",
       "    .dataframe tbody tr th:only-of-type {\n",
       "        vertical-align: middle;\n",
       "    }\n",
       "\n",
       "    .dataframe tbody tr th {\n",
       "        vertical-align: top;\n",
       "    }\n",
       "\n",
       "    .dataframe thead th {\n",
       "        text-align: right;\n",
       "    }\n",
       "</style>\n",
       "<table border=\"1\" class=\"dataframe\">\n",
       "  <thead>\n",
       "    <tr style=\"text-align: right;\">\n",
       "      <th></th>\n",
       "      <th>patient</th>\n",
       "      <th>DPN</th>\n",
       "      <th>metric</th>\n",
       "      <th>t_start</th>\n",
       "      <th>t_end</th>\n",
       "      <th>o_values</th>\n",
       "      <th>lower_bound</th>\n",
       "      <th>upper_bound</th>\n",
       "    </tr>\n",
       "  </thead>\n",
       "  <tbody>\n",
       "    <tr>\n",
       "      <th>10</th>\n",
       "      <td>30</td>\n",
       "      <td>0.0</td>\n",
       "      <td>SDRR</td>\n",
       "      <td>50417.728</td>\n",
       "      <td>51587.788</td>\n",
       "      <td>1646.553346</td>\n",
       "      <td>-299.878387</td>\n",
       "      <td>484.774264</td>\n",
       "    </tr>\n",
       "    <tr>\n",
       "      <th>11</th>\n",
       "      <td>30</td>\n",
       "      <td>0.0</td>\n",
       "      <td>SDRR</td>\n",
       "      <td>51678.600</td>\n",
       "      <td>52877.884</td>\n",
       "      <td>8839.633142</td>\n",
       "      <td>-299.878387</td>\n",
       "      <td>484.774264</td>\n",
       "    </tr>\n",
       "    <tr>\n",
       "      <th>12</th>\n",
       "      <td>32</td>\n",
       "      <td>0.0</td>\n",
       "      <td>SDRR</td>\n",
       "      <td>32414.568</td>\n",
       "      <td>33614.380</td>\n",
       "      <td>10201.537903</td>\n",
       "      <td>-1136.092295</td>\n",
       "      <td>1448.370788</td>\n",
       "    </tr>\n",
       "    <tr>\n",
       "      <th>13</th>\n",
       "      <td>33</td>\n",
       "      <td>0.0</td>\n",
       "      <td>SDRR</td>\n",
       "      <td>79227.032</td>\n",
       "      <td>80427.028</td>\n",
       "      <td>3076.364734</td>\n",
       "      <td>-485.572971</td>\n",
       "      <td>661.377154</td>\n",
       "    </tr>\n",
       "    <tr>\n",
       "      <th>14</th>\n",
       "      <td>37</td>\n",
       "      <td>1.0</td>\n",
       "      <td>SDRR</td>\n",
       "      <td>34875.292</td>\n",
       "      <td>36074.816</td>\n",
       "      <td>6342.689079</td>\n",
       "      <td>-549.612100</td>\n",
       "      <td>719.064016</td>\n",
       "    </tr>\n",
       "  </tbody>\n",
       "</table>\n",
       "</div>"
      ],
      "text/plain": [
       "    patient  DPN metric    t_start      t_end      o_values  lower_bound  \\\n",
       "10       30  0.0   SDRR  50417.728  51587.788   1646.553346  -299.878387   \n",
       "11       30  0.0   SDRR  51678.600  52877.884   8839.633142  -299.878387   \n",
       "12       32  0.0   SDRR  32414.568  33614.380  10201.537903 -1136.092295   \n",
       "13       33  0.0   SDRR  79227.032  80427.028   3076.364734  -485.572971   \n",
       "14       37  1.0   SDRR  34875.292  36074.816   6342.689079  -549.612100   \n",
       "\n",
       "    upper_bound  \n",
       "10   484.774264  \n",
       "11   484.774264  \n",
       "12  1448.370788  \n",
       "13   661.377154  \n",
       "14   719.064016  "
      ]
     },
     "execution_count": 27,
     "metadata": {},
     "output_type": "execute_result"
    }
   ],
   "source": [
    "threshold = 10\n",
    "\n",
    "def check_outliers(data, metric):\n",
    "    \"\"\"Returns a list of outliers for each patient for each metric\"\"\"\n",
    "    outlier_table = pd.DataFrame()\n",
    "    for patient in data.id.unique():\n",
    "\n",
    "        outliers, lower_bound, upper_bound = find_patient_metric_outliers(data, metric, patient, threshold)\n",
    "\n",
    "        if not outliers.empty:\n",
    "\n",
    "            df = pd.DataFrame({\n",
    "                \"patient\": patient,\n",
    "                \"DPN\" : data[data[\"id\"] == patient][\"DPN\"].values[0],\n",
    "                \"metric\": metric,\n",
    "                \"t_start\": outliers[\"t_start\"].values,\n",
    "                \"t_end\": outliers[\"t_end\"].values,\n",
    "                \"o_values\": outliers[metric].values,\n",
    "                \"lower_bound\": lower_bound,\n",
    "                \"upper_bound\": upper_bound\n",
    "            })\n",
    "\n",
    "            outlier_table = pd.concat([outlier_table, df])\n",
    "    return outlier_table.reset_index(drop=True)\n",
    "\n",
    "check_outliers(data, \"SDRR\").tail()"
   ]
  },
  {
   "cell_type": "code",
   "execution_count": 28,
   "metadata": {},
   "outputs": [],
   "source": [
    "data = data[data[\"SDRR\"]<400]\n"
   ]
  },
  {
   "cell_type": "code",
   "execution_count": 29,
   "metadata": {},
   "outputs": [
    {
     "data": {
      "image/png": "[encoded data removed]",
      "text/plain": [
       "<Figure size 640x480 with 1 Axes>"
      ]
     },
     "metadata": {},
     "output_type": "display_data"
    }
   ],
   "source": [
    "sns.boxplot(data=data, y='LF Power', x='Condition', hue='DPN')\n",
    "data = data[data[\"LF Power\"]<0.00017]"
   ]
  },
  {
   "cell_type": "markdown",
   "metadata": {},
   "source": [
    "### Are outlier more clustered around certain patients?"
   ]
  },
  {
   "cell_type": "code",
   "execution_count": null,
   "metadata": {},
   "outputs": [],
   "source": [
    "def draw_outlying_patients(full_outliers):\n",
    "    plt.figure(figsize=(8, 3))\n",
    "    # Count outliers per patient and DPN status\n",
    "    patient_counts = full_outliers.groupby(['patient', 'DPN']).size().reset_index(name='count')\n",
    "    patient_order = patient_counts.groupby('patient')['count'].sum().sort_values(ascending=False).index\n",
    "\n",
    "    # Create the countplot with sorted patients\n",
    "    sns.countplot(data=full_outliers, x=\"patient\", hue=\"DPN\", order=patient_order)\n",
    "    plt.title(\"Outliers per patient\")\n",
    "    plt.xticks(rotation=90);\n"
   ]
  },
  {
   "cell_type": "markdown",
   "metadata": {},
   "source": [
    "* Individual with most outliers had DPN.\n",
    "    * This individual appears to have outlying more outliers\n",
    "* DPN individuals could be producing more outliers; however it could be just small sample effect.\n",
    "* There is a lot outlier number variance between individuals."
   ]
  },
  {
   "cell_type": "markdown",
   "metadata": {},
   "source": [
    "Some obvious outliers removed by hand above"
   ]
  },
  {
   "cell_type": "markdown",
   "metadata": {},
   "source": [
    "## Data density"
   ]
  },
  {
   "cell_type": "code",
   "execution_count": null,
   "metadata": {},
   "outputs": [
    {
     "name": "stdout",
     "output_type": "stream",
     "text": [
      "1602\n"
     ]
    },
    {
     "data": {
      "image/png": "[encoded data removed]",
      "text/plain": [
       "<Figure size 600x600 with 1 Axes>"
      ]
     },
     "metadata": {},
     "output_type": "display_data"
    }
   ],
   "source": [
    "print(data.shape[0])\n",
    "\n",
    "data.reset_index(drop=True, inplace=True)\n",
    "plt.figure(figsize=(6, 6))\n",
    "sns.countplot(data, y='id', hue = 'DPN')\n",
    "plt.title(\"Post-cleaning Number of Data Points (20 Metrics Each) per Patient\")\n",
    "plt.grid(axis='x', alpha = 0.5)"
   ]
  },
  {
   "cell_type": "markdown",
   "metadata": {},
   "source": [
    "# Patients as outliers"
   ]
  },
  {
   "cell_type": "code",
   "execution_count": null,
   "metadata": {},
   "outputs": [
    {
     "data": {
      "text/plain": [
       "<Axes: xlabel='t_start', ylabel='id'>"
      ]
     },
     "execution_count": 561,
     "metadata": {},
     "output_type": "execute_result"
    },
    {
     "data": {
      "image/png": "[encoded data removed]",
      "text/plain": [
       "<Figure size 640x480 with 1 Axes>"
      ]
     },
     "metadata": {},
     "output_type": "display_data"
    }
   ],
   "source": [
    "sns.lineplot(data=data, y='id', x='t_start', hue = 'id')\n",
    "#data = data[data['id'] != 5]"
   ]
  },
  {
   "cell_type": "markdown",
   "metadata": {},
   "source": [
    "# Save the data"
   ]
  },
  {
   "cell_type": "code",
   "execution_count": null,
   "metadata": {},
   "outputs": [],
   "source": [
    "import pickle\n",
    "\n",
    "# Create a dictionary to store the data and metrics\n",
    "data_to_pickle = {\n",
    "    'data': data,\n",
    "    'indicator_columns': indicator_columns,\n",
    "    'time_metrics': time_metrics,\n",
    "    'frequency_metrics': frequency_metrics,\n",
    "    'non_linear_metrics': non_linear_metrics\n",
    "}\n",
    "\n",
    "\n",
    "# Save the dictionary to a pickle file\n",
    "with open(result_path, 'wb') as file:\n",
    "    pickle.dump(data_to_pickle, file)"
   ]
  }
 ],
 "metadata": {
  "kernelspec": {
   "display_name": "Python 3",
   "language": "python",
   "name": "python3"
  },
  "language_info": {
   "codemirror_mode": {
    "name": "ipython",
    "version": 3
   },
   "file_extension": ".py",
   "mimetype": "text/x-python",
   "name": "python",
   "nbconvert_exporter": "python",
   "pygments_lexer": "ipython3",
   "version": "3.11.3"
  }
 },
 "nbformat": 4,
 "nbformat_minor": 2
}
