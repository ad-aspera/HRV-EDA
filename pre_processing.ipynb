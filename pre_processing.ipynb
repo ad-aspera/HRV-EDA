{
 "cells": [
  {
   "cell_type": "markdown",
   "metadata": {},
   "source": [
    "# Info\n",
    "\n",
    "Function:\n",
    "* Rename metrics df columns for easier use\n",
    "* Remove outliers\n",
    "* Identify metric rows in an easy to use format\n",
    "* Save result to be loaded in other notebooks"
   ]
  },
  {
   "cell_type": "code",
   "execution_count": 2,
   "metadata": {},
   "outputs": [
    {
     "name": "stdout",
     "output_type": "stream",
     "text": [
      "processed_data\\raw_metrics\\comorbidities.pkl\n"
     ]
    }
   ],
   "source": [
    "import os\n",
    "import pandas as pd\n",
    "import matplotlib.pyplot as plt\n",
    "import seaborn as sns\n",
    "import numpy as np\n",
    "from general_utils import utils\n",
    "utils.default_plot_format()\n",
    "\n",
    "time = '10min'\n",
    "\n",
    "def choose_data(data, result):\n",
    "    data_folder = 'processed_data'\n",
    "    data = os.path.join(data_folder, data)\n",
    "\n",
    "    result_folder = r'processed_data\\raw_metrics'\n",
    "    result = os.path.join(result_folder, result)\n",
    "\n",
    "    return data, result\n",
    "\n",
    "data_path, result_path = choose_data('optimized_10min_Nabian.pkl', 'comorbidities.pkl')\n",
    "\n",
    "print(result_path)\n",
    "    "
   ]
  },
  {
   "cell_type": "markdown",
   "metadata": {},
   "source": [
    "# Preparing and renaming column"
   ]
  },
  {
   "cell_type": "code",
   "execution_count": 3,
   "metadata": {},
   "outputs": [
    {
     "data": {
      "text/html": [
       "<div>\n",
       "<style scoped>\n",
       "    .dataframe tbody tr th:only-of-type {\n",
       "        vertical-align: middle;\n",
       "    }\n",
       "\n",
       "    .dataframe tbody tr th {\n",
       "        vertical-align: top;\n",
       "    }\n",
       "\n",
       "    .dataframe thead th {\n",
       "        text-align: right;\n",
       "    }\n",
       "</style>\n",
       "<table border=\"1\" class=\"dataframe\">\n",
       "  <thead>\n",
       "    <tr style=\"text-align: right;\">\n",
       "      <th></th>\n",
       "      <th>t_start</th>\n",
       "      <th>t_end</th>\n",
       "      <th>SDRR</th>\n",
       "      <th>RMSSD</th>\n",
       "      <th>pNN50 (%)</th>\n",
       "      <th>Mean HR (bpm)</th>\n",
       "      <th>ULF Power</th>\n",
       "      <th>ULF Peak Frequency</th>\n",
       "      <th>ULF Peak Power</th>\n",
       "      <th>VLF Power</th>\n",
       "      <th>...</th>\n",
       "      <th>UMA (mg)</th>\n",
       "      <th>UCr (g)</th>\n",
       "      <th>UACR (mg/g)</th>\n",
       "      <th>Diabetic Complications</th>\n",
       "      <th>Diabetic nephropathy</th>\n",
       "      <th>Diabetic retinopathy and cataract</th>\n",
       "      <th>Diabetic peripheral neuropathy</th>\n",
       "      <th>Coronary artery disease and cardiac insufficiency</th>\n",
       "      <th>Lower extremity atherosclerosis or stenosis</th>\n",
       "      <th>Carotid plaque</th>\n",
       "    </tr>\n",
       "  </thead>\n",
       "  <tbody>\n",
       "    <tr>\n",
       "      <th>5372</th>\n",
       "      <td>75103.344</td>\n",
       "      <td>75701.976</td>\n",
       "      <td>90.297380</td>\n",
       "      <td>116.554065</td>\n",
       "      <td>4.087193</td>\n",
       "      <td>73.571119</td>\n",
       "      <td>1.309222e-06</td>\n",
       "      <td>0.000000</td>\n",
       "      <td>0.000920</td>\n",
       "      <td>4.502083e-06</td>\n",
       "      <td>...</td>\n",
       "      <td>4.38</td>\n",
       "      <td>10.23</td>\n",
       "      <td>0.428152</td>\n",
       "      <td>1.0</td>\n",
       "      <td>0.0</td>\n",
       "      <td>0.0</td>\n",
       "      <td>1.0</td>\n",
       "      <td>0.0</td>\n",
       "      <td>0.0</td>\n",
       "      <td>1.0</td>\n",
       "    </tr>\n",
       "    <tr>\n",
       "      <th>5373</th>\n",
       "      <td>75703.428</td>\n",
       "      <td>76302.748</td>\n",
       "      <td>141.746201</td>\n",
       "      <td>199.345544</td>\n",
       "      <td>34.105534</td>\n",
       "      <td>77.700026</td>\n",
       "      <td>3.521571e-08</td>\n",
       "      <td>0.000000</td>\n",
       "      <td>0.000028</td>\n",
       "      <td>3.029743e-07</td>\n",
       "      <td>...</td>\n",
       "      <td>4.38</td>\n",
       "      <td>10.23</td>\n",
       "      <td>0.428152</td>\n",
       "      <td>1.0</td>\n",
       "      <td>0.0</td>\n",
       "      <td>0.0</td>\n",
       "      <td>1.0</td>\n",
       "      <td>0.0</td>\n",
       "      <td>0.0</td>\n",
       "      <td>1.0</td>\n",
       "    </tr>\n",
       "    <tr>\n",
       "      <th>5374</th>\n",
       "      <td>76303.532</td>\n",
       "      <td>76903.204</td>\n",
       "      <td>173.745127</td>\n",
       "      <td>220.184953</td>\n",
       "      <td>22.222222</td>\n",
       "      <td>74.743195</td>\n",
       "      <td>3.165632e-09</td>\n",
       "      <td>0.001668</td>\n",
       "      <td>0.000004</td>\n",
       "      <td>1.195864e-06</td>\n",
       "      <td>...</td>\n",
       "      <td>4.38</td>\n",
       "      <td>10.23</td>\n",
       "      <td>0.428152</td>\n",
       "      <td>1.0</td>\n",
       "      <td>0.0</td>\n",
       "      <td>0.0</td>\n",
       "      <td>1.0</td>\n",
       "      <td>0.0</td>\n",
       "      <td>0.0</td>\n",
       "      <td>1.0</td>\n",
       "    </tr>\n",
       "  </tbody>\n",
       "</table>\n",
       "<p>3 rows × 62 columns</p>\n",
       "</div>"
      ],
      "text/plain": [
       "        t_start      t_end        SDRR       RMSSD  pNN50 (%)  Mean HR (bpm)  \\\n",
       "5372  75103.344  75701.976   90.297380  116.554065   4.087193      73.571119   \n",
       "5373  75703.428  76302.748  141.746201  199.345544  34.105534      77.700026   \n",
       "5374  76303.532  76903.204  173.745127  220.184953  22.222222      74.743195   \n",
       "\n",
       "         ULF Power  ULF Peak Frequency  ULF Peak Power     VLF Power  ...  \\\n",
       "5372  1.309222e-06            0.000000        0.000920  4.502083e-06  ...   \n",
       "5373  3.521571e-08            0.000000        0.000028  3.029743e-07  ...   \n",
       "5374  3.165632e-09            0.001668        0.000004  1.195864e-06  ...   \n",
       "\n",
       "      UMA (mg)  UCr (g)  UACR (mg/g)  Diabetic Complications  \\\n",
       "5372      4.38    10.23     0.428152                     1.0   \n",
       "5373      4.38    10.23     0.428152                     1.0   \n",
       "5374      4.38    10.23     0.428152                     1.0   \n",
       "\n",
       "      Diabetic nephropathy  Diabetic retinopathy and cataract  \\\n",
       "5372                   0.0                                0.0   \n",
       "5373                   0.0                                0.0   \n",
       "5374                   0.0                                0.0   \n",
       "\n",
       "      Diabetic peripheral neuropathy  \\\n",
       "5372                             1.0   \n",
       "5373                             1.0   \n",
       "5374                             1.0   \n",
       "\n",
       "      Coronary artery disease and cardiac insufficiency  \\\n",
       "5372                                                0.0   \n",
       "5373                                                0.0   \n",
       "5374                                                0.0   \n",
       "\n",
       "      Lower extremity atherosclerosis or stenosis  Carotid plaque  \n",
       "5372                                          0.0             1.0  \n",
       "5373                                          0.0             1.0  \n",
       "5374                                          0.0             1.0  \n",
       "\n",
       "[3 rows x 62 columns]"
      ]
     },
     "execution_count": 3,
     "metadata": {},
     "output_type": "execute_result"
    }
   ],
   "source": [
    "data = pd.read_pickle(data_path)\n",
    "data.tail(3)\n"
   ]
  },
  {
   "cell_type": "markdown",
   "metadata": {},
   "source": [
    "Keep only individuals with no complications or diabetic neuropathy only.\n",
    "Rename the columns in a ways that is easier to follow."
   ]
  },
  {
   "cell_type": "code",
   "execution_count": 4,
   "metadata": {},
   "outputs": [],
   "source": [
    "data.rename(columns={\n",
    "    'Diabetic Complications': 'Complications',\n",
    "    'Diabetic nephropathy': 'Nephropathy',\n",
    "    'Diabetic retinopathy and cataract': 'Retinopathy and cataract',\n",
    "    'Diabetic peripheral neuropathy': 'DPN',\n",
    "    'Coronary artery disease and cardiac insufficiency': 'Heart Disease',\n",
    "    'Lower extremity atherosclerosis or stenosis': 'atherosclerosis or stenosis',\n",
    "    'Carotid plaque': 'Carotid Plaque'\n",
    "}, inplace=True)"
   ]
  },
  {
   "cell_type": "code",
   "execution_count": 5,
   "metadata": {},
   "outputs": [
    {
     "name": "stdout",
     "output_type": "stream",
     "text": [
      "{'19070921': 0, '20010827': 1, '20011712': 2, '19121735': 3, '20052606': 4, '20061729': 5, '20092226': 6, '20050628': 7, '19120704': 8, '19120723': 9, '19120302': 10, '19121303': 11, '20121033': 12, '20121716': 13, '20120922': 14, '20121718': 15, '20122932': 16, '20092535': 17, '20101424': 18, '20102029': 19, '20120116': 20, '19081506': 21, '19080106': 22, '19072940': 23, '19090308': 24, '19090320': 25, '19082406': 26, '19072214': 27, '19072205': 28, '19072939': 29, '19072938': 30, '19102524': 31, '19102622': 32, '19102102': 33, '19102103': 34, '19112609': 35, '19101607': 36, '19101619': 37, '20123017': 38, '20010826': 39, '20101822': 40, '19080715': 41, '19120323': 42}\n"
     ]
    }
   ],
   "source": [
    "data.sort_values(by=[\"DPN\"], inplace=True)\n",
    "new_id = {ID:i for i, ID in enumerate(data.id.unique())}\n",
    "data.id = data.id.map(new_id)\n",
    "print(new_id)"
   ]
  },
  {
   "cell_type": "code",
   "execution_count": 6,
   "metadata": {},
   "outputs": [],
   "source": [
    "data = data.dropna(subset=['DPN'])\n",
    "data = data[data.id !=18]"
   ]
  },
  {
   "cell_type": "code",
   "execution_count": 7,
   "metadata": {},
   "outputs": [],
   "source": [
    "#data = data[(data[\"Complications\"] == 0) | (data[\"DPN\"] == 1)]\n",
    "data[\"DPN\"] = data[\"DPN\"].astype(bool)\n",
    "\n",
    "data['Condition'] = data['DPN'].apply(lambda x: 'DPN' if x else 'Diabetes')\n",
    "data.tail()\n",
    "\n",
    "data = data.dropna(subset=['DPN'])"
   ]
  },
  {
   "cell_type": "code",
   "execution_count": 8,
   "metadata": {},
   "outputs": [],
   "source": [
    "to_include = ['Nephropathy', 'Heart Disease', 'Nephropathy', 'Carotid Plaque', 'DPN']\n",
    "data = data[data[to_include].any(axis=1) | (data['Complications']==0)]\n"
   ]
  },
  {
   "cell_type": "code",
   "execution_count": 28,
   "metadata": {
    "vscode": {
     "languageId": "javascript"
    }
   },
   "outputs": [
    {
     "data": {
      "text/html": [
       "<div>\n",
       "<style scoped>\n",
       "    .dataframe tbody tr th:only-of-type {\n",
       "        vertical-align: middle;\n",
       "    }\n",
       "\n",
       "    .dataframe tbody tr th {\n",
       "        vertical-align: top;\n",
       "    }\n",
       "\n",
       "    .dataframe thead th {\n",
       "        text-align: right;\n",
       "    }\n",
       "</style>\n",
       "<table border=\"1\" class=\"dataframe\">\n",
       "  <thead>\n",
       "    <tr style=\"text-align: right;\">\n",
       "      <th></th>\n",
       "      <th>DPN</th>\n",
       "      <th>Nephropathy</th>\n",
       "      <th>Retinopathy and cataract</th>\n",
       "      <th>Heart Disease</th>\n",
       "      <th>atherosclerosis or stenosis</th>\n",
       "      <th>Carotid Plaque</th>\n",
       "    </tr>\n",
       "    <tr>\n",
       "      <th>id</th>\n",
       "      <th></th>\n",
       "      <th></th>\n",
       "      <th></th>\n",
       "      <th></th>\n",
       "      <th></th>\n",
       "      <th></th>\n",
       "    </tr>\n",
       "  </thead>\n",
       "  <tbody>\n",
       "    <tr>\n",
       "      <th>6</th>\n",
       "      <td>False</td>\n",
       "      <td>0.0</td>\n",
       "      <td>1.0</td>\n",
       "      <td>0.0</td>\n",
       "      <td>0.0</td>\n",
       "      <td>1.0</td>\n",
       "    </tr>\n",
       "    <tr>\n",
       "      <th>8</th>\n",
       "      <td>False</td>\n",
       "      <td>1.0</td>\n",
       "      <td>0.0</td>\n",
       "      <td>0.0</td>\n",
       "      <td>0.0</td>\n",
       "      <td>0.0</td>\n",
       "    </tr>\n",
       "    <tr>\n",
       "      <th>19</th>\n",
       "      <td>False</td>\n",
       "      <td>0.0</td>\n",
       "      <td>0.0</td>\n",
       "      <td>0.0</td>\n",
       "      <td>0.0</td>\n",
       "      <td>1.0</td>\n",
       "    </tr>\n",
       "    <tr>\n",
       "      <th>20</th>\n",
       "      <td>False</td>\n",
       "      <td>1.0</td>\n",
       "      <td>1.0</td>\n",
       "      <td>0.0</td>\n",
       "      <td>0.0</td>\n",
       "      <td>0.0</td>\n",
       "    </tr>\n",
       "    <tr>\n",
       "      <th>34</th>\n",
       "      <td>False</td>\n",
       "      <td>1.0</td>\n",
       "      <td>1.0</td>\n",
       "      <td>0.0</td>\n",
       "      <td>0.0</td>\n",
       "      <td>0.0</td>\n",
       "    </tr>\n",
       "    <tr>\n",
       "      <th>36</th>\n",
       "      <td>False</td>\n",
       "      <td>1.0</td>\n",
       "      <td>1.0</td>\n",
       "      <td>1.0</td>\n",
       "      <td>0.0</td>\n",
       "      <td>0.0</td>\n",
       "    </tr>\n",
       "    <tr>\n",
       "      <th>37</th>\n",
       "      <td>True</td>\n",
       "      <td>0.0</td>\n",
       "      <td>0.0</td>\n",
       "      <td>1.0</td>\n",
       "      <td>0.0</td>\n",
       "      <td>0.0</td>\n",
       "    </tr>\n",
       "    <tr>\n",
       "      <th>38</th>\n",
       "      <td>True</td>\n",
       "      <td>0.0</td>\n",
       "      <td>0.0</td>\n",
       "      <td>0.0</td>\n",
       "      <td>0.0</td>\n",
       "      <td>1.0</td>\n",
       "    </tr>\n",
       "    <tr>\n",
       "      <th>39</th>\n",
       "      <td>True</td>\n",
       "      <td>1.0</td>\n",
       "      <td>0.0</td>\n",
       "      <td>0.0</td>\n",
       "      <td>0.0</td>\n",
       "      <td>0.0</td>\n",
       "    </tr>\n",
       "    <tr>\n",
       "      <th>40</th>\n",
       "      <td>True</td>\n",
       "      <td>1.0</td>\n",
       "      <td>0.0</td>\n",
       "      <td>0.0</td>\n",
       "      <td>0.0</td>\n",
       "      <td>1.0</td>\n",
       "    </tr>\n",
       "  </tbody>\n",
       "</table>\n",
       "</div>"
      ],
      "text/plain": [
       "      DPN  Nephropathy  Retinopathy and cataract  Heart Disease  \\\n",
       "id                                                                \n",
       "6   False          0.0                       1.0            0.0   \n",
       "8   False          1.0                       0.0            0.0   \n",
       "19  False          0.0                       0.0            0.0   \n",
       "20  False          1.0                       1.0            0.0   \n",
       "34  False          1.0                       1.0            0.0   \n",
       "36  False          1.0                       1.0            1.0   \n",
       "37   True          0.0                       0.0            1.0   \n",
       "38   True          0.0                       0.0            0.0   \n",
       "39   True          1.0                       0.0            0.0   \n",
       "40   True          1.0                       0.0            0.0   \n",
       "\n",
       "    atherosclerosis or stenosis  Carotid Plaque  \n",
       "id                                               \n",
       "6                           0.0             1.0  \n",
       "8                           0.0             0.0  \n",
       "19                          0.0             1.0  \n",
       "20                          0.0             0.0  \n",
       "34                          0.0             0.0  \n",
       "36                          0.0             0.0  \n",
       "37                          0.0             0.0  \n",
       "38                          0.0             1.0  \n",
       "39                          0.0             0.0  \n",
       "40                          0.0             1.0  "
      ]
     },
     "metadata": {},
     "output_type": "display_data"
    },
    {
     "name": "stdout",
     "output_type": "stream",
     "text": [
      "DPN                             4.0\n",
      "Complications                  10.0\n",
      "Nephropathy                     6.0\n",
      "Retinopathy and cataract        4.0\n",
      "Heart Disease                   2.0\n",
      "atherosclerosis or stenosis     0.0\n",
      "Carotid Plaque                  4.0\n",
      "dtype: float64\n"
     ]
    }
   ],
   "source": [
    "\n",
    "\n",
    "conditions = data[['id', 'Complications', 'Nephropathy',\n",
    "    'Retinopathy and cataract', 'DPN', 'Heart Disease',\n",
    "    'atherosclerosis or stenosis', 'Carotid Plaque']]\n",
    "\n",
    "\n",
    "conditions = conditions.copy().drop_duplicates().sort_values('DPN')\n",
    "conditions = conditions.reset_index(drop=True)\n",
    "\n",
    "result = conditions[['id','DPN', 'Complications', 'Nephropathy', \n",
    "    'Retinopathy and cataract', \n",
    "    'Heart Disease', 'atherosclerosis or stenosis', \n",
    "    'Carotid Plaque']].groupby('id').max()\n",
    "\n",
    "display(result[result['Complications'] == 1].drop(columns=['Complications']))\n",
    "print(result.sum())"
   ]
  },
  {
   "cell_type": "code",
   "execution_count": 10,
   "metadata": {},
   "outputs": [
    {
     "name": "stdout",
     "output_type": "stream",
     "text": [
      "<class 'pandas.core.frame.DataFrame'>\n",
      "Index: 4120 entries, 0 to 5374\n",
      "Data columns (total 63 columns):\n",
      " #   Column                       Non-Null Count  Dtype  \n",
      "---  ------                       --------------  -----  \n",
      " 0   t_start                      4120 non-null   float64\n",
      " 1   t_end                        4120 non-null   float64\n",
      " 2   SDRR                         4120 non-null   float64\n",
      " 3   RMSSD                        4120 non-null   float64\n",
      " 4   pNN50 (%)                    4120 non-null   float64\n",
      " 5   Mean HR (bpm)                4120 non-null   float64\n",
      " 6   ULF Power                    4120 non-null   float64\n",
      " 7   ULF Peak Frequency           4120 non-null   float64\n",
      " 8   ULF Peak Power               4120 non-null   float64\n",
      " 9   VLF Power                    4120 non-null   float64\n",
      " 10  VLF Peak Frequency           4120 non-null   float64\n",
      " 11  VLF Peak Power               4120 non-null   float64\n",
      " 12  LF Power                     4120 non-null   float64\n",
      " 13  LF Peak Frequency            4120 non-null   float64\n",
      " 14  LF Peak Power                4120 non-null   float64\n",
      " 15  HF Power                     4120 non-null   float64\n",
      " 16  HF Peak Frequency            4119 non-null   float64\n",
      " 17  HF Peak Power                4120 non-null   float64\n",
      " 18  LF/HF Ratio                  4119 non-null   float64\n",
      " 19  SD1                          4120 non-null   float64\n",
      " 20  SD2                          4120 non-null   float64\n",
      " 21  SD1/SD2                      4120 non-null   float64\n",
      " 22  S                            4120 non-null   float64\n",
      " 23  ApEn                         4120 non-null   float64\n",
      " 24  SampEn                       4120 non-null   float64\n",
      " 25  DFA α1                       4120 non-null   float64\n",
      " 26  DFA α2                       4120 non-null   float64\n",
      " 27  D2                           3466 non-null   float64\n",
      " 28  id                           4120 non-null   int64  \n",
      " 29  gender                       4120 non-null   object \n",
      " 30  age                          4120 non-null   int64  \n",
      " 31  height                       4120 non-null   int64  \n",
      " 32  weight                       4120 non-null   float64\n",
      " 33  admission FBG (mmol/L)       3809 non-null   float64\n",
      " 34  Discharge FBG (mmol/L)       2495 non-null   float64\n",
      " 35  HbA1c (%)                    2842 non-null   float64\n",
      " 36  SBP (mmHg)                   4120 non-null   float64\n",
      " 37  DBP (mmHg)                   4120 non-null   float64\n",
      " 38  WBC (×109/L)                 4120 non-null   float64\n",
      " 39  N% (%)                       4120 non-null   float64\n",
      " 40  Hb (g/L)                     4120 non-null   float64\n",
      " 41  PLT (×109/L)                 4120 non-null   float64\n",
      " 42  CRP (mg/L)                   3504 non-null   float64\n",
      " 43  ALT (U/L)                    3980 non-null   float64\n",
      " 44   AST (U/L)                   3980 non-null   float64\n",
      " 45  AST/ALT                      3980 non-null   float64\n",
      " 46  GGT (U/L)                    3980 non-null   float64\n",
      " 47  BUN (mmol/L)                 3555 non-null   float64\n",
      " 48   UA (mmol/L)                 3702 non-null   float64\n",
      " 49  TG (mmol/L)                  3436 non-null   float64\n",
      " 50  HDL-C (mmol/L)               3436 non-null   float64\n",
      " 51  LDL-C (mmol/L)               3436 non-null   float64\n",
      " 52  UMA (mg)                     3598 non-null   float64\n",
      " 53  UCr (g)                      3381 non-null   float64\n",
      " 54  UACR (mg/g)                  3381 non-null   float64\n",
      " 55  Complications                4120 non-null   float64\n",
      " 56  Nephropathy                  4120 non-null   float64\n",
      " 57  Retinopathy and cataract     4120 non-null   float64\n",
      " 58  DPN                          4120 non-null   bool   \n",
      " 59  Heart Disease                4120 non-null   float64\n",
      " 60  atherosclerosis or stenosis  4120 non-null   float64\n",
      " 61  Carotid Plaque               4120 non-null   float64\n",
      " 62  Condition                    4120 non-null   object \n",
      "dtypes: bool(1), float64(57), int64(3), object(2)\n",
      "memory usage: 2.0+ MB\n"
     ]
    }
   ],
   "source": [
    "data.info()"
   ]
  },
  {
   "cell_type": "code",
   "execution_count": 11,
   "metadata": {},
   "outputs": [
    {
     "name": "stdout",
     "output_type": "stream",
     "text": [
      "Index(['t_start', 't_end', 'SDRR', 'RMSSD', 'pNN50 (%)', 'Mean HR (bpm)',\n",
      "       'ULF Power', 'ULF Peak Frequency', 'ULF Peak Power', 'VLF Power',\n",
      "       'VLF Peak Frequency', 'VLF Peak Power', 'LF Power', 'LF Peak Frequency',\n",
      "       'LF Peak Power', 'HF Power', 'HF Peak Frequency', 'HF Peak Power',\n",
      "       'LF÷HF Ratio', 'SD1', 'SD2', 'SD1÷SD2', 'S', 'ApEn', 'SampEn', 'DFA α1',\n",
      "       'DFA α2', 'D2', 'id', 'gender', 'age', 'height', 'weight',\n",
      "       'admission FBG (mmol÷L)', 'Discharge FBG (mmol÷L)', 'HbA1c (%)',\n",
      "       'SBP (mmHg)', 'DBP (mmHg)', 'WBC (×109÷L)', 'N% (%)', 'Hb (g÷L)',\n",
      "       'PLT (×109÷L)', 'CRP (mg÷L)', 'ALT (U÷L)', ' AST (U÷L)', 'AST÷ALT',\n",
      "       'GGT (U÷L)', 'BUN (mmol÷L)', ' UA (mmol÷L)', 'TG (mmol÷L)',\n",
      "       'HDL-C (mmol÷L)', 'LDL-C (mmol÷L)', 'UMA (mg)', 'UCr (g)',\n",
      "       'UACR (mg÷g)', 'Complications', 'Nephropathy',\n",
      "       'Retinopathy and cataract', 'DPN', 'Heart Disease',\n",
      "       'atherosclerosis or stenosis', 'Carotid Plaque', 'Condition'],\n",
      "      dtype='object')\n"
     ]
    }
   ],
   "source": [
    "data.columns = data.columns.str.replace('/', '÷')\n",
    "print(data.columns)"
   ]
  },
  {
   "cell_type": "code",
   "execution_count": 12,
   "metadata": {},
   "outputs": [
    {
     "data": {
      "text/plain": [
       "['SDRR',\n",
       " 'RMSSD',\n",
       " 'pNN50 (%)',\n",
       " 'Mean HR (bpm)',\n",
       " 'VLF Power',\n",
       " 'VLF Peak Frequency',\n",
       " 'LF Power',\n",
       " 'LF Peak Frequency',\n",
       " 'HF Power',\n",
       " 'HF Peak Frequency',\n",
       " 'LF÷HF Ratio',\n",
       " 'S',\n",
       " 'SD1',\n",
       " 'SD2',\n",
       " 'SD1÷SD2',\n",
       " 'ApEn',\n",
       " 'SampEn',\n",
       " 'DFA α1',\n",
       " 'DFA α2',\n",
       " 'D2']"
      ]
     },
     "execution_count": 12,
     "metadata": {},
     "output_type": "execute_result"
    }
   ],
   "source": [
    "time_metrics = ['SDRR', 'RMSSD', 'pNN50 (%)', 'Mean HR (bpm)']\n",
    "frequency_metrics = ['VLF Power',\n",
    "       'VLF Peak Frequency', 'LF Power', 'LF Peak Frequency', 'HF Power',\n",
    "       'HF Peak Frequency', 'LF÷HF Ratio']\n",
    "non_linear_metrics = ['S', 'SD1', 'SD2', 'SD1÷SD2',\n",
    "       'ApEn', 'SampEn', 'DFA α1', 'DFA α2', 'D2']\n",
    "\n",
    "indicator_columns = [*time_metrics, *frequency_metrics, *non_linear_metrics]\n",
    "indicator_columns"
   ]
  },
  {
   "cell_type": "markdown",
   "metadata": {},
   "source": [
    "# ECG and outliers"
   ]
  },
  {
   "cell_type": "code",
   "execution_count": 13,
   "metadata": {},
   "outputs": [
    {
     "name": "stdout",
     "output_type": "stream",
     "text": [
      "4120\n"
     ]
    },
    {
     "data": {
      "image/png": "[encoded data removed]",
      "text/plain": [
       "<Figure size 600x600 with 1 Axes>"
      ]
     },
     "metadata": {},
     "output_type": "display_data"
    }
   ],
   "source": [
    "print(data.shape[0])\n",
    "plt.figure(figsize=(6, 6))\n",
    "sns.countplot(data, y='id', hue = 'DPN')\n",
    "plt.title(\"Pre-cleaning Number of Data Points (20 Metrics Each) per Patient\")\n",
    "plt.grid(axis='x', alpha = 0.5)"
   ]
  },
  {
   "cell_type": "markdown",
   "metadata": {},
   "source": [
    "# Outlier removal"
   ]
  },
  {
   "cell_type": "code",
   "execution_count": 14,
   "metadata": {},
   "outputs": [],
   "source": [
    "from general_utils.OverallDetailComparisonPlot import OverallDetailComparisonPlot\n",
    "\n",
    "def draw_dist(metric, data = data):\n",
    "    plotter = OverallDetailComparisonPlot(data=data, \n",
    "    x_column=\"id\",\n",
    "    y_column=metric,\n",
    "    hue_column=\"DPN\",\n",
    "    title=f\"distribution in {metric}\",\n",
    "    detail_mode='box',\n",
    "    points = \"all\")\n",
    "\n",
    "    plotter.override_hover_data([\"t_start\", \"t_end\", \"id\", metric])\n",
    "    plotter.setup_general_layout(1200, 400, 1/10)\n",
    "    plotter.show()\n",
    "    return plotter"
   ]
  },
  {
   "cell_type": "markdown",
   "metadata": {},
   "source": [
    "## Outlier removal\n",
    "We remove all outliers using patient by patient approach."
   ]
  },
  {
   "cell_type": "code",
   "execution_count": 15,
   "metadata": {},
   "outputs": [],
   "source": [
    "import numpy as np\n",
    "import pandas as pd\n",
    "\n",
    "def find_patient_metric_outliers(data, metric, patient_id, threshold=1.5):\n",
    "    \"\"\"Finds IQR outliers for patient metric\"\"\"\n",
    "    patient = data[data[\"id\"] == patient_id]\n",
    "    q1 = patient[metric].quantile(0.25)\n",
    "    q3 = patient[metric].quantile(0.75)\n",
    "    iqr = q3 - q1\n",
    "    lower_bound = q1 - threshold * iqr\n",
    "    upper_bound = q3 + threshold * iqr\n",
    "    outliers = patient[(patient[metric] < lower_bound) | (patient[metric] > upper_bound)]\n",
    "    return outliers, lower_bound, upper_bound\n"
   ]
  },
  {
   "cell_type": "code",
   "execution_count": 16,
   "metadata": {},
   "outputs": [
    {
     "data": {
      "text/html": [
       "<div>\n",
       "<style scoped>\n",
       "    .dataframe tbody tr th:only-of-type {\n",
       "        vertical-align: middle;\n",
       "    }\n",
       "\n",
       "    .dataframe tbody tr th {\n",
       "        vertical-align: top;\n",
       "    }\n",
       "\n",
       "    .dataframe thead th {\n",
       "        text-align: right;\n",
       "    }\n",
       "</style>\n",
       "<table border=\"1\" class=\"dataframe\">\n",
       "  <thead>\n",
       "    <tr style=\"text-align: right;\">\n",
       "      <th></th>\n",
       "      <th>patient</th>\n",
       "      <th>DPN</th>\n",
       "      <th>metric</th>\n",
       "      <th>t_start</th>\n",
       "      <th>t_end</th>\n",
       "      <th>o_values</th>\n",
       "      <th>lower_bound</th>\n",
       "      <th>upper_bound</th>\n",
       "    </tr>\n",
       "  </thead>\n",
       "  <tbody>\n",
       "    <tr>\n",
       "      <th>21</th>\n",
       "      <td>31</td>\n",
       "      <td>False</td>\n",
       "      <td>SDRR</td>\n",
       "      <td>32424.128</td>\n",
       "      <td>33024.044</td>\n",
       "      <td>19044.651322</td>\n",
       "      <td>-1176.256074</td>\n",
       "      <td>1470.935135</td>\n",
       "    </tr>\n",
       "    <tr>\n",
       "      <th>22</th>\n",
       "      <td>33</td>\n",
       "      <td>False</td>\n",
       "      <td>SDRR</td>\n",
       "      <td>79249.188</td>\n",
       "      <td>79848.896</td>\n",
       "      <td>4632.090566</td>\n",
       "      <td>-593.107081</td>\n",
       "      <td>765.603403</td>\n",
       "    </tr>\n",
       "    <tr>\n",
       "      <th>23</th>\n",
       "      <td>33</td>\n",
       "      <td>False</td>\n",
       "      <td>SDRR</td>\n",
       "      <td>85253.848</td>\n",
       "      <td>85853.408</td>\n",
       "      <td>4711.372736</td>\n",
       "      <td>-593.107081</td>\n",
       "      <td>765.603403</td>\n",
       "    </tr>\n",
       "    <tr>\n",
       "      <th>24</th>\n",
       "      <td>38</td>\n",
       "      <td>True</td>\n",
       "      <td>SDRR</td>\n",
       "      <td>34875.292</td>\n",
       "      <td>35474.524</td>\n",
       "      <td>8835.514297</td>\n",
       "      <td>-596.065396</td>\n",
       "      <td>754.767928</td>\n",
       "    </tr>\n",
       "    <tr>\n",
       "      <th>25</th>\n",
       "      <td>38</td>\n",
       "      <td>True</td>\n",
       "      <td>SDRR</td>\n",
       "      <td>34219.976</td>\n",
       "      <td>34629.036</td>\n",
       "      <td>1046.216731</td>\n",
       "      <td>-596.065396</td>\n",
       "      <td>754.767928</td>\n",
       "    </tr>\n",
       "  </tbody>\n",
       "</table>\n",
       "</div>"
      ],
      "text/plain": [
       "    patient    DPN metric    t_start      t_end      o_values  lower_bound  \\\n",
       "21       31  False   SDRR  32424.128  33024.044  19044.651322 -1176.256074   \n",
       "22       33  False   SDRR  79249.188  79848.896   4632.090566  -593.107081   \n",
       "23       33  False   SDRR  85253.848  85853.408   4711.372736  -593.107081   \n",
       "24       38   True   SDRR  34875.292  35474.524   8835.514297  -596.065396   \n",
       "25       38   True   SDRR  34219.976  34629.036   1046.216731  -596.065396   \n",
       "\n",
       "    upper_bound  \n",
       "21  1470.935135  \n",
       "22   765.603403  \n",
       "23   765.603403  \n",
       "24   754.767928  \n",
       "25   754.767928  "
      ]
     },
     "execution_count": 16,
     "metadata": {},
     "output_type": "execute_result"
    }
   ],
   "source": [
    "threshold = 10\n",
    "\n",
    "def check_outliers(data, metric):\n",
    "    \"\"\"Returns a list of outliers for each patient for each metric\"\"\"\n",
    "    outlier_table = pd.DataFrame()\n",
    "    for patient in data.id.unique():\n",
    "\n",
    "        outliers, lower_bound, upper_bound = find_patient_metric_outliers(data, metric, patient, threshold)\n",
    "\n",
    "        if not outliers.empty:\n",
    "\n",
    "            df = pd.DataFrame({\n",
    "                \"patient\": patient,\n",
    "                \"DPN\" : data[data[\"id\"] == patient][\"DPN\"].values[0],\n",
    "                \"metric\": metric,\n",
    "                \"t_start\": outliers[\"t_start\"].values,\n",
    "                \"t_end\": outliers[\"t_end\"].values,\n",
    "                \"o_values\": outliers[metric].values,\n",
    "                \"lower_bound\": lower_bound,\n",
    "                \"upper_bound\": upper_bound\n",
    "            })\n",
    "\n",
    "            outlier_table = pd.concat([outlier_table, df])\n",
    "    return outlier_table.reset_index(drop=True)\n",
    "\n",
    "check_outliers(data, \"SDRR\").tail()"
   ]
  },
  {
   "cell_type": "code",
   "execution_count": 17,
   "metadata": {},
   "outputs": [
    {
     "data": {
      "text/html": [
       "<div>\n",
       "<style scoped>\n",
       "    .dataframe tbody tr th:only-of-type {\n",
       "        vertical-align: middle;\n",
       "    }\n",
       "\n",
       "    .dataframe tbody tr th {\n",
       "        vertical-align: top;\n",
       "    }\n",
       "\n",
       "    .dataframe thead th {\n",
       "        text-align: right;\n",
       "    }\n",
       "</style>\n",
       "<table border=\"1\" class=\"dataframe\">\n",
       "  <thead>\n",
       "    <tr style=\"text-align: right;\">\n",
       "      <th></th>\n",
       "      <th>patient</th>\n",
       "      <th>DPN</th>\n",
       "      <th>metric</th>\n",
       "      <th>t_start</th>\n",
       "      <th>t_end</th>\n",
       "      <th>o_values</th>\n",
       "      <th>lower_bound</th>\n",
       "      <th>upper_bound</th>\n",
       "    </tr>\n",
       "  </thead>\n",
       "  <tbody>\n",
       "    <tr>\n",
       "      <th>263</th>\n",
       "      <td>38</td>\n",
       "      <td>True</td>\n",
       "      <td>SD2</td>\n",
       "      <td>34875.292</td>\n",
       "      <td>35474.524</td>\n",
       "      <td>6239.946526</td>\n",
       "      <td>-614.792829</td>\n",
       "      <td>803.857335</td>\n",
       "    </tr>\n",
       "    <tr>\n",
       "      <th>264</th>\n",
       "      <td>38</td>\n",
       "      <td>True</td>\n",
       "      <td>SD2</td>\n",
       "      <td>34219.976</td>\n",
       "      <td>34629.036</td>\n",
       "      <td>1047.423083</td>\n",
       "      <td>-614.792829</td>\n",
       "      <td>803.857335</td>\n",
       "    </tr>\n",
       "    <tr>\n",
       "      <th>265</th>\n",
       "      <td>33</td>\n",
       "      <td>False</td>\n",
       "      <td>DFA α1</td>\n",
       "      <td>85253.848</td>\n",
       "      <td>85853.408</td>\n",
       "      <td>-1.057831</td>\n",
       "      <td>-0.967312</td>\n",
       "      <td>2.568696</td>\n",
       "    </tr>\n",
       "    <tr>\n",
       "      <th>266</th>\n",
       "      <td>14</td>\n",
       "      <td>False</td>\n",
       "      <td>D2</td>\n",
       "      <td>19811.536</td>\n",
       "      <td>20410.796</td>\n",
       "      <td>-63.331115</td>\n",
       "      <td>-20.437482</td>\n",
       "      <td>17.316324</td>\n",
       "    </tr>\n",
       "    <tr>\n",
       "      <th>267</th>\n",
       "      <td>37</td>\n",
       "      <td>True</td>\n",
       "      <td>D2</td>\n",
       "      <td>51036.572</td>\n",
       "      <td>51635.952</td>\n",
       "      <td>-224.622206</td>\n",
       "      <td>-102.042998</td>\n",
       "      <td>87.576685</td>\n",
       "    </tr>\n",
       "  </tbody>\n",
       "</table>\n",
       "</div>"
      ],
      "text/plain": [
       "     patient    DPN  metric    t_start      t_end     o_values  lower_bound  \\\n",
       "263       38   True     SD2  34875.292  35474.524  6239.946526  -614.792829   \n",
       "264       38   True     SD2  34219.976  34629.036  1047.423083  -614.792829   \n",
       "265       33  False  DFA α1  85253.848  85853.408    -1.057831    -0.967312   \n",
       "266       14  False      D2  19811.536  20410.796   -63.331115   -20.437482   \n",
       "267       37   True      D2  51036.572  51635.952  -224.622206  -102.042998   \n",
       "\n",
       "     upper_bound  \n",
       "263   803.857335  \n",
       "264   803.857335  \n",
       "265     2.568696  \n",
       "266    17.316324  \n",
       "267    87.576685  "
      ]
     },
     "execution_count": 17,
     "metadata": {},
     "output_type": "execute_result"
    }
   ],
   "source": [
    "full_outliers = pd.DataFrame()\n",
    "for metric in indicator_columns:\n",
    "    outliers = check_outliers(data, metric)\n",
    "    full_outliers = pd.concat([full_outliers, outliers])\n",
    "    full_outliers = full_outliers.reset_index(drop=True)\n",
    "full_outliers.tail()    "
   ]
  },
  {
   "cell_type": "markdown",
   "metadata": {},
   "source": [
    "### Are outlier more clustered around certain patients?"
   ]
  },
  {
   "cell_type": "code",
   "execution_count": 18,
   "metadata": {},
   "outputs": [
    {
     "data": {
      "image/png": "[encoded data removed]",
      "text/plain": [
       "<Figure size 800x300 with 1 Axes>"
      ]
     },
     "metadata": {},
     "output_type": "display_data"
    }
   ],
   "source": [
    "def draw_outlying_patients(full_outliers):\n",
    "    plt.figure(figsize=(8, 3))\n",
    "    # Count outliers per patient and DPN status\n",
    "    patient_counts = full_outliers.groupby(['patient', 'DPN']).size().reset_index(name='count')\n",
    "    patient_order = patient_counts.groupby('patient')['count'].sum().sort_values(ascending=False).index\n",
    "\n",
    "    # Create the countplot with sorted patients\n",
    "    sns.countplot(data=full_outliers, x=\"patient\", hue=\"DPN\", order=patient_order)\n",
    "    plt.title(\"Outliers per patient\")\n",
    "    plt.xticks(rotation=90);\n",
    "draw_outlying_patients(full_outliers)"
   ]
  },
  {
   "cell_type": "markdown",
   "metadata": {},
   "source": [
    "* Individual with most outliers had DPN.\n",
    "    * This individual appears to have outlying more outliers\n",
    "* DPN individuals could be producing more outliers; however it could be just small sample effect.\n",
    "* There is a lot outlier number variance between individuals."
   ]
  },
  {
   "cell_type": "markdown",
   "metadata": {},
   "source": [
    "### Which metrics are most prone to outliers?"
   ]
  },
  {
   "cell_type": "code",
   "execution_count": 19,
   "metadata": {},
   "outputs": [
    {
     "data": {
      "image/png": "[encoded data removed]",
      "text/plain": [
       "<Figure size 600x300 with 1 Axes>"
      ]
     },
     "metadata": {},
     "output_type": "display_data"
    }
   ],
   "source": [
    "plt.figure(figsize=(6, 3))\n",
    "sns.countplot(data=full_outliers, x=\"metric\")\n",
    "plt.title(\"Outliers per metric\")\n",
    "plt.xticks(rotation=90);"
   ]
  },
  {
   "cell_type": "code",
   "execution_count": null,
   "metadata": {},
   "outputs": [],
   "source": []
  },
  {
   "cell_type": "markdown",
   "metadata": {},
   "source": [
    "Remove outliers from linear domain metrics."
   ]
  },
  {
   "cell_type": "code",
   "execution_count": null,
   "metadata": {},
   "outputs": [],
   "source": []
  },
  {
   "cell_type": "markdown",
   "metadata": {},
   "source": [
    "There is something going on with frequency components. Linear metrics appear to be cleanest"
   ]
  },
  {
   "cell_type": "code",
   "execution_count": 20,
   "metadata": {},
   "outputs": [
    {
     "name": "stdout",
     "output_type": "stream",
     "text": [
      "total outliers: 105\n"
     ]
    },
    {
     "data": {
      "text/plain": [
       "Text(0.5, 1.0, 'Number of Outliers per ECG segment')"
      ]
     },
     "execution_count": 20,
     "metadata": {},
     "output_type": "execute_result"
    },
    {
     "data": {
      "image/png": "[encoded data removed]",
      "text/plain": [
       "<Figure size 500x200 with 1 Axes>"
      ]
     },
     "metadata": {},
     "output_type": "display_data"
    }
   ],
   "source": [
    "outlier_counts = full_outliers.groupby([\"patient\", \"t_start\"]).agg({\"metric\": \"count\"}).sort_values(\"metric\", ascending=False)\n",
    "print(\"total outliers:\", outlier_counts.shape[0])\n",
    "plt.figure(figsize=(5, 2))\n",
    "sns.countplot(data=outlier_counts, x=\"metric\")\n",
    "plt.title(\"Number of Outliers per ECG segment\")"
   ]
  },
  {
   "cell_type": "markdown",
   "metadata": {},
   "source": [
    "A segment with numerous outlying values likely indicates and error in ECG measurement.\n",
    "**TODO: CONFIRM IT THE MANUALLY WAY**\n",
    "\n",
    "* Poisson distribution in outliers would indicate randomness, however, the tail is too long.\n",
    "* Most outliers are single instance only.\n",
    "\n",
    "Since segments with multiple outliers indicate errors in measurement procedure, they will be removed."
   ]
  },
  {
   "cell_type": "markdown",
   "metadata": {},
   "source": [
    "Disable automatic outlier removal for now"
   ]
  },
  {
   "cell_type": "code",
   "execution_count": 21,
   "metadata": {},
   "outputs": [
    {
     "name": "stdout",
     "output_type": "stream",
     "text": [
      "(4120, 63)\n",
      "(4120, 63)\n"
     ]
    }
   ],
   "source": [
    "print(data.shape)\n",
    "\n",
    "outlier_counts = outlier_counts[outlier_counts[\"metric\"] > 0]\n",
    "patient_mask = data[\"id\"].isin(outlier_counts.index.get_level_values(0))\n",
    "time_start_mask = data[\"t_start\"].isin(outlier_counts.index.get_level_values(1))\n",
    "#data = data[~(patient_mask & time_start_mask)]\n",
    "\n",
    "print(data.shape)\n"
   ]
  },
  {
   "cell_type": "markdown",
   "metadata": {},
   "source": [
    "Discarded 1/6th of the values. This is unacceptable and caused by Errors in the PSD metric calculation and functions Need to fix ASAP."
   ]
  },
  {
   "cell_type": "code",
   "execution_count": null,
   "metadata": {},
   "outputs": [],
   "source": []
  },
  {
   "cell_type": "markdown",
   "metadata": {},
   "source": [
    "### SDRR"
   ]
  },
  {
   "cell_type": "markdown",
   "metadata": {},
   "source": [
    "Some obvious outliers removed by hand above"
   ]
  },
  {
   "cell_type": "markdown",
   "metadata": {},
   "source": [
    "## Data density"
   ]
  },
  {
   "cell_type": "code",
   "execution_count": 22,
   "metadata": {},
   "outputs": [
    {
     "name": "stdout",
     "output_type": "stream",
     "text": [
      "4120\n"
     ]
    },
    {
     "data": {
      "image/png": "[encoded data removed]",
      "text/plain": [
       "<Figure size 600x600 with 1 Axes>"
      ]
     },
     "metadata": {},
     "output_type": "display_data"
    }
   ],
   "source": [
    "print(data.shape[0])\n",
    "\n",
    "data.reset_index(drop=True, inplace=True)\n",
    "plt.figure(figsize=(6, 6))\n",
    "sns.countplot(data, y='id', hue = 'DPN')\n",
    "plt.title(\"Post-cleaning Number of Data Points (20 Metrics Each) per Patient\")\n",
    "plt.grid(axis='x', alpha = 0.5)"
   ]
  },
  {
   "cell_type": "markdown",
   "metadata": {},
   "source": [
    "The DPN patients are not significantly undersampled, which is good.\n",
    "\n",
    "TODO: Decide whether the >60 patients are grounds for concern"
   ]
  },
  {
   "cell_type": "markdown",
   "metadata": {},
   "source": [
    "## Obvious outliers"
   ]
  },
  {
   "cell_type": "code",
   "execution_count": null,
   "metadata": {},
   "outputs": [],
   "source": []
  },
  {
   "cell_type": "code",
   "execution_count": 23,
   "metadata": {},
   "outputs": [
    {
     "data": {
      "text/plain": [
       "['SDRR', 'RMSSD', 'pNN50 (%)', 'Mean HR (bpm)']"
      ]
     },
     "execution_count": 23,
     "metadata": {},
     "output_type": "execute_result"
    }
   ],
   "source": [
    "time_metrics"
   ]
  },
  {
   "cell_type": "code",
   "execution_count": null,
   "metadata": {},
   "outputs": [],
   "source": [
    "\n"
   ]
  },
  {
   "cell_type": "code",
   "execution_count": 24,
   "metadata": {},
   "outputs": [
    {
     "name": "stdout",
     "output_type": "stream",
     "text": [
      "<class 'pandas.core.series.Series'>\n",
      "RangeIndex: 4120 entries, 0 to 4119\n",
      "Series name: D2\n",
      "Non-Null Count  Dtype  \n",
      "--------------  -----  \n",
      "3466 non-null   float64\n",
      "dtypes: float64(1)\n",
      "memory usage: 32.3 KB\n"
     ]
    }
   ],
   "source": [
    "data[\"D2\"].info()"
   ]
  },
  {
   "cell_type": "code",
   "execution_count": 25,
   "metadata": {},
   "outputs": [
    {
     "name": "stdout",
     "output_type": "stream",
     "text": [
      "4120\n",
      "4074\n"
     ]
    }
   ],
   "source": [
    "print(data.shape[0])\n",
    "data = data[(data[\"D2\"]<10) | ~(data[\"D2\"] == np.nan)]\n",
    "data = data[(data[\"D2\"]>-30) | ~(data[\"D2\"] == np.nan)]\n",
    "\n",
    "\n",
    "data = data[data[\"SDRR\"]<310]\n",
    "data = data[data[\"Mean HR (bpm)\"]>40]\n",
    "data = data[data[\"VLF Power\"]<0.0002]\n",
    "print(data.shape[0])"
   ]
  },
  {
   "cell_type": "markdown",
   "metadata": {},
   "source": [
    "# Patients as outliers"
   ]
  },
  {
   "cell_type": "code",
   "execution_count": 26,
   "metadata": {},
   "outputs": [
    {
     "data": {
      "text/plain": [
       "<Axes: xlabel='t_start', ylabel='id'>"
      ]
     },
     "execution_count": 26,
     "metadata": {},
     "output_type": "execute_result"
    },
    {
     "data": {
      "image/png": "[encoded data removed]",
      "text/plain": [
       "<Figure size 640x480 with 1 Axes>"
      ]
     },
     "metadata": {},
     "output_type": "display_data"
    }
   ],
   "source": [
    "sns.lineplot(data=data, y='id', x='t_start', hue = 'id')"
   ]
  },
  {
   "cell_type": "markdown",
   "metadata": {},
   "source": [
    "# Save the data"
   ]
  },
  {
   "cell_type": "code",
   "execution_count": 27,
   "metadata": {},
   "outputs": [],
   "source": [
    "import pickle\n",
    "\n",
    "# Create a dictionary to store the data and metrics\n",
    "data_to_pickle = {\n",
    "    'data': data,\n",
    "    'indicator_columns': indicator_columns,\n",
    "    'time_metrics': time_metrics,\n",
    "    'frequency_metrics': frequency_metrics,\n",
    "    'non_linear_metrics': non_linear_metrics\n",
    "}\n",
    "\n",
    "\n",
    "# Save the dictionary to a pickle file\n",
    "with open(result_path, 'wb') as file:\n",
    "    pickle.dump(data_to_pickle, file)"
   ]
  }
 ],
 "metadata": {
  "kernelspec": {
   "display_name": "Python 3",
   "language": "python",
   "name": "python3"
  },
  "language_info": {
   "codemirror_mode": {
    "name": "ipython",
    "version": 3
   },
   "file_extension": ".py",
   "mimetype": "text/x-python",
   "name": "python",
   "nbconvert_exporter": "python",
   "pygments_lexer": "ipython3",
   "version": "3.11.0"
  }
 },
 "nbformat": 4,
 "nbformat_minor": 2
}
